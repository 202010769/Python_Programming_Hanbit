{
 "cells": [
  {
   "cell_type": "markdown",
   "id": "47d1f75e",
   "metadata": {},
   "source": [
    "# Chapter 01. 프로그래밍 언어와 파이썬"
   ]
  },
  {
   "cell_type": "markdown",
   "id": "61591b36",
   "metadata": {},
   "source": [
    "## 01. 프로그래밍 언어의 이해"
   ]
  },
  {
   "cell_type": "code",
   "execution_count": null,
   "id": "a24a9890",
   "metadata": {},
   "outputs": [],
   "source": []
  },
  {
   "cell_type": "markdown",
   "id": "3db61e54",
   "metadata": {},
   "source": [
    "## 02. 파이썬 소개"
   ]
  },
  {
   "cell_type": "markdown",
   "id": "0f61ed3a",
   "metadata": {},
   "source": [
    "## 03. 파이썬 개발 환경과 설치"
   ]
  },
  {
   "cell_type": "markdown",
   "id": "a86a675e",
   "metadata": {},
   "source": [
    "## 요약"
   ]
  },
  {
   "cell_type": "markdown",
   "id": "bb3e965e",
   "metadata": {},
   "source": [
    "## 연습문제"
   ]
  }
 ],
 "metadata": {
  "kernelspec": {
   "display_name": "Python 3 (ipykernel)",
   "language": "python",
   "name": "python3"
  },
  "language_info": {
   "codemirror_mode": {
    "name": "ipython",
    "version": 3
   },
   "file_extension": ".py",
   "mimetype": "text/x-python",
   "name": "python",
   "nbconvert_exporter": "python",
   "pygments_lexer": "ipython3",
   "version": "3.9.6"
  }
 },
 "nbformat": 4,
 "nbformat_minor": 5
}
