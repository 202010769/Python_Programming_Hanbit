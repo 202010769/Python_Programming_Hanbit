{
 "cells": [
  {
   "cell_type": "markdown",
   "id": "6571906a",
   "metadata": {},
   "source": [
    "# Chapter 05 함수 "
   ]
  },
  {
   "cell_type": "markdown",
   "id": "f4a50626",
   "metadata": {},
   "source": [
    "## 01. 함수 기초 "
   ]
  },
  {
   "cell_type": "markdown",
   "id": "0c621d22",
   "metadata": {},
   "source": [
    "## 02. 함수 심화 "
   ]
  },
  {
   "cell_type": "markdown",
   "id": "3d36a59d",
   "metadata": {},
   "source": [
    "## 03. 함수의 인수"
   ]
  },
  {
   "cell_type": "markdown",
   "id": "4a60a7fa",
   "metadata": {},
   "source": [
    "## 04. 좋은 코드를 작성하는 방법"
   ]
  },
  {
   "cell_type": "markdown",
   "id": "d6d6fd16",
   "metadata": {},
   "source": [
    "## 요약"
   ]
  },
  {
   "cell_type": "markdown",
   "id": "b174bd72",
   "metadata": {},
   "source": [
    "## 연습문제"
   ]
  },
  {
   "cell_type": "markdown",
   "id": "3da46478",
   "metadata": {},
   "source": [
    "**1. 다음 코드의 실행 결과를 쓰시오.**"
   ]
  },
  {
   "cell_type": "code",
   "execution_count": 1,
   "id": "02f6dafd",
   "metadata": {},
   "outputs": [
    {
     "name": "stdout",
     "output_type": "stream",
     "text": [
      "Before: 10\n",
      "In Function: 20\n",
      "After: 10\n"
     ]
    }
   ],
   "source": [
    "def test(t):\n",
    "    t = 20\n",
    "    print(\"In Function:\", t)\n",
    "    \n",
    "x = 10\n",
    "print(\"Before:\", x)\n",
    "test(x)\n",
    "print(\"After:\", x)"
   ]
  },
  {
   "cell_type": "markdown",
   "id": "667630e6",
   "metadata": {},
   "source": [
    "test라는 함수 정의.\\\n",
    "t값을 받고, t값을 20으로 재정의 후, 함수 내에서의 값 출력\\\n",
    "x = 10\\\n",
    "test(t) 함수에 들어가기 전에 x는 10 그대로\\\n",
    "test(t) 함수 실행 In Function: 20이 출력\\\n",
    "그러나 after도 그대로 x값은 10"
   ]
  },
  {
   "cell_type": "markdown",
   "id": "50edf971",
   "metadata": {},
   "source": [
    "**2. 다음 코드의 실행 결과를 쓰시오.**"
   ]
  },
  {
   "cell_type": "code",
   "execution_count": 3,
   "id": "1efae064",
   "metadata": {},
   "outputs": [
    {
     "name": "stdout",
     "output_type": "stream",
     "text": [
      "None\n"
     ]
    }
   ],
   "source": [
    "def sorting_function(list_value):\n",
    "    return list_value.sort()\n",
    "\n",
    "print(sorting_function([5, 4, 3, 2, 1]))"
   ]
  },
  {
   "cell_type": "markdown",
   "id": "4f9dd40c",
   "metadata": {},
   "source": [
    "이 sorting_function 함수는 참조 호출(call by reference)이다.\\\n",
    "그러므로 함수 안의 인수값이 정렬될 때, 호출된 변수값도 정렬된다\\\n",
    "그리고, sort() 함수는 제자리 정렬, 기존 변수가 정렬되는 것으로 반환 값은 None이다 "
   ]
  },
  {
   "cell_type": "markdown",
   "id": "b5a82c2b",
   "metadata": {},
   "source": [
    "**3. 다음 코드의 실행 결과를 쓰시오.**"
   ]
  },
  {
   "cell_type": "code",
   "execution_count": 15,
   "id": "9db17fff",
   "metadata": {},
   "outputs": [
    {
     "data": {
      "text/plain": [
       "''"
      ]
     },
     "execution_count": 15,
     "metadata": {},
     "output_type": "execute_result"
    }
   ],
   "source": [
    "number = \"100\"\n",
    "def midterm(number):\n",
    "    result = \"\"\n",
    "    if number.isdigit() is True:\n",
    "        if number == 100:\n",
    "            if number/10 == 1:\n",
    "                result = 1\n",
    "    else:\n",
    "        result = 2\n",
    "    \n",
    "    return result\n",
    "\n",
    "result = midterm(\"100\")\n",
    "result"
   ]
  },
  {
   "cell_type": "markdown",
   "id": "410de9e0",
   "metadata": {},
   "source": [
    "위 코드는 number에 문자열 100이라는 값을 넣어줬고, midterm이라는 함수를 정의해주었다\\\n",
    "그러나 midterm 함수를 호출해주진 않았으므로, 함수가 실행되진 않음\\\n",
    "midterm 함수 내부 코드를 보자면 result라는 문자열 값이 들어갈 변수를 초기화 시켜주고,\\\n",
    "만약 number가 모두 숫자로만 이루어진 문자열이면서, 숫자형 100의 값을 갖고, number / 10의 값이 1이라면 result값으로 True를 반환해주고, 그렇지 않다면, False를 반환한다."
   ]
  },
  {
   "cell_type": "markdown",
   "id": "ea5688df",
   "metadata": {},
   "source": [
    "**4. 다음과 같이 코드를 작성했을 때, 실행 결과로 알맞은 것은?**"
   ]
  },
  {
   "cell_type": "markdown",
   "id": "ef8e564b",
   "metadata": {},
   "source": [
    "3번 None"
   ]
  },
  {
   "cell_type": "code",
   "execution_count": 19,
   "id": "22b85890",
   "metadata": {},
   "outputs": [
    {
     "name": "stdout",
     "output_type": "stream",
     "text": [
      "None\n"
     ]
    }
   ],
   "source": [
    "def is_yes(your_answer):\n",
    "    if your_answer.upper() == \"YES\" or you_answer.upper() == \"Y\":\n",
    "        result = your_answer.lower()\n",
    "        \n",
    "print(is_yes(\"Yes\"))"
   ]
  },
  {
   "cell_type": "markdown",
   "id": "c8c040a5",
   "metadata": {},
   "source": [
    "your_answer를 받아서 your_answer의 값을 모두 대문자로 한 것이 \"YES\"이거나, \"Y\"인 경우,\\\n",
    "result는 your_answer의 값을 lower() 함수를 이용해 모두 소문자로 바꾼 것이다\\\n",
    "그러나 is_yes 함수는 매개변수만 있고, 반환값을 리턴하지 않는 함수이다.\\\n",
    "따라서, is_yes() 함수에 인수 \"Yes\"를 넣어도 리턴값이 없어 None값을 출력한다\\\n",
    "return result가 있었다면, yes를 출력할 것"
   ]
  },
  {
   "cell_type": "markdown",
   "id": "35261f5e",
   "metadata": {},
   "source": [
    "**5. 다음과 같이 코드를 작성했을 때, 실행 결과로 알맞은 것은?**"
   ]
  },
  {
   "cell_type": "markdown",
   "id": "c9dfdefb",
   "metadata": {},
   "source": [
    "4번 False"
   ]
  },
  {
   "cell_type": "code",
   "execution_count": 20,
   "id": "ec2b30a2",
   "metadata": {},
   "outputs": [
    {
     "name": "stdout",
     "output_type": "stream",
     "text": [
      "False\n"
     ]
    }
   ],
   "source": [
    "def add_and_mul(a, b, c):\n",
    "    return b + a * c + b\n",
    "\n",
    "print(add_and_mul(3, 4, 5) == 63)"
   ]
  },
  {
   "cell_type": "markdown",
   "id": "31089ad8",
   "metadata": {},
   "source": [
    "a = 3, b = 4, c = 5이다.\\\n",
    "b + a * c + b  = a * c + 2b = 15 + 8 = 23\\\n",
    "add_and_mul() 함수의 반환값이 23\\\n",
    "23 != 63이므로 False가 출력된다"
   ]
  },
  {
   "cell_type": "markdown",
   "id": "cc6f65d4",
   "metadata": {},
   "source": [
    "**6. 다음과 같이 코드를 작성했을 때, 실행 결과로 알맞은 것은?**"
   ]
  },
  {
   "cell_type": "markdown",
   "id": "023baa4a",
   "metadata": {},
   "source": [
    "3번 TypeError"
   ]
  },
  {
   "cell_type": "code",
   "execution_count": 21,
   "id": "83acce95",
   "metadata": {},
   "outputs": [
    {
     "ename": "TypeError",
     "evalue": "args_test_3() missing 1 required keyword-only argument: 'three'",
     "output_type": "error",
     "traceback": [
      "\u001b[1;31m---------------------------------------------------------------------------\u001b[0m",
      "\u001b[1;31mTypeError\u001b[0m                                 Traceback (most recent call last)",
      "\u001b[1;32m~\\AppData\\Local\\Temp/ipykernel_17476/1491097669.py\u001b[0m in \u001b[0;36m<module>\u001b[1;34m\u001b[0m\n\u001b[0;32m      3\u001b[0m     \u001b[0mprint\u001b[0m\u001b[1;33m(\u001b[0m\u001b[0margs\u001b[0m\u001b[1;33m)\u001b[0m\u001b[1;33m\u001b[0m\u001b[1;33m\u001b[0m\u001b[0m\n\u001b[0;32m      4\u001b[0m \u001b[1;33m\u001b[0m\u001b[0m\n\u001b[1;32m----> 5\u001b[1;33m \u001b[0margs_test_3\u001b[0m\u001b[1;33m(\u001b[0m\u001b[1;36m3\u001b[0m\u001b[1;33m,\u001b[0m \u001b[1;36m4\u001b[0m\u001b[1;33m,\u001b[0m \u001b[1;36m5\u001b[0m\u001b[1;33m,\u001b[0m \u001b[1;36m6\u001b[0m\u001b[1;33m,\u001b[0m \u001b[1;36m7\u001b[0m\u001b[1;33m)\u001b[0m\u001b[1;33m\u001b[0m\u001b[1;33m\u001b[0m\u001b[0m\n\u001b[0m",
      "\u001b[1;31mTypeError\u001b[0m: args_test_3() missing 1 required keyword-only argument: 'three'"
     ]
    }
   ],
   "source": [
    "def args_test_3(one, two, *args, three):\n",
    "    print(one + two + sum(args))\n",
    "    print(args)\n",
    "\n",
    "args_test_3(3, 4, 5, 6, 7)"
   ]
  },
  {
   "cell_type": "markdown",
   "id": "35c9a4a5",
   "metadata": {},
   "source": [
    "\\*args는 나머지 인수들을 모두 해당하게 끔 하는 것.\\\n",
    "181p에 나온 것 처럼 반드시 일반적인 키워드 인수가 모두 끝난 후 넣어야 한다\\\n",
    "one에 3, two에 4, \\*args에 5,6,7이 들어갈 것이라고 생각됨\\\n",
    "그럼 매개변수 three에는 아무런 인자도 오지 않음\\\n",
    "함수에서는 매개변수의 개수와 인수의 개수가 동일해야함\\\n",
    "그렇기에 TypeError 발생"
   ]
  },
  {
   "cell_type": "markdown",
   "id": "1e39ffd3",
   "metadata": {},
   "source": [
    "**7. 다음 코드의 실행 결과를 쓰시오.**"
   ]
  },
  {
   "cell_type": "code",
   "execution_count": 22,
   "id": "36dd0cf1",
   "metadata": {},
   "outputs": [
    {
     "name": "stdout",
     "output_type": "stream",
     "text": [
      "['green', 'blue']\n"
     ]
    }
   ],
   "source": [
    "def rain(colors):\n",
    "    colors.append(\"purple\")\n",
    "    colors = [\"green\", \"blue\"]\n",
    "    return colors\n",
    "\n",
    "rainbow = [\"red\", \"orange\"]\n",
    "print(rain(rainbow))"
   ]
  },
  {
   "cell_type": "markdown",
   "id": "48bb7b7c",
   "metadata": {},
   "source": [
    "rain함수를 호출하고 colors값으로 리스트 rainbow를 넣어줌\\\n",
    "rainbow = [\"red\", \"orange\"]\\\n",
    "colors = [\"red\", \"orange\"]가 됨\\\n",
    "그런데, 함수 내부에서 colors를 [\"green\", \"blue\"]로 재할당해줌\n",
    "그 후 colors값을 return\\\n",
    "그러면 그냥 [\"green\", \"blue\"]가 출력됨"
   ]
  },
  {
   "cell_type": "markdown",
   "id": "37edec24",
   "metadata": {},
   "source": [
    "**8. 다음 코드의 실행 결과를 쓰시오.**"
   ]
  },
  {
   "cell_type": "code",
   "execution_count": 23,
   "id": "a7baae58",
   "metadata": {},
   "outputs": [
    {
     "name": "stdout",
     "output_type": "stream",
     "text": [
      "8\n",
      "None\n"
     ]
    }
   ],
   "source": [
    "def function(value):\n",
    "    print(value ** 3)\n",
    "    \n",
    "print(function(2))"
   ]
  },
  {
   "cell_type": "markdown",
   "id": "dcc99e64",
   "metadata": {},
   "source": [
    "function 함수에 2라는 인수를 넣어 실행시켜줌\\\n",
    "value ** 3 = 2 ** 3 = 8\\\n",
    "8이 출력됨\n",
    "그리고, 이 함수는 반환값이 없기에 8 뒤에 None이 출력됨"
   ]
  },
  {
   "cell_type": "markdown",
   "id": "6670865f",
   "metadata": {},
   "source": [
    "**9. 다음 코드의 실행 결과를 쓰시오.**"
   ]
  },
  {
   "cell_type": "code",
   "execution_count": 24,
   "id": "faf5fc20",
   "metadata": {},
   "outputs": [
    {
     "name": "stdout",
     "output_type": "stream",
     "text": [
      "appl\n"
     ]
    }
   ],
   "source": [
    "def get_apple(fruit):\n",
    "    fruit = list(fruit)\n",
    "    fruit.append(\"e\")\n",
    "    fruit = [\"apple\"]\n",
    "    return fruit\n",
    "\n",
    "fruit = \"appl\"\n",
    "get_apple(fruit)\n",
    "print(fruit)"
   ]
  },
  {
   "cell_type": "markdown",
   "id": "1415c9c4",
   "metadata": {},
   "source": [
    "fruit = \"appl\"\\\n",
    "get_apple에 그 fruit을 넣어줌\\\n",
    "문자열 값을 저장하고 있는 fruit을 list() 함수를 사용하여 각 요소의 값으로 리스트를 만들어줌\\\n",
    "fruit = [\"a\", \"p\", \"p\",\"l\"]\\\n",
    "fruit.append(\"e\") -> fruit = [\"a\", \"p\", \"p\",\"l\",\"e\"]\\\n",
    "리스트 fruit이 [\"apple\"]로 재할당됨\\\n",
    "get_apple(fruit)의 반환값은 [\"apple\"]\n",
    "그러나 fruit은 함수 밖으로 나오는 순간 의미가 없어짐\\\n",
    "print(fruit)은 그대로 appl임"
   ]
  },
  {
   "cell_type": "markdown",
   "id": "e5b23788",
   "metadata": {},
   "source": [
    "**10. 다음과 같이 코드를 작성했을 때, 실행 결과로 알맞은 것은?**"
   ]
  },
  {
   "cell_type": "code",
   "execution_count": 25,
   "id": "7356f1b0",
   "metadata": {},
   "outputs": [
    {
     "name": "stdout",
     "output_type": "stream",
     "text": [
      "I Love You543210\n"
     ]
    }
   ],
   "source": [
    "def return_sentence(sentence, n):\n",
    "    sentence += str(n)\n",
    "    n -= 1\n",
    "    if n < 0:\n",
    "        return sentence\n",
    "    else:\n",
    "        return(return_sentence(sentence, n))\n",
    "\n",
    "sentence = \"I Love You\"\n",
    "print(return_sentence(sentence, 5))"
   ]
  },
  {
   "cell_type": "markdown",
   "id": "86dd1ad3",
   "metadata": {},
   "source": []
  }
 ],
 "metadata": {
  "kernelspec": {
   "display_name": "Python 3 (ipykernel)",
   "language": "python",
   "name": "python3"
  },
  "language_info": {
   "codemirror_mode": {
    "name": "ipython",
    "version": 3
   },
   "file_extension": ".py",
   "mimetype": "text/x-python",
   "name": "python",
   "nbconvert_exporter": "python",
   "pygments_lexer": "ipython3",
   "version": "3.9.7"
  }
 },
 "nbformat": 4,
 "nbformat_minor": 5
}
