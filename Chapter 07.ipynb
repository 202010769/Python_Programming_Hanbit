{
 "cells": [
  {
   "cell_type": "markdown",
   "id": "daf76fe3",
   "metadata": {},
   "source": [
    "1. 파이썬 셸에서 다음과 같은 실행 결과들을 얻기 위해 빈칸에 알맞은 값을 순서대로 나열한 것은?"
   ]
  },
  {
   "cell_type": "code",
   "execution_count": 1,
   "id": "3d288066",
   "metadata": {},
   "outputs": [
    {
     "data": {
      "text/plain": [
       "243"
      ]
     },
     "execution_count": 1,
     "metadata": {},
     "output_type": "execute_result"
    }
   ],
   "source": [
    "3 ** 5"
   ]
  },
  {
   "cell_type": "code",
   "execution_count": 2,
   "id": "8e9f7e8f",
   "metadata": {},
   "outputs": [
    {
     "data": {
      "text/plain": [
       "3"
      ]
     },
     "execution_count": 2,
     "metadata": {},
     "output_type": "execute_result"
    }
   ],
   "source": [
    "15 % 4"
   ]
  },
  {
   "cell_type": "code",
   "execution_count": 14,
   "id": "08a4ff9b",
   "metadata": {},
   "outputs": [],
   "source": [
    "a = 4"
   ]
  },
  {
   "cell_type": "code",
   "execution_count": 15,
   "id": "297fcb09",
   "metadata": {},
   "outputs": [
    {
     "name": "stdout",
     "output_type": "stream",
     "text": [
      "1\n"
     ]
    }
   ],
   "source": [
    "a -= 3\n",
    "print(a)"
   ]
  },
  {
   "cell_type": "code",
   "execution_count": 16,
   "id": "639508f8",
   "metadata": {},
   "outputs": [
    {
     "data": {
      "text/plain": [
       "dict"
      ]
     },
     "execution_count": 16,
     "metadata": {},
     "output_type": "execute_result"
    }
   ],
   "source": [
    "a = {'prof.choi' : 'The best'}\n",
    "type(a)"
   ]
  },
  {
   "cell_type": "markdown",
   "id": "98c2248b",
   "metadata": {},
   "source": [
    "2."
   ]
  },
  {
   "cell_type": "code",
   "execution_count": 18,
   "id": "88e8f1a7",
   "metadata": {},
   "outputs": [
    {
     "name": "stdout",
     "output_type": "stream",
     "text": [
      "[1, 3, 4, 5]\n"
     ]
    }
   ],
   "source": [
    "list_1 = [0, 3, 1, 7, 5, 0, 5, 8, 0, 4]\n",
    "def quiz_2(list_data):\n",
    "    a = set(list_data)\n",
    "    return (list(a)[1:5])\n",
    "print(quiz_2(list_1))"
   ]
  },
  {
   "cell_type": "markdown",
   "id": "bfe635ca",
   "metadata": {},
   "source": [
    "quiz_2 함수는 매개변수로 들어온 리스트를 세트로 변경하여 a에 저장.\\\n",
    "set는 중복이 허용되지 않음!\\\n",
    "a = {0, 1, 3, 4, 5, 7, 8}\\\n",
    "반환할 때는 a를 다시 리스트로 바꾼 다음, 1번 인덱스부터 4번 인덱스까지만 반환\\\n",
    "[1, 3, 4, 5]"
   ]
  },
  {
   "cell_type": "markdown",
   "id": "00d87123",
   "metadata": {},
   "source": [
    "3."
   ]
  },
  {
   "cell_type": "markdown",
   "id": "aa045a67",
   "metadata": {},
   "source": [
    "(가) -  스택, (나) - 큐, (다) - 튜플, (라) - 세트"
   ]
  },
  {
   "cell_type": "markdown",
   "id": "cc5c93bd",
   "metadata": {},
   "source": [
    "4."
   ]
  },
  {
   "cell_type": "code",
   "execution_count": 20,
   "id": "158d69fb",
   "metadata": {},
   "outputs": [],
   "source": [
    "country_code = {\"America\" : 1, \"Korea\" : 82, \"China\" : 86, \"Japan\" : 81}"
   ]
  },
  {
   "cell_type": "code",
   "execution_count": 21,
   "id": "b4a75286",
   "metadata": {},
   "outputs": [
    {
     "data": {
      "text/plain": [
       "dict_values([1, 82, 86, 81])"
      ]
     },
     "execution_count": 21,
     "metadata": {},
     "output_type": "execute_result"
    }
   ],
   "source": [
    "country_code.values()"
   ]
  },
  {
   "cell_type": "code",
   "execution_count": 22,
   "id": "ba21c503",
   "metadata": {},
   "outputs": [
    {
     "data": {
      "text/plain": [
       "{'America': 1, 'Korea': 82, 'China': 86, 'Japan': 81}"
      ]
     },
     "execution_count": 22,
     "metadata": {},
     "output_type": "execute_result"
    }
   ],
   "source": [
    "country_code"
   ]
  },
  {
   "cell_type": "code",
   "execution_count": 23,
   "id": "3986e43d",
   "metadata": {},
   "outputs": [
    {
     "data": {
      "text/plain": [
       "dict_keys(['America', 'Korea', 'China', 'Japan'])"
      ]
     },
     "execution_count": 23,
     "metadata": {},
     "output_type": "execute_result"
    }
   ],
   "source": [
    "country_code.keys()"
   ]
  },
  {
   "cell_type": "code",
   "execution_count": 24,
   "id": "f5fcd59b",
   "metadata": {},
   "outputs": [
    {
     "data": {
      "text/plain": [
       "False"
      ]
     },
     "execution_count": 24,
     "metadata": {},
     "output_type": "execute_result"
    }
   ],
   "source": [
    "85 in country_code.values()"
   ]
  },
  {
   "cell_type": "code",
   "execution_count": 25,
   "id": "4e2e6e4a",
   "metadata": {},
   "outputs": [
    {
     "data": {
      "text/plain": [
       "True"
      ]
     },
     "execution_count": 25,
     "metadata": {},
     "output_type": "execute_result"
    }
   ],
   "source": [
    "\"Korea\" in country_code.keys()"
   ]
  },
  {
   "cell_type": "markdown",
   "id": "603055b4",
   "metadata": {},
   "source": [
    "5."
   ]
  },
  {
   "cell_type": "code",
   "execution_count": 26,
   "id": "2c5b3cdd",
   "metadata": {},
   "outputs": [
    {
     "ename": "TypeError",
     "evalue": "can only concatenate str (not \"int\") to str",
     "output_type": "error",
     "traceback": [
      "\u001b[1;31m---------------------------------------------------------------------------\u001b[0m",
      "\u001b[1;31mTypeError\u001b[0m                                 Traceback (most recent call last)",
      "\u001b[1;32m~\\AppData\\Local\\Temp/ipykernel_10832/1597801285.py\u001b[0m in \u001b[0;36m<module>\u001b[1;34m\u001b[0m\n\u001b[0;32m      2\u001b[0m \u001b[0mmidterm_set\u001b[0m \u001b[1;33m=\u001b[0m \u001b[0mset\u001b[0m\u001b[1;33m(\u001b[0m\u001b[1;33m[\u001b[0m\u001b[1;36m1\u001b[0m\u001b[1;33m,\u001b[0m\u001b[1;36m5\u001b[0m\u001b[1;33m,\u001b[0m\u001b[1;36m7\u001b[0m\u001b[1;33m,\u001b[0m\u001b[1;36m4\u001b[0m\u001b[1;33m,\u001b[0m\u001b[1;36m3\u001b[0m\u001b[1;33m,\u001b[0m\u001b[1;36m2\u001b[0m\u001b[1;33m,\u001b[0m\u001b[1;36m1\u001b[0m\u001b[1;33m,\u001b[0m\u001b[1;36m1\u001b[0m\u001b[1;33m,\u001b[0m\u001b[1;36m2\u001b[0m\u001b[1;33m,\u001b[0m\u001b[1;36m3\u001b[0m\u001b[1;33m]\u001b[0m\u001b[1;33m)\u001b[0m\u001b[1;33m\u001b[0m\u001b[1;33m\u001b[0m\u001b[0m\n\u001b[0;32m      3\u001b[0m \u001b[1;32mfor\u001b[0m \u001b[0mi\u001b[0m \u001b[1;32min\u001b[0m \u001b[0mmidterm_set\u001b[0m\u001b[1;33m:\u001b[0m\u001b[1;33m\u001b[0m\u001b[1;33m\u001b[0m\u001b[0m\n\u001b[1;32m----> 4\u001b[1;33m     \u001b[0ma\u001b[0m \u001b[1;33m=\u001b[0m \u001b[0ma\u001b[0m\u001b[1;33m+\u001b[0m\u001b[0mi\u001b[0m\u001b[1;33m\u001b[0m\u001b[1;33m\u001b[0m\u001b[0m\n\u001b[0m\u001b[0;32m      5\u001b[0m \u001b[1;33m\u001b[0m\u001b[0m\n\u001b[0;32m      6\u001b[0m \u001b[0mprint\u001b[0m\u001b[1;33m(\u001b[0m\u001b[0ma\u001b[0m\u001b[1;33m)\u001b[0m\u001b[1;33m\u001b[0m\u001b[1;33m\u001b[0m\u001b[0m\n",
      "\u001b[1;31mTypeError\u001b[0m: can only concatenate str (not \"int\") to str"
     ]
    }
   ],
   "source": [
    "a =\"\"\n",
    "midterm_set = set([1,5,7,4,3,2,1,1,2,3])\n",
    "for i in midterm_set:\n",
    "    a = a+i\n",
    "\n",
    "print(a)"
   ]
  },
  {
   "cell_type": "code",
   "execution_count": 27,
   "id": "8659650e",
   "metadata": {},
   "outputs": [
    {
     "name": "stdout",
     "output_type": "stream",
     "text": [
      "{1, 2, 3, 4, 5, 7}\n"
     ]
    }
   ],
   "source": [
    "midterm_set = set([1,5,7,4,3,2,1,1,2,3])\n",
    "print(midterm_set)"
   ]
  },
  {
   "cell_type": "code",
   "execution_count": 44,
   "id": "187687c5",
   "metadata": {},
   "outputs": [
    {
     "name": "stdout",
     "output_type": "stream",
     "text": [
      "22\n"
     ]
    }
   ],
   "source": [
    "a = 0\n",
    "midterm_set = set([1,5,7,4,3,2,1,1,2,3])\n",
    "for i in midterm_set:\n",
    "    a = a + i\n",
    "\n",
    "print(a)"
   ]
  },
  {
   "cell_type": "markdown",
   "id": "9f441de5",
   "metadata": {},
   "source": [
    "6."
   ]
  },
  {
   "cell_type": "code",
   "execution_count": 45,
   "id": "ccf9a705",
   "metadata": {},
   "outputs": [
    {
     "name": "stdout",
     "output_type": "stream",
     "text": [
      "False\n"
     ]
    }
   ],
   "source": [
    "def delete_a_list_element(list_data, element_value):\n",
    "    if element_value in list_data:\n",
    "        list_data.remove(element_value)\n",
    "        return list_data\n",
    "    else:\n",
    "        return \"False\"\n",
    "\n",
    "list_data = ['a', 1, 'gachon', '2016.0']\n",
    "element = float(2016)\n",
    "result = delete_a_list_element(list_data, element)\n",
    "print(result)"
   ]
  },
  {
   "cell_type": "markdown",
   "id": "79835adc",
   "metadata": {},
   "source": [
    "list_data = ['a', 1, 'gachon', '2016.0']\\\n",
    "element = float(2016)\\\n",
    "delete_a_list_element 함수는 매개변수로 받은 list_data에 element_value가 있는 경우, 그 element_value를 제거하고 list_data를 반환하고\\ \n",
    "없다면 False를 반환하는 함수\\\n",
    "element는 float형, list_data의 2016.0은 str형. 즉 둘은 다른 것\\\n",
    "그러므로 False가 출력됨"
   ]
  },
  {
   "cell_type": "markdown",
   "id": "9e92ec10",
   "metadata": {},
   "source": [
    "7."
   ]
  },
  {
   "cell_type": "code",
   "execution_count": 46,
   "id": "cd9e0f78",
   "metadata": {},
   "outputs": [
    {
     "name": "stdout",
     "output_type": "stream",
     "text": [
      "{1, 2, 3, 4}\n"
     ]
    }
   ],
   "source": [
    "def add_number(original_list):\n",
    "    original_list += [1]\n",
    "mylist = [1, 2, 3, 4]\n",
    "add_number(mylist)\n",
    "print(set(mylist))"
   ]
  },
  {
   "cell_type": "markdown",
   "id": "f02c63be",
   "metadata": {},
   "source": [
    "8."
   ]
  },
  {
   "cell_type": "code",
   "execution_count": 47,
   "id": "eda325bb",
   "metadata": {},
   "outputs": [
    {
     "name": "stdout",
     "output_type": "stream",
     "text": [
      "2019\n"
     ]
    }
   ],
   "source": [
    "a = [3, \"apple\", 2016, 4]\n",
    "b = a.pop(0)\n",
    "c = a.pop(1)\n",
    "print(b + c)"
   ]
  },
  {
   "cell_type": "markdown",
   "id": "edb34a53",
   "metadata": {},
   "source": [
    "9."
   ]
  },
  {
   "cell_type": "code",
   "execution_count": 48,
   "id": "db5c764b",
   "metadata": {},
   "outputs": [
    {
     "name": "stdout",
     "output_type": "stream",
     "text": [
      "19\n"
     ]
    }
   ],
   "source": [
    "def week_seven(sentence1):\n",
    "    cells = set(sentence1.replace(' ','').lower())\n",
    "    return cells\n",
    "sentence_a = \"The quick brown fox jumps over the lazy dog\"\n",
    "sentence_b = \"I love you\"\n",
    "print(len(week_seven(sentence_a)-week_seven(sentence_b)))"
   ]
  },
  {
   "cell_type": "markdown",
   "id": "e819c686",
   "metadata": {},
   "source": [
    "10."
   ]
  },
  {
   "cell_type": "code",
   "execution_count": 49,
   "id": "d12cdead",
   "metadata": {},
   "outputs": [
    {
     "name": "stdout",
     "output_type": "stream",
     "text": [
      "[1, 2, 3, 4, 5, 6]\n"
     ]
    }
   ],
   "source": [
    "tuple_1 = (1, 2, 3)\n",
    "tuple_2 = (4, 5, 6)\n",
    "\n",
    "def quiz_1(data_1, data_2):\n",
    "    result = []\n",
    "    \n",
    "    for i in (tuple_1 + tuple_2):\n",
    "        result.append(i)\n",
    "    return (result)\n",
    "\n",
    "print(quiz_1(tuple_1, tuple_2))"
   ]
  },
  {
   "cell_type": "markdown",
   "id": "da7a4187",
   "metadata": {},
   "source": [
    "11. 다음 코드의 실행 결과를 쓰시오."
   ]
  },
  {
   "cell_type": "code",
   "execution_count": 50,
   "id": "c8b3865f",
   "metadata": {},
   "outputs": [
    {
     "name": "stdout",
     "output_type": "stream",
     "text": [
      "4\n"
     ]
    }
   ],
   "source": [
    "dict_1 = {2:1, 4:2, 6:3, 8:4, 10:6}\n",
    "\n",
    "dict_keys = list(dict_1.keys())\n",
    "dict_values = list(dict_1.values())\n",
    "\n",
    "dict_2 = dict()\n",
    "\n",
    "for i in range(len(dict_keys)):\n",
    "    dict_2[dict_values[i]] = dict_keys[i]\n",
    "    \n",
    "print(dict_2[2])"
   ]
  },
  {
   "cell_type": "markdown",
   "id": "a9dd3a26",
   "metadata": {},
   "source": [
    "12."
   ]
  },
  {
   "cell_type": "code",
   "execution_count": 1,
   "id": "fc2b12b7",
   "metadata": {},
   "outputs": [
    {
     "name": "stdout",
     "output_type": "stream",
     "text": [
      "{4: 'ant', 0: 'snake', 2: 'monkey', 8: 'spider', 'ant': 6}\n"
     ]
    }
   ],
   "source": [
    "animal = ['cat', 'snake', 'monkey', 'ant', 'spider']\n",
    "legs = [4, 0, 2, 4, 8]\n",
    "animal_legs_dict = {}\n",
    "for i in range(len(animal)):\n",
    "    animal_legs_dict[legs[i]] = animal[i]\n",
    "animal_legs_dict['ant'] = 6\n",
    "print(animal_legs_dict)"
   ]
  },
  {
   "cell_type": "markdown",
   "id": "3b1e4274",
   "metadata": {},
   "source": [
    "13."
   ]
  },
  {
   "cell_type": "code",
   "execution_count": 2,
   "id": "1a39f2f6",
   "metadata": {},
   "outputs": [
    {
     "name": "stdout",
     "output_type": "stream",
     "text": [
      "(1, 2, 3, 1, 2, 3)\n",
      "(1, 2, 3, 1, 2, 3)\n",
      "(1, 2, 3) (1, 2, 3)\n"
     ]
    }
   ],
   "source": [
    "t = (1, 2, 3)\n",
    "print(t + t)\n",
    "print(t * 2)\n",
    "print(t, t)"
   ]
  },
  {
   "cell_type": "markdown",
   "id": "c0e940a0",
   "metadata": {},
   "source": [
    "14."
   ]
  },
  {
   "cell_type": "code",
   "execution_count": 3,
   "id": "72bff032",
   "metadata": {},
   "outputs": [
    {
     "name": "stdout",
     "output_type": "stream",
     "text": [
      "10\n"
     ]
    }
   ],
   "source": [
    "Mydict = {'1' : 1, '2' : 2}\n",
    "Copy = Mydict\n",
    "Mydict['1'] = 5\n",
    "result = Mydict['1'] + Copy['1']\n",
    "print(result)"
   ]
  },
  {
   "cell_type": "markdown",
   "id": "448ea0d2",
   "metadata": {},
   "source": [
    "15."
   ]
  },
  {
   "cell_type": "code",
   "execution_count": 4,
   "id": "b68eb076",
   "metadata": {},
   "outputs": [
    {
     "name": "stdout",
     "output_type": "stream",
     "text": [
      "?Yoeu MLo ve\n"
     ]
    }
   ],
   "source": [
    "sentence = list('You Love Me?')\n",
    "result = ''\n",
    "for i in range(len(sentence)):\n",
    "    if i % 3 == 0:\n",
    "        result += sentence.pop()\n",
    "    else:\n",
    "        result += sentence.pop(0)\n",
    "print(result)"
   ]
  },
  {
   "cell_type": "markdown",
   "id": "23671df9",
   "metadata": {},
   "source": [
    "16."
   ]
  },
  {
   "cell_type": "code",
   "execution_count": 5,
   "id": "6acd73cc",
   "metadata": {},
   "outputs": [
    {
     "name": "stdout",
     "output_type": "stream",
     "text": [
      "14\n"
     ]
    }
   ],
   "source": [
    "number = [5, 6, 7, 8, 9, 1, 2, 3, 4]\n",
    "result = []\n",
    "result.append(number.pop(0))\n",
    "result.append(number.pop())\n",
    "result.append(number.pop(1))\n",
    "result.append(number.pop())\n",
    "result.append(number.pop(0))\n",
    "print(number[0] + result[-1])"
   ]
  },
  {
   "cell_type": "markdown",
   "id": "5cee08ee",
   "metadata": {},
   "source": [
    "17."
   ]
  },
  {
   "cell_type": "code",
   "execution_count": 7,
   "id": "d4ba28cd",
   "metadata": {},
   "outputs": [
    {
     "name": "stdout",
     "output_type": "stream",
     "text": [
      "[0, 1, 2, 3, 4, 5, 6, 7, 8, 9]\n"
     ]
    }
   ],
   "source": [
    "a = list(range(10))\n",
    "a.append(a[3])\n",
    "a.pop(a[3])\n",
    "a.insert(3, a[-1])\n",
    "a.pop()\n",
    "print(a)"
   ]
  },
  {
   "cell_type": "markdown",
   "id": "300f06ac",
   "metadata": {},
   "source": [
    "18."
   ]
  },
  {
   "cell_type": "code",
   "execution_count": 8,
   "id": "1936a9bf",
   "metadata": {},
   "outputs": [
    {
     "name": "stdout",
     "output_type": "stream",
     "text": [
      "6\n"
     ]
    }
   ],
   "source": [
    "box = [1, 'red', 3, (), [], None]\n",
    "print(len(box))"
   ]
  },
  {
   "cell_type": "markdown",
   "id": "545ed63a",
   "metadata": {},
   "source": [
    "19."
   ]
  },
  {
   "cell_type": "code",
   "execution_count": 9,
   "id": "8e905a06",
   "metadata": {},
   "outputs": [
    {
     "name": "stdout",
     "output_type": "stream",
     "text": [
      "(1,)\n",
      "[1]\n",
      "error\n",
      "error\n",
      "a\n",
      "a\n"
     ]
    }
   ],
   "source": [
    "data_1 = {'one' : (1,2,3,4,5,6), 'two' : [1,2,3,4,5,6], 'three' : {'four' : 4, 'five' : 5}}\n",
    "\n",
    "for k in ['one', 'two', 'three']:\n",
    "    try:\n",
    "        print(data_1[k][:1])\n",
    "    except TypeError:\n",
    "        print(\"error\")\n",
    "\n",
    "for k in ['one', 'two', 'three']:\n",
    "    try:\n",
    "        data_1[k][-1] = \"a\"\n",
    "        print(data_1[k][-1])\n",
    "    except TypeError:\n",
    "        print(\"error\")"
   ]
  },
  {
   "cell_type": "markdown",
   "id": "82ad259e",
   "metadata": {},
   "source": [
    "20."
   ]
  },
  {
   "cell_type": "code",
   "execution_count": 10,
   "id": "e4cf638b",
   "metadata": {},
   "outputs": [
    {
     "name": "stdout",
     "output_type": "stream",
     "text": [
      "{'A': 'Sam', 'B': 'Sarah', 'C': 'Jane', 'D': 'John'}\n"
     ]
    }
   ],
   "source": [
    "class_category = [\"A\", \"B\", \"C\", \"D\"]\n",
    "student_category = [\"Sam\", \"Sarah\", \"Jane\", \"John\"]\n",
    "\n",
    "class_student_cate = {}\n",
    "for i in range(len(class_category)):\n",
    "    class_student_cate[class_category[i]] = student_category[i]\n",
    "print(class_student_cate)"
   ]
  }
 ],
 "metadata": {
  "kernelspec": {
   "display_name": "Python 3 (ipykernel)",
   "language": "python",
   "name": "python3"
  },
  "language_info": {
   "codemirror_mode": {
    "name": "ipython",
    "version": 3
   },
   "file_extension": ".py",
   "mimetype": "text/x-python",
   "name": "python",
   "nbconvert_exporter": "python",
   "pygments_lexer": "ipython3",
   "version": "3.9.7"
  }
 },
 "nbformat": 4,
 "nbformat_minor": 5
}
