{
 "cells": [
  {
   "cell_type": "markdown",
   "id": "cd9c35a8",
   "metadata": {},
   "source": [
    "# Chapter 03. 화면 입출력과 리스트"
   ]
  },
  {
   "cell_type": "markdown",
   "id": "52ce35bb",
   "metadata": {},
   "source": [
    "## 01. 파이썬 프로그래밍 환경"
   ]
  },
  {
   "cell_type": "markdown",
   "id": "558f40f2",
   "metadata": {},
   "source": [
    "### <1> 사용자 인터페이스 "
   ]
  },
  {
   "cell_type": "markdown",
   "id": "c3eaebc6",
   "metadata": {},
   "source": [
    "**사용자 인터페이스(user interface)**\n",
    "\n",
    "- 컴퓨터에 명령을 입력할 때 사용하는 환경\n",
    "\n",
    "**GUI(Grapihical User Interface)**\n",
    "\n",
    "- 대표적인 사용자 인터페이스\n",
    "\n",
    "- 마우스와 아이콘 등의 많은 도구가 사용됨\n",
    "\n",
    "- GUI 환경에서 아이콘을 하나 클릭하면 그에 대한 명령이 실행됨\n",
    "\n",
    "- GUI는 1995년 마이크로소프트(Microsoft)에서 윈도 95(Windows 95)를 출시하면서부터 대중화됨"
   ]
  },
  {
   "cell_type": "markdown",
   "id": "b9ccac9b",
   "metadata": {},
   "source": [
    "이전까지 컴퓨터 사용자 대부분은 MS-DOS와 같은 CLI 환경을 사용했음\n",
    "\n",
    "**CLI(Command Line Interface)**\n",
    "\n",
    "- 마우스의 클릭이 아닌 키보드만으로 명령을 입력하는 환경"
   ]
  },
  {
   "cell_type": "markdown",
   "id": "1262f7d8",
   "metadata": {},
   "source": [
    "### <2> CLI 환경"
   ]
  },
  {
   "cell_type": "markdown",
   "id": "ddf90b9b",
   "metadata": {},
   "source": [
    "CLI 기반으로 컴퓨터에 데이터를 입력한다\n",
    "\n",
    "= 키보드를 사용하여 텍스트를 입력하면, 이 입력값이 작성한 프로그램에 의해 가공된다\n",
    "\n",
    "파이썬을 설치하면서 사용한 cmd 창, 즉 명령어 창(command window)은 Windows에서 제공하는 대표적인 CLI 환경"
   ]
  },
  {
   "cell_type": "markdown",
   "id": "e5d2130b",
   "metadata": {},
   "source": [
    "CLI 환경의 다양한 이름\n",
    "\n",
    "- 일반적으로는 콘솔(console)\n",
    "\n",
    "- Windows에서는 명령어창(command window)\n",
    "\n",
    "- 리눅스와 맥에서는 터미널(terminal)"
   ]
  },
  {
   "cell_type": "markdown",
   "id": "2d5e69d5",
   "metadata": {},
   "source": [
    "## 02. 화면 입출력 "
   ]
  },
  {
   "cell_type": "markdown",
   "id": "84ac7577",
   "metadata": {},
   "source": [
    "### <1> 표준 입력 함수 : input() 함수 "
   ]
  },
  {
   "cell_type": "markdown",
   "id": "de048dbc",
   "metadata": {},
   "source": [
    "**input() 함수**\n",
    "\n",
    "- 파이썬에서 콘솔 창의 입력을 받기 위해 제공하는 표준 입력 함수\n",
    "\n",
    "- 사용자가 문자열을 콘솔 창에 입력할 수 있게 해줌"
   ]
  },
  {
   "cell_type": "code",
   "execution_count": 1,
   "id": "1f09ae06",
   "metadata": {},
   "outputs": [
    {
     "name": "stdout",
     "output_type": "stream",
     "text": [
      "Enter your name:\n",
      "youjin\n",
      "Hi youjin How are you today?\n"
     ]
    }
   ],
   "source": [
    "# input.py\n",
    "print(\"Enter your name:\")\n",
    "somebody = input()\n",
    "print(\"Hi\", somebody, \"How are you today?\")"
   ]
  },
  {
   "cell_type": "markdown",
   "id": "5dacb663",
   "metadata": {},
   "source": [
    "### <2> 표준 출력 함수 : print() 함수"
   ]
  },
  {
   "cell_type": "markdown",
   "id": "4e1ada89",
   "metadata": {},
   "source": [
    "**print() 함수**\n",
    "\n",
    "- 파이썬에서 출력을 하기 위해 제공하는 표준 출력 함수"
   ]
  },
  {
   "cell_type": "code",
   "execution_count": 2,
   "id": "43898904",
   "metadata": {},
   "outputs": [
    {
     "name": "stdout",
     "output_type": "stream",
     "text": [
      "Hello World! Hello Again!!!\n"
     ]
    }
   ],
   "source": [
    "print(\"Hello World!\", \"Hello Again!!!\")"
   ]
  },
  {
   "cell_type": "markdown",
   "id": "28e58576",
   "metadata": {},
   "source": [
    "**콤마(,)**\n",
    "\n",
    "- 여러 값을 연결해 화면에 출력 가능\n",
    "\n",
    "- 콤마(,) 대신, + 기호를 문자형 간에 연결해 출력 가능\n",
    "\n",
    "- + 기호를 이용할 경우는 자료형이 모두 문자형이어야 하나, 콤마의 경우는 변수의 자료형과 관계없이 출력할 수 있음 "
   ]
  },
  {
   "cell_type": "markdown",
   "id": "90fa9a62",
   "metadata": {},
   "source": [
    "input() 함수를 사용하기 전, 지시문을 먼저 출력하지 않고, input 함수에 바로 지시문을 넣을 수 있음"
   ]
  },
  {
   "cell_type": "code",
   "execution_count": 3,
   "id": "8ada577d",
   "metadata": {},
   "outputs": [
    {
     "name": "stdout",
     "output_type": "stream",
     "text": [
      "온도를 입력하세요: 103\n",
      "103.0\n"
     ]
    }
   ],
   "source": [
    "# print.py\n",
    "temperature = float(input(\"온도를 입력하세요: \")) # 입력 시 바로 형 변환\n",
    "print(temperature)"
   ]
  },
  {
   "cell_type": "markdown",
   "id": "4aee98c1",
   "metadata": {},
   "source": [
    "input() 함수가 값을 입력받으면 그 값의 자료형은 문자형이 된다는 것 유의"
   ]
  },
  {
   "cell_type": "markdown",
   "id": "8e63cf79",
   "metadata": {},
   "source": [
    "### <3> 파일 입출력 정리"
   ]
  },
  {
   "cell_type": "markdown",
   "id": "765c31c5",
   "metadata": {},
   "source": [
    "파이썬의 태생적 근원이 스크립트 언어로서의 강력함에 있다보니 GUI 프로그램보다는 콘솔 환경에서 많이 사용하는 프로그램인 CLI 기반의 프로그램을 주로 작성하게 된다.\n",
    "\n",
    "CLI 기반 프로그램은 데이터 과학분야 등 쓰임이 다양함"
   ]
  },
  {
   "cell_type": "markdown",
   "id": "196c0d92",
   "metadata": {},
   "source": [
    "## 03. Lab : 화씨온도 변환기"
   ]
  },
  {
   "cell_type": "markdown",
   "id": "82f968fa",
   "metadata": {},
   "source": [
    "### <1> 실습 내용"
   ]
  },
  {
   "cell_type": "markdown",
   "id": "6fcafc37",
   "metadata": {},
   "source": [
    "### <2> 실행 결과 "
   ]
  },
  {
   "cell_type": "markdown",
   "id": "65103c89",
   "metadata": {},
   "source": [
    "### <3> 문제 해결 "
   ]
  },
  {
   "cell_type": "markdown",
   "id": "f316946c",
   "metadata": {},
   "source": [
    "## 04. 리스트의 이해"
   ]
  },
  {
   "cell_type": "markdown",
   "id": "2e6d8e30",
   "metadata": {},
   "source": [
    "### <1> 리스트가 필요한 이유"
   ]
  },
  {
   "cell_type": "markdown",
   "id": "df47cbff",
   "metadata": {},
   "source": [
    "학생 100명의 성적을 채점해야 한다면 100개의 변수를 만들어야 함\n",
    "\n",
    "-> 코드가 너무 길어져 하나하나 입력하기가 쉽지 않다.\n",
    "\n",
    "-> 변수에 값을 할당하기도 어렵다"
   ]
  },
  {
   "cell_type": "markdown",
   "id": "b05802c6",
   "metadata": {},
   "source": [
    "한 개의 변수에 모든 값을 할당하는 방식을 사용할 것\n",
    "\n",
    "-> 배열, 리스트(Python)"
   ]
  },
  {
   "cell_type": "markdown",
   "id": "53efe923",
   "metadata": {},
   "source": [
    "### <2> 리스트의 개념"
   ]
  },
  {
   "cell_type": "markdown",
   "id": "a0000902",
   "metadata": {},
   "source": [
    "**리스트(list)**\n",
    "\n",
    "- 하나의 변수에 여러 값을 할당하는 자료형\n",
    "\n",
    "- 시퀀스 자료형 : 리스트처럼 여러 데이터를 하나의 변수에 할당하는 기법\n",
    "\n",
    "    - 여러 자료를 순서대로 넣는다는 뜻\n",
    "\n",
    "- 하나의 자료형으로만 저장하지 않고, 정수형이나 실수형 같은 다양한 자료형을 포함할 수 있음\n",
    "\n",
    "- C나 Java 같은 프로그래밍 언어에서는 배열이라는 표현을 더 많이 사용함"
   ]
  },
  {
   "cell_type": "code",
   "execution_count": 1,
   "id": "175d4ab3",
   "metadata": {},
   "outputs": [],
   "source": [
    "colors = ['red', 'blue', 'green']"
   ]
  },
  {
   "cell_type": "markdown",
   "id": "a3b5bb87",
   "metadata": {},
   "source": [
    "- 위는, 'colors'라는 변수를 하나 생성하고, 리스트 자료형을 할당한 경우\n",
    "\n",
    "- 리스트의 할당을 위해 대괄호를 사용하고, 리스트 안에 있는 값을 각각 ['red', 'blue', 'green'] 형태로 할당\n",
    "\n",
    "- colors라는 변수는 3개의 값을 가지며, 각각의 값은 문자형의 red, blue, green이 됨"
   ]
  },
  {
   "cell_type": "markdown",
   "id": "20ea19ed",
   "metadata": {},
   "source": [
    "### <3> 인덱싱과 슬라이싱"
   ]
  },
  {
   "cell_type": "markdown",
   "id": "f6705ec4",
   "metadata": {},
   "source": [
    "**3.1 인덱싱(indexing)**\n",
    "\n",
    "- 리스트에 있는 값에 접근하기 위해, 이 값의 상대적인 주소를 사용하는 것\n",
    "\n",
    "- 주소 : 첫 번째 값을 0으로 했을 때 첫 번째 값과 얼마나 떨어져 있는지를 표현한 값\n",
    "\n",
    "    - 인덱스 주소, 인덱스값"
   ]
  },
  {
   "cell_type": "code",
   "execution_count": 2,
   "id": "aef415e1",
   "metadata": {},
   "outputs": [
    {
     "name": "stdout",
     "output_type": "stream",
     "text": [
      "red\n",
      "green\n",
      "3\n"
     ]
    }
   ],
   "source": [
    "#indexing.py\n",
    "colors = ['red', 'blue', 'green']\n",
    "print(colors[0])\n",
    "print(colors[2])\n",
    "print(len(colors))"
   ]
  },
  {
   "cell_type": "markdown",
   "id": "7a36894c",
   "metadata": {},
   "source": [
    "- colors라는 변수에 'red','blue','green'이라는 값 3개가 저장되어 있음.\n",
    "\n",
    "- colors라는 변수가 리스트이므로 이 값들은 0번째부터 0, 1, 2라는 주소값으로 호출할 수 있다.\n",
    "\n",
    "- colors[0] = 'red'\n",
    "\n",
    "- colors[2] = 'green'\n",
    "\n",
    "- len() 함수: 리스트 안에 있는 값의 개수를 반환"
   ]
  },
  {
   "cell_type": "markdown",
   "id": "9d67f7a4",
   "metadata": {},
   "source": [
    "**3.2 슬라이싱(slicing)**\n",
    "\n",
    "- 리스트에서 파생된 강력한 기능 중 하나\n",
    "\n",
    "- 리스트의 인덱스를 사용하여 전체 리스트에서 일부를 잘라내어 반환"
   ]
  },
  {
   "cell_type": "code",
   "execution_count": 1,
   "id": "304c58ff",
   "metadata": {},
   "outputs": [
    {
     "data": {
      "text/plain": [
       "['서울', '부산', '인천', '대구', '대전', '광주']"
      ]
     },
     "execution_count": 1,
     "metadata": {},
     "output_type": "execute_result"
    }
   ],
   "source": [
    "cities = ['서울', '부산', '인천', '대구', '대전', '광주', '울산', '수원']\n",
    "cities[0:6]"
   ]
  },
  {
   "cell_type": "markdown",
   "id": "4867f663",
   "metadata": {},
   "source": [
    "- 변수명[시작 인덱스:마지막 인덱스]\n",
    "\n",
    "- 마지막 인덱스 - 1 까지만 출력\n",
    "\n",
    "- 한 번 이상 리스트 변수를 사용하면 마지막 인덱스가 다음 리스트의 시작 인덱스가 되어 코드를 작성할 때 조금 더 쉽게 이해할 수 있다는 장점"
   ]
  },
  {
   "cell_type": "code",
   "execution_count": 2,
   "id": "ee206629",
   "metadata": {},
   "outputs": [
    {
     "data": {
      "text/plain": [
       "['서울', '부산', '인천', '대구', '대전']"
      ]
     },
     "execution_count": 2,
     "metadata": {},
     "output_type": "execute_result"
    }
   ],
   "source": [
    "cities[0:5]"
   ]
  },
  {
   "cell_type": "code",
   "execution_count": 3,
   "id": "b154ef03",
   "metadata": {},
   "outputs": [
    {
     "data": {
      "text/plain": [
       "['광주', '울산', '수원']"
      ]
     },
     "execution_count": 3,
     "metadata": {},
     "output_type": "execute_result"
    }
   ],
   "source": [
    "cities[5:]"
   ]
  },
  {
   "cell_type": "markdown",
   "id": "806feb65",
   "metadata": {},
   "source": [
    "**3.3 리버스 인덱스(reverse index)**\n",
    "\n",
    "- 인덱스를 마지막 값부터 시작하는 기능\n",
    "\n",
    "- 기존 인덱스와 달리 마지막 값부터 -1을 할당하여 첫 번째 값까지 역순으로 올라오는 방식"
   ]
  },
  {
   "cell_type": "code",
   "execution_count": 4,
   "id": "3962d7da",
   "metadata": {},
   "outputs": [
    {
     "name": "stdout",
     "output_type": "stream",
     "text": [
      "['서울', '부산', '인천', '대구', '대전', '광주', '울산', '수원']\n"
     ]
    }
   ],
   "source": [
    "cities = ['서울', '부산', '인천', '대구', '대전', '광주', '울산', '수원']\n",
    "print(cities[-8:])"
   ]
  },
  {
   "cell_type": "markdown",
   "id": "fed1f0aa",
   "metadata": {},
   "source": [
    "- 일반적으로 시작 인덱스가 비어 있으면 처음부터, 마지막 인덱스가 비어 있으면 마지막까지라는 의미로 사용됨"
   ]
  },
  {
   "cell_type": "markdown",
   "id": "33dacfd7",
   "metadata": {},
   "source": [
    "**3.4 인덱스 범위를 넘어가는 슬라이싱(slicing with over index)**\n",
    "\n",
    "- 슬라이싱을 할 때 인덱스의 첫 번째 값이나 마지막 값이 비어 있어도 잘 작동함"
   ]
  },
  {
   "cell_type": "code",
   "execution_count": 5,
   "id": "49d934ea",
   "metadata": {},
   "outputs": [
    {
     "name": "stdout",
     "output_type": "stream",
     "text": [
      "['서울', '부산', '인천', '대구', '대전', '광주', '울산', '수원']\n"
     ]
    }
   ],
   "source": [
    "cities = ['서울', '부산', '인천', '대구', '대전', '광주', '울산', '수원']\n",
    "print(cities[:])"
   ]
  },
  {
   "cell_type": "code",
   "execution_count": 6,
   "id": "bc319a39",
   "metadata": {},
   "outputs": [
    {
     "name": "stdout",
     "output_type": "stream",
     "text": [
      "['서울', '부산', '인천', '대구', '대전', '광주', '울산', '수원']\n"
     ]
    }
   ],
   "source": [
    "print(cities[-50:50])"
   ]
  },
  {
   "cell_type": "markdown",
   "id": "0dcd9be5",
   "metadata": {},
   "source": [
    "- 인덱스를 따로 넣지 않고 콜론(:)을 넣으면 변수의 모든 값을 다 반환\n",
    "\n",
    "- 범위를 넘어가는 인덱스를 넣는 경우도, 자동으로 시작부터 끝까지의 인덱스값으로 데이터를 불러옴\n",
    "\n",
    "- 슬라이싱에서는 인덱스를 넘어서거나 입력하지 않더라도 자동으로 시작 인덱스와 마지막 인덱스로 지정됨"
   ]
  },
  {
   "cell_type": "markdown",
   "id": "ab85f3a6",
   "metadata": {},
   "source": [
    "**3.5 증가값(step)**\n",
    "\n",
    "- 슬라이싱에서는 시작 인덱스와 마지막 인덱스 외에 마지막 자리에 증가값을 넣을 수 있음\n",
    "\n",
    "- 변수명[시작 인덱스:마지막 인덱스:증가값]"
   ]
  },
  {
   "cell_type": "code",
   "execution_count": 7,
   "id": "749a1f25",
   "metadata": {},
   "outputs": [
    {
     "data": {
      "text/plain": [
       "['서울', '인천', '대전', '울산']"
      ]
     },
     "execution_count": 7,
     "metadata": {},
     "output_type": "execute_result"
    }
   ],
   "source": [
    "cities = ['서울', '부산', '인천', '대구', '대전', '광주', '울산', '수원']\n",
    "cities[::2]"
   ]
  },
  {
   "cell_type": "markdown",
   "id": "15be1bc1",
   "metadata": {},
   "source": [
    "- 2칸 간격으로 출력"
   ]
  },
  {
   "cell_type": "code",
   "execution_count": 8,
   "id": "b0ff6ee9",
   "metadata": {},
   "outputs": [
    {
     "data": {
      "text/plain": [
       "['수원', '울산', '광주', '대전', '대구', '인천', '부산', '서울']"
      ]
     },
     "execution_count": 8,
     "metadata": {},
     "output_type": "execute_result"
    }
   ],
   "source": [
    "cities[::-1]"
   ]
  },
  {
   "cell_type": "markdown",
   "id": "f007b356",
   "metadata": {},
   "source": [
    "- 역방향으로 증가값이 실행됨"
   ]
  },
  {
   "cell_type": "markdown",
   "id": "fb642f12",
   "metadata": {},
   "source": [
    "### <4> 리스트의 연산"
   ]
  },
  {
   "cell_type": "markdown",
   "id": "de99f927",
   "metadata": {},
   "source": [
    "**4.1 덧셈 연산**"
   ]
  },
  {
   "cell_type": "code",
   "execution_count": 9,
   "id": "129023a8",
   "metadata": {},
   "outputs": [
    {
     "name": "stdout",
     "output_type": "stream",
     "text": [
      "['red', 'blue', 'green', 'orange', 'black', 'white']\n"
     ]
    }
   ],
   "source": [
    "color1 = ['red', 'blue', 'green']\n",
    "color2 = ['orange', 'black', 'white']\n",
    "print(color1 + color2)"
   ]
  },
  {
   "cell_type": "code",
   "execution_count": 10,
   "id": "2f42a00d",
   "metadata": {},
   "outputs": [
    {
     "data": {
      "text/plain": [
       "3"
      ]
     },
     "execution_count": 10,
     "metadata": {},
     "output_type": "execute_result"
    }
   ],
   "source": [
    "len(color1)"
   ]
  },
  {
   "cell_type": "markdown",
   "id": "86caa57f",
   "metadata": {},
   "source": [
    "- 덧셈 연산을 하더라도 따로 어딘가 변수에 할당해 주지 않으면 기존 변수는 변화가 없음"
   ]
  },
  {
   "cell_type": "code",
   "execution_count": 11,
   "id": "b3a03688",
   "metadata": {},
   "outputs": [
    {
     "data": {
      "text/plain": [
       "['red', 'blue', 'green', 'orange', 'black', 'white']"
      ]
     },
     "execution_count": 11,
     "metadata": {},
     "output_type": "execute_result"
    }
   ],
   "source": [
    "total_color = color1 + color2\n",
    "total_color"
   ]
  },
  {
   "cell_type": "markdown",
   "id": "a94c3b59",
   "metadata": {},
   "source": [
    "- total_color라는 새 변수에 합쳐진 값이 할당됨"
   ]
  },
  {
   "cell_type": "markdown",
   "id": "015c0ca5",
   "metadata": {},
   "source": [
    "**4.2 곱셈 연산**\n",
    "\n",
    "- 기준 리스트에 n을 곱했을 때, 같은 리스트를 n배만큼 늘려줌"
   ]
  },
  {
   "cell_type": "code",
   "execution_count": 12,
   "id": "5ac24866",
   "metadata": {
    "scrolled": true
   },
   "outputs": [
    {
     "data": {
      "text/plain": [
       "['red', 'blue', 'green', 'red', 'blue', 'green']"
      ]
     },
     "execution_count": 12,
     "metadata": {},
     "output_type": "execute_result"
    }
   ],
   "source": [
    "color1 * 2"
   ]
  },
  {
   "cell_type": "markdown",
   "id": "beb4491c",
   "metadata": {},
   "source": [
    "**4.3 in 연산**\n",
    "\n",
    "- in은 포함 여부를 확인하는 연산\n",
    "\n",
    "- 하나의 값이 해당 리스트에 들어 있는지 확인할 수 있음\n",
    "\n",
    "- 해당 리스트에 들어 있는 경우, True 없는 경우, False 반환"
   ]
  },
  {
   "cell_type": "code",
   "execution_count": 13,
   "id": "3f58db5a",
   "metadata": {},
   "outputs": [
    {
     "data": {
      "text/plain": [
       "False"
      ]
     },
     "execution_count": 13,
     "metadata": {},
     "output_type": "execute_result"
    }
   ],
   "source": [
    "'blue' in color2"
   ]
  },
  {
   "cell_type": "markdown",
   "id": "13c69ee5",
   "metadata": {},
   "source": [
    "### <5> 리스트 추가 및 삭제 "
   ]
  },
  {
   "cell_type": "markdown",
   "id": "d5e15481",
   "metadata": {},
   "source": [
    "**5.1 append() 함수**\n",
    "\n",
    "- 리스트 맨 끝 인덱스에 새로운 값을 추가할 수 있음"
   ]
  },
  {
   "cell_type": "code",
   "execution_count": 14,
   "id": "0e261519",
   "metadata": {},
   "outputs": [
    {
     "data": {
      "text/plain": [
       "['red', 'blue', 'green', 'white']"
      ]
     },
     "execution_count": 14,
     "metadata": {},
     "output_type": "execute_result"
    }
   ],
   "source": [
    "color = ['red', 'blue', 'green']\n",
    "color.append('white')\n",
    "color"
   ]
  },
  {
   "cell_type": "markdown",
   "id": "19ec4073",
   "metadata": {},
   "source": [
    "**5.2 extend() 함수**\n",
    "\n",
    "- 값을 추가하는 것이 아닌 기존 리스트에 그대로 새로운 리스트를 합치는 기능을 하는 것"
   ]
  },
  {
   "cell_type": "code",
   "execution_count": 15,
   "id": "ecd92124",
   "metadata": {},
   "outputs": [
    {
     "data": {
      "text/plain": [
       "['red', 'blue', 'green', 'black', 'purple']"
      ]
     },
     "execution_count": 15,
     "metadata": {},
     "output_type": "execute_result"
    }
   ],
   "source": [
    "color = ['red', 'blue', 'green']\n",
    "color.extend(['black', 'purple'])\n",
    "color"
   ]
  },
  {
   "cell_type": "markdown",
   "id": "67553073",
   "metadata": {},
   "source": [
    "**5.3 insert() 함수**\n",
    "\n",
    "- append() 함수와 달리 리스트의 특정 위치에 값을 추가 가능\n",
    "\n",
    "- 리스트의 맨 끝에 값이 들어가는 것이 아니라 지정한 위치에 값이 들어감"
   ]
  },
  {
   "cell_type": "code",
   "execution_count": 26,
   "id": "ae76414c",
   "metadata": {},
   "outputs": [
    {
     "data": {
      "text/plain": [
       "['orange', 'red', 'blue', 'green']"
      ]
     },
     "execution_count": 26,
     "metadata": {},
     "output_type": "execute_result"
    }
   ],
   "source": [
    "color = ['red', 'blue', 'green']\n",
    "color.insert(0, 'orange')\n",
    "color"
   ]
  },
  {
   "cell_type": "markdown",
   "id": "12774fff",
   "metadata": {},
   "source": [
    "**5.4 remove() 함수**\n",
    "\n",
    "- 리스트에 있는 특정 값을 지우는 기능"
   ]
  },
  {
   "cell_type": "code",
   "execution_count": 27,
   "id": "86c166fb",
   "metadata": {},
   "outputs": [
    {
     "data": {
      "text/plain": [
       "['orange', 'red', 'blue', 'green']"
      ]
     },
     "execution_count": 27,
     "metadata": {},
     "output_type": "execute_result"
    }
   ],
   "source": [
    "color"
   ]
  },
  {
   "cell_type": "code",
   "execution_count": 28,
   "id": "6b187249",
   "metadata": {},
   "outputs": [
    {
     "data": {
      "text/plain": [
       "['orange', 'blue', 'green']"
      ]
     },
     "execution_count": 28,
     "metadata": {},
     "output_type": "execute_result"
    }
   ],
   "source": [
    "color.remove('red')\n",
    "color"
   ]
  },
  {
   "cell_type": "markdown",
   "id": "784c90e9",
   "metadata": {},
   "source": [
    "**5.5 인덱스의 재할당과 삭제**\n",
    "\n",
    "- 특정 인덱스 값을 변경하기 위해서는 인덱스에 새로운 값을 할당하면 됨\n",
    "\n",
    "- 특정 인덱스 값을 삭제하기 위해서는 del 함수를 사용함"
   ]
  },
  {
   "cell_type": "code",
   "execution_count": 29,
   "id": "21b384be",
   "metadata": {},
   "outputs": [],
   "source": [
    "color = ['red', 'blue', 'green']\n",
    "color[0] = 'orange'"
   ]
  },
  {
   "cell_type": "code",
   "execution_count": 30,
   "id": "31f80c20",
   "metadata": {},
   "outputs": [
    {
     "data": {
      "text/plain": [
       "['blue', 'green']"
      ]
     },
     "execution_count": 30,
     "metadata": {},
     "output_type": "execute_result"
    }
   ],
   "source": [
    "del color[0]\n",
    "color"
   ]
  },
  {
   "cell_type": "markdown",
   "id": "fa0fd1d5",
   "metadata": {},
   "source": [
    "### <6> 패킹과 언패킹"
   ]
  },
  {
   "cell_type": "markdown",
   "id": "e9ced7d4",
   "metadata": {},
   "source": [
    "**패킹**\n",
    "\n",
    "- 한 변수에 여러 개의 데이터를 할당하는 것\n",
    "\n",
    "- 리스트 자체를 뜻하기도 함\n",
    "\n",
    "**언패킹**\n",
    "\n",
    "- 한 변수에 여러 개의 데이터가 들어 있을 때 그것을 각각의 변수로 반환하는 방법\n",
    "\n",
    "- 언패킹 시 할당받는 변수의 개수가 적거나 많으면 모두 에러가 발생"
   ]
  },
  {
   "cell_type": "code",
   "execution_count": 31,
   "id": "58fc342c",
   "metadata": {},
   "outputs": [
    {
     "name": "stdout",
     "output_type": "stream",
     "text": [
      "[1, 2, 3] 1 2 3\n"
     ]
    }
   ],
   "source": [
    "t = [1, 2, 3]\n",
    "a, b, c = t\n",
    "print(t, a, b, c)"
   ]
  },
  {
   "cell_type": "code",
   "execution_count": 32,
   "id": "8b2f7a2f",
   "metadata": {},
   "outputs": [
    {
     "ename": "ValueError",
     "evalue": "not enough values to unpack (expected 5, got 3)",
     "output_type": "error",
     "traceback": [
      "\u001b[1;31m---------------------------------------------------------------------------\u001b[0m",
      "\u001b[1;31mValueError\u001b[0m                                Traceback (most recent call last)",
      "\u001b[1;32m~\\AppData\\Local\\Temp/ipykernel_9760/633585395.py\u001b[0m in \u001b[0;36m<module>\u001b[1;34m\u001b[0m\n\u001b[0;32m      1\u001b[0m \u001b[0mt\u001b[0m \u001b[1;33m=\u001b[0m \u001b[1;33m[\u001b[0m\u001b[1;36m1\u001b[0m\u001b[1;33m,\u001b[0m \u001b[1;36m2\u001b[0m\u001b[1;33m,\u001b[0m \u001b[1;36m3\u001b[0m\u001b[1;33m]\u001b[0m\u001b[1;33m\u001b[0m\u001b[1;33m\u001b[0m\u001b[0m\n\u001b[1;32m----> 2\u001b[1;33m \u001b[0ma\u001b[0m\u001b[1;33m,\u001b[0m \u001b[0mb\u001b[0m\u001b[1;33m,\u001b[0m \u001b[0mc\u001b[0m\u001b[1;33m,\u001b[0m \u001b[0md\u001b[0m\u001b[1;33m,\u001b[0m \u001b[0me\u001b[0m \u001b[1;33m=\u001b[0m \u001b[0mt\u001b[0m\u001b[1;33m\u001b[0m\u001b[1;33m\u001b[0m\u001b[0m\n\u001b[0m",
      "\u001b[1;31mValueError\u001b[0m: not enough values to unpack (expected 5, got 3)"
     ]
    }
   ],
   "source": [
    "t = [1, 2, 3]\n",
    "a, b, c, d, e = t"
   ]
  },
  {
   "cell_type": "code",
   "execution_count": 33,
   "id": "020a7f6c",
   "metadata": {},
   "outputs": [
    {
     "ename": "ValueError",
     "evalue": "too many values to unpack (expected 2)",
     "output_type": "error",
     "traceback": [
      "\u001b[1;31m---------------------------------------------------------------------------\u001b[0m",
      "\u001b[1;31mValueError\u001b[0m                                Traceback (most recent call last)",
      "\u001b[1;32m~\\AppData\\Local\\Temp/ipykernel_9760/3677677900.py\u001b[0m in \u001b[0;36m<module>\u001b[1;34m\u001b[0m\n\u001b[1;32m----> 1\u001b[1;33m \u001b[0ma\u001b[0m\u001b[1;33m,\u001b[0m \u001b[0mb\u001b[0m \u001b[1;33m=\u001b[0m \u001b[0mt\u001b[0m\u001b[1;33m\u001b[0m\u001b[1;33m\u001b[0m\u001b[0m\n\u001b[0m",
      "\u001b[1;31mValueError\u001b[0m: too many values to unpack (expected 2)"
     ]
    }
   ],
   "source": [
    "a, b = t"
   ]
  },
  {
   "cell_type": "markdown",
   "id": "3ce0184a",
   "metadata": {},
   "source": [
    "### <7> 이차원 리스트"
   ]
  },
  {
   "cell_type": "markdown",
   "id": "69672e4c",
   "metadata": {},
   "source": [
    "**이차원 리스트**\n",
    "\n",
    "- 여러 개의 리스트를 하나의 변수에 할당하는 것\n",
    "\n",
    "- 행렬과 같은 개념"
   ]
  },
  {
   "cell_type": "code",
   "execution_count": 34,
   "id": "fd1bc365",
   "metadata": {},
   "outputs": [
    {
     "data": {
      "text/plain": [
       "[[49, 79, 20, 100, 80], [43, 59, 85, 30, 90], [49, 79, 48, 60, 100]]"
      ]
     },
     "execution_count": 34,
     "metadata": {},
     "output_type": "execute_result"
    }
   ],
   "source": [
    "kor_score = [49, 79, 20, 100, 80]\n",
    "math_score = [43, 59, 85, 30, 90]\n",
    "eng_score = [49, 79, 48, 60, 100]\n",
    "midterm_score = [kor_score, math_score, eng_score]\n",
    "midterm_score"
   ]
  },
  {
   "cell_type": "markdown",
   "id": "d0aa06f2",
   "metadata": {},
   "source": [
    "- 이차원 리스트에 인덱싱하여 값에 접근하기 위해서는 대괄호 2개를 사용\n",
    "\n",
    "- 이차원 리스트를 행렬로 본다면 [0]은 행, [2]는 열을 의미\n",
    "\n",
    "- 이차원 리스트는 데이터를 관리할 때 자주 사용하는 방법 중 하나 (해당 행의 열 값 추출)"
   ]
  },
  {
   "cell_type": "code",
   "execution_count": 35,
   "id": "e659a5c8",
   "metadata": {},
   "outputs": [
    {
     "name": "stdout",
     "output_type": "stream",
     "text": [
      "20\n"
     ]
    }
   ],
   "source": [
    "print(midterm_score[0][2])"
   ]
  },
  {
   "cell_type": "markdown",
   "id": "113da6f9",
   "metadata": {},
   "source": [
    "## 05. 리스트의 메모리 관리 방식 "
   ]
  },
  {
   "cell_type": "markdown",
   "id": "34546fdf",
   "metadata": {},
   "source": [
    "### <1> 리스트의 메모리 저장 "
   ]
  },
  {
   "cell_type": "markdown",
   "id": "047dd8d2",
   "metadata": {},
   "source": [
    "파이썬은 리스트를 저장할 때 값 자체가 아니라, 값이 위치한 메모리 주소를 저장"
   ]
  },
  {
   "cell_type": "code",
   "execution_count": 36,
   "id": "9b18efd1",
   "metadata": {},
   "outputs": [
    {
     "data": {
      "text/plain": [
       "[[49, 79, 20, 100, 80], [43, 59, 85, 30, 90], [49, 79, 48, 60, 100]]"
      ]
     },
     "execution_count": 36,
     "metadata": {},
     "output_type": "execute_result"
    }
   ],
   "source": [
    "kor_score = [49, 79, 20, 100, 80]\n",
    "math_score = [43, 59, 85, 30, 90]\n",
    "eng_score = [49, 79, 48, 60, 100]\n",
    "midterm_score = [kor_score, math_score, eng_score]\n",
    "midterm_score"
   ]
  },
  {
   "cell_type": "code",
   "execution_count": 37,
   "id": "450123a2",
   "metadata": {},
   "outputs": [
    {
     "data": {
      "text/plain": [
       "[[49, 79, 20, 100, 80], [1000, 59, 85, 30, 90], [49, 79, 48, 60, 100]]"
      ]
     },
     "execution_count": 37,
     "metadata": {},
     "output_type": "execute_result"
    }
   ],
   "source": [
    "math_score[0] = 1000\n",
    "midterm_score"
   ]
  },
  {
   "cell_type": "markdown",
   "id": "3cedc18b",
   "metadata": {},
   "source": [
    "-> midterm_score은 리스트 kor_score, math_score, eng_score의 값이 위치한 메모리 주소를 저장"
   ]
  },
  {
   "cell_type": "code",
   "execution_count": 38,
   "id": "f927d351",
   "metadata": {},
   "outputs": [
    {
     "data": {
      "text/plain": [
       "False"
      ]
     },
     "execution_count": 38,
     "metadata": {},
     "output_type": "execute_result"
    }
   ],
   "source": [
    "a = 300\n",
    "b = 300\n",
    "a is b"
   ]
  },
  {
   "cell_type": "code",
   "execution_count": 40,
   "id": "af6920bd",
   "metadata": {},
   "outputs": [
    {
     "data": {
      "text/plain": [
       "True"
      ]
     },
     "execution_count": 40,
     "metadata": {},
     "output_type": "execute_result"
    }
   ],
   "source": [
    "a == b"
   ]
  },
  {
   "cell_type": "markdown",
   "id": "e3d749bc",
   "metadata": {},
   "source": [
    "== 은 값을 비교하는 연산이고, is는 메모리의 주소를 비교하는 연산\n",
    "\n",
    "a와 b의 값은 300으로 같으나, 메모리 주소는 다름"
   ]
  },
  {
   "cell_type": "code",
   "execution_count": 41,
   "id": "42c7242d",
   "metadata": {},
   "outputs": [
    {
     "data": {
      "text/plain": [
       "True"
      ]
     },
     "execution_count": 41,
     "metadata": {},
     "output_type": "execute_result"
    }
   ],
   "source": [
    "a = 1\n",
    "b = 1\n",
    "a is b"
   ]
  },
  {
   "cell_type": "code",
   "execution_count": 42,
   "id": "89bde715",
   "metadata": {},
   "outputs": [
    {
     "data": {
      "text/plain": [
       "True"
      ]
     },
     "execution_count": 42,
     "metadata": {},
     "output_type": "execute_result"
    }
   ],
   "source": [
    "a == b"
   ]
  },
  {
   "cell_type": "markdown",
   "id": "74de5f95",
   "metadata": {},
   "source": [
    "Python은 -5~256 까지의 값은 임시 메모리에 저장해서 같은 메모리 영역을 참조. 그러나, 257을 넘어가는 정수 값 부터는 다른 메모리 영역에 저장됨."
   ]
  },
  {
   "cell_type": "markdown",
   "id": "9107343c",
   "metadata": {},
   "source": [
    "### <2> 메모리 저장 구조로 인한 리스트의 특징 "
   ]
  },
  {
   "cell_type": "markdown",
   "id": "9416170a",
   "metadata": {},
   "source": [
    "**2.1 하나의 리스트에 다양한 자료형 포함 가능**\n",
    "\n",
    "- 다양한 자료형이 하나의 리스트에 모두 들어갈 수 있음"
   ]
  },
  {
   "cell_type": "code",
   "execution_count": 44,
   "id": "bb566ee3",
   "metadata": {},
   "outputs": [
    {
     "data": {
      "text/plain": [
       "['color', 1, 0.2]"
      ]
     },
     "execution_count": 44,
     "metadata": {},
     "output_type": "execute_result"
    }
   ],
   "source": [
    "a = [\"color\", 1, 0.2]\n",
    "a"
   ]
  },
  {
   "cell_type": "markdown",
   "id": "179a8616",
   "metadata": {},
   "source": [
    "- 기존 변수들과 함께 리스트 안에 다른 리스트를 넣을 수 있다\n",
    "\n",
    "    - 흔히 이를 중첩 리스트라고 함\n",
    "    \n",
    "    - 이러한 특징은 파이썬의 리스트가 값이 아닌 메모리의 주소를 저장해 메모리에 새로운 값을 할당하는 데 있어 매우 높은 자유도를 보장하므로 가능"
   ]
  },
  {
   "cell_type": "code",
   "execution_count": 45,
   "id": "bc6491e5",
   "metadata": {},
   "outputs": [
    {
     "name": "stdout",
     "output_type": "stream",
     "text": [
      "[['yellow', 'blue', 'green', 'black', 'purple'], 1, 0.2]\n"
     ]
    }
   ],
   "source": [
    "a = [\"color\", 1, 0.2]\n",
    "color = ['yellow', 'blue', 'green', 'black', 'purple']\n",
    "a[0] = color\n",
    "print(a)"
   ]
  },
  {
   "cell_type": "markdown",
   "id": "de0f8b06",
   "metadata": {},
   "source": [
    "**2.2 리스트의 저장 방식**"
   ]
  },
  {
   "cell_type": "code",
   "execution_count": 46,
   "id": "ddb21957",
   "metadata": {},
   "outputs": [
    {
     "name": "stdout",
     "output_type": "stream",
     "text": [
      "[5, 4, 3, 2, 1]\n"
     ]
    }
   ],
   "source": [
    "a = [5, 4, 3, 2, 1]\n",
    "b = [1, 2, 3, 4, 5]\n",
    "b = a\n",
    "print(b)"
   ]
  },
  {
   "cell_type": "code",
   "execution_count": 47,
   "id": "0ec4c2fd",
   "metadata": {},
   "outputs": [
    {
     "name": "stdout",
     "output_type": "stream",
     "text": [
      "[1, 2, 3, 4, 5]\n"
     ]
    }
   ],
   "source": [
    "a.sort()\n",
    "print(b)"
   ]
  },
  {
   "cell_type": "markdown",
   "id": "f162fd53",
   "metadata": {},
   "source": [
    "a를 정렬했는데, b도 정렬됨\n",
    "\n",
    "b = a를 하면 b가 a의 메모리 주소를 가리키도록 할당되기 때문\n",
    "\n",
    "두 변수가 같은 메모리 주소와 연결되어 있으므로, 하나의 변수값만 바뀌더라도 둘 다 영향을 받게 되는 것"
   ]
  },
  {
   "cell_type": "code",
   "execution_count": 48,
   "id": "9b3c6963",
   "metadata": {},
   "outputs": [
    {
     "name": "stdout",
     "output_type": "stream",
     "text": [
      "[1, 2, 3, 4, 5] [6, 7, 8, 9, 10]\n"
     ]
    }
   ],
   "source": [
    "b = [6, 7, 8, 9, 10]\n",
    "print(a, b)"
   ]
  },
  {
   "cell_type": "markdown",
   "id": "2f645ded",
   "metadata": {},
   "source": [
    "b에 새로운 값이 할당됨\n",
    "\n",
    "더 이상 b가 a의 메모리 주소를 가리키지 않음"
   ]
  },
  {
   "cell_type": "markdown",
   "id": "bcbcd7c6",
   "metadata": {},
   "source": [
    "## 요약 "
   ]
  },
  {
   "cell_type": "markdown",
   "id": "4e0f3e33",
   "metadata": {},
   "source": [
    "1. 컴퓨터에 명령을 입력할 때 사용하는 환경을 사용자 인터페이스(user interface)라고 한다."
   ]
  },
  {
   "cell_type": "markdown",
   "id": "a09dadd4",
   "metadata": {},
   "source": [
    "2. 사용자 인터페이스에는 GUI(Graphical User Interface)와 CLI(Command Line Interface)가 있다. 일반적으로 GUI 환경에서는 아이콘을 하나 클릭하면 그에 대한 명령이 실행된다. CLI는 마우스의 클릭이 아닌 키보드만으로 명령을 입력하는 환경이다."
   ]
  },
  {
   "cell_type": "markdown",
   "id": "47c1ce47",
   "metadata": {},
   "source": [
    "## 연습문제"
   ]
  },
  {
   "cell_type": "markdown",
   "id": "78f6eccb",
   "metadata": {},
   "source": [
    "**1. 다음 코드의 실행 결과를 쓰시오.**"
   ]
  },
  {
   "cell_type": "code",
   "execution_count": 4,
   "id": "938bd6e1",
   "metadata": {},
   "outputs": [
    {
     "name": "stdout",
     "output_type": "stream",
     "text": [
      "[0, 1, 2] [0, 1]\n"
     ]
    }
   ],
   "source": [
    "a = [0, 1, 2, 3, 4]\n",
    "print(a[:3], a[:-3])"
   ]
  },
  {
   "cell_type": "markdown",
   "id": "580a0b5f",
   "metadata": {},
   "source": [
    "a[0] = 0, a[1] = 1, a[2] = 2, a[3] = 3, a[4] = 4\n",
    "\n",
    "a[:3] = a[0 ~ 2] = [0, 1, 2] -> 슬라이싱\n",
    "\n",
    "a[-5] = 0, a[-4] = 1, a[-3] = 2, a[-2] = 3, a[-1] = 4 \n",
    "\n",
    "a[:-3] = a[-5 ~ -4] = [0, 1] -> 리버스 인덱스의 슬라이싱"
   ]
  },
  {
   "cell_type": "markdown",
   "id": "fe3c53be",
   "metadata": {},
   "source": [
    "**2. 다음 코드의 실행 결과를 쓰시오.**"
   ]
  },
  {
   "cell_type": "code",
   "execution_count": 5,
   "id": "6ccd94f9",
   "metadata": {},
   "outputs": [
    {
     "name": "stdout",
     "output_type": "stream",
     "text": [
      "[4, 3, 2, 1, 0]\n"
     ]
    }
   ],
   "source": [
    "a = [0, 1, 2, 3, 4]\n",
    "print(a[::-1])"
   ]
  },
  {
   "cell_type": "markdown",
   "id": "930bacbf",
   "metadata": {},
   "source": [
    "증가값 개념 이용\n",
    "\n",
    "-1 : 역방향으로 증가값이 실행. 마지막 값부터 시작하여 차례대로 결과가 화면에 출력\n",
    "\n",
    "변수명[시작 인덱스:마지막 인덱스:증가값]"
   ]
  },
  {
   "cell_type": "markdown",
   "id": "5ddf2a9d",
   "metadata": {},
   "source": [
    "**3. 다음 코드의 실행 결과를 쓰시오.**"
   ]
  },
  {
   "cell_type": "code",
   "execution_count": 9,
   "id": "ee6ef32b",
   "metadata": {},
   "outputs": [
    {
     "name": "stdout",
     "output_type": "stream",
     "text": [
      "[['egg', 'salad', 'bread'], ['lamb', 'chicken'], ['apple']]\n"
     ]
    }
   ],
   "source": [
    "first = [\"egg\", \"salad\", \"bread\", \"soup\", \"canafe\"]\n",
    "second = [\"fish\", \"lamb\", \"pork\", \"beef\", \"chicken\"]\n",
    "third = [\"apple\", \"banana\", \"orange\", \"grape\", \"mango\"]\n",
    "\n",
    "order = [first, second, third]\n",
    "john = [order[0][:-2], second[1::3], third[0]]\n",
    "del john[2]\n",
    "john.extend([order[2][0:1]])\n",
    "print(john)"
   ]
  },
  {
   "cell_type": "markdown",
   "id": "dcf9bf53",
   "metadata": {},
   "source": [
    "order는 중첩 리스트. first, second, third의 주소를 가리킴\n",
    "\n",
    "order[0]는 리스트 first. first[:-2]는 [\"egg\", \"salad\", \"bread\"]\n",
    "\n",
    "second[1::3]은 [\"fish\", \"beef\"]\n",
    "\n",
    "third[0]은 \"apple\"\n",
    "\n",
    "john = [[\"egg\", \"salad\", \"bread\"], [\"fish\", \"beef\"], \"apple\"]\n",
    "\n",
    "del john[2] -> [[\"egg\", \"salad\", \"bread\"], [\"fish\", \"beef\"]]\n",
    "\n",
    "[order[2][0:1]]는 [third[0:1]], [\"apple\"]\n",
    "\n",
    "john은 [[\"egg\", \"salad\", \"bread\"], [\"fish\", \"beef\"], [\"apple\"]]"
   ]
  },
  {
   "cell_type": "markdown",
   "id": "558cd236",
   "metadata": {},
   "source": [
    "**4. 다음 코드의 실행 결과를 쓰시오.**"
   ]
  },
  {
   "cell_type": "code",
   "execution_count": 14,
   "id": "f742d9bd",
   "metadata": {},
   "outputs": [
    {
     "name": "stdout",
     "output_type": "stream",
     "text": [
      "[1, 2, 3, 4] None\n"
     ]
    }
   ],
   "source": [
    "list_a = [3, 2, 1, 4]\n",
    "list_b = list_a.sort()\n",
    "print(list_a, list_b)"
   ]
  },
  {
   "cell_type": "markdown",
   "id": "e4ebe80d",
   "metadata": {},
   "source": [
    "list_a = [3, 2, 1, 4]\n",
    "\n",
    "list_a.sort() -> list_a =  [1, 2, 3, 4]\n",
    "\n",
    "https://docs.python.org/ko/3/howto/sorting.html\n",
    "\n",
    "sort() 함수는 리스트를 제자리에서 수정함. 수정된 새로운 변수가 만들어지는 것이 아니라, 기존 변수가 수정되는 것.\n",
    "\n",
    "따라서 리턴값은 None임\n",
    "\n",
    "그러나 sorted() 함수의 경우는 수정된 값을 새 변수에 할당 가능함\n",
    "\n",
    "그러므로 이 문제에서는 list_a 만 그 값이 정렬되고, list_b에는 None값이 들어감\n",
    "\n",
    "[1, 2, 3, 4] None"
   ]
  },
  {
   "cell_type": "markdown",
   "id": "1fdd0e0c",
   "metadata": {},
   "source": [
    "**5. 다음 코드의 실행 결과를 쓰시오.**"
   ]
  },
  {
   "cell_type": "code",
   "execution_count": 35,
   "id": "3d4be869",
   "metadata": {},
   "outputs": [
    {
     "name": "stdout",
     "output_type": "stream",
     "text": [
      "None\n"
     ]
    }
   ],
   "source": [
    "a = [5, 7, 3]\n",
    "b = [3, 9, 1]\n",
    "c = a + b\n",
    "c = c.sort()\n",
    "print(c)"
   ]
  },
  {
   "cell_type": "markdown",
   "id": "9ef18e02",
   "metadata": {},
   "source": [
    "c = a + b = [5, 7, 3, 3, 9, 1]\n",
    "\n",
    "c.sort() -> [1, 3, 3, 5, 7, 9]\n",
    "\n",
    "그러나 여기서는 c.sort()를 이용해서 c의 값을 재할당해줌\n",
    "\n",
    "c.sort()는 None 값을 리턴\n",
    "\n",
    "만약 정렬된 원래의 c값을 출력하고 싶었다면, sorted()함수를 사용하거나, c.sort()를 한 다음, 다음 줄에 c를 출력해주어야했음"
   ]
  },
  {
   "cell_type": "code",
   "execution_count": 41,
   "id": "123c77ae",
   "metadata": {},
   "outputs": [
    {
     "name": "stdout",
     "output_type": "stream",
     "text": [
      "[1, 3, 3, 5, 7, 9]\n"
     ]
    }
   ],
   "source": [
    "a = [5, 7, 3]\n",
    "b = [3, 9, 1]\n",
    "c = a + b\n",
    "c = sorted(c)\n",
    "print(c)"
   ]
  },
  {
   "cell_type": "code",
   "execution_count": 38,
   "id": "a238fc46",
   "metadata": {},
   "outputs": [
    {
     "name": "stdout",
     "output_type": "stream",
     "text": [
      "[1, 3, 3, 5, 7, 9]\n"
     ]
    }
   ],
   "source": [
    "a = [5, 7, 3]\n",
    "b = [3, 9, 1]\n",
    "c = a + b\n",
    "c.sort()\n",
    "print(c)"
   ]
  },
  {
   "cell_type": "markdown",
   "id": "a58324d8",
   "metadata": {},
   "source": [
    "**6. GUI와 CLI의 설명으로 틀린 것은?**"
   ]
  },
  {
   "cell_type": "markdown",
   "id": "800880e0",
   "metadata": {},
   "source": [
    "(1) GUI는 Graphical User Interface의 약자이다. -> O\n",
    "\n",
    "(2) GUI는 마우스로 아이콘을 클릭하며 프로그램을 작동시키는 컴퓨팅 환경을 말한다. -> O\n",
    "\n",
    "(3) CLI는 Command Line Interface의 약자이다. -> O\n",
    "\n",
    "(4) CLI는 텍스트를 사용하여 컴퓨터에 명령을 입력하는 인터페이스 체계를 말한다. -> O\n",
    "\n",
    "(5) CLI는 윈도에서는 불가능하고, 맥 또는 리눅스에서만 터미널로 작동한다 -> X. 윈도에서도 명령어 창(command window)으로 작동 가능"
   ]
  },
  {
   "cell_type": "markdown",
   "id": "54bddafa",
   "metadata": {},
   "source": [
    "**7. 다음 코드의 실행 결과를 쓰시오.**"
   ]
  },
  {
   "cell_type": "code",
   "execution_count": 22,
   "id": "0e0d776d",
   "metadata": {},
   "outputs": [
    {
     "name": "stdout",
     "output_type": "stream",
     "text": [
      "['orange', 'strawberry', 'melon'] ['banana', 'orange']\n"
     ]
    }
   ],
   "source": [
    "fruits = ['apple', 'banana', 'cherry', 'grape', 'orange', 'strawberry', 'melon']\n",
    "print(fruits[-3:], fruits[1::3])"
   ]
  },
  {
   "cell_type": "markdown",
   "id": "1dcf3634",
   "metadata": {},
   "source": [
    "fruits[-3:] = ['orange', 'strawberry', 'melon'] -> 리버스 인덱스의 슬라이싱 -3, -2, -1\n",
    "\n",
    "fruits[1::3] = ['banana', 'orange'] -> 1번 인덱스 값부터 3의 증가값을 가지고 슬라이싱"
   ]
  },
  {
   "cell_type": "markdown",
   "id": "8186bb08",
   "metadata": {},
   "source": [
    "**8. 다음 코드의 실행 결과를 쓰시오.**"
   ]
  },
  {
   "cell_type": "code",
   "execution_count": 23,
   "id": "a606728b",
   "metadata": {},
   "outputs": [
    {
     "name": "stdout",
     "output_type": "stream",
     "text": [
      "[1, 2, 3, 4, 1, 2, 3, 4]\n"
     ]
    }
   ],
   "source": [
    "num = [1, 2, 3, 4]\n",
    "print(num * 2)"
   ]
  },
  {
   "cell_type": "markdown",
   "id": "82367d82",
   "metadata": {},
   "source": [
    "[1, 2, 3, 4, 1, 2, 3, 4] -> 리스트의 곱셈 연산"
   ]
  },
  {
   "cell_type": "markdown",
   "id": "1835e821",
   "metadata": {},
   "source": [
    "**9. 다음 코드의 실행 결과를 쓰시오.**"
   ]
  },
  {
   "cell_type": "code",
   "execution_count": 20,
   "id": "ff957e0a",
   "metadata": {},
   "outputs": [
    {
     "name": "stdout",
     "output_type": "stream",
     "text": [
      "False 6\n"
     ]
    }
   ],
   "source": [
    "a = [1, 2, 3, 5]\n",
    "b = ['a', 'b', 'c', 'd', 'e']\n",
    "\n",
    "a.append('g')\n",
    "b.append(6)\n",
    "print('g' in b, len(b))"
   ]
  },
  {
   "cell_type": "markdown",
   "id": "bf87c63a",
   "metadata": {},
   "source": [
    "a.append('g')\n",
    "\n",
    "-> [1, 2, 3, 5, 'g']\n",
    "\n",
    "b.append(6)\n",
    "\n",
    "-> ['a', 'b', 'c', 'd', 'e', 6]\n",
    "\n",
    "'g' in b -> False\n",
    "\n",
    "len(b) -> 6"
   ]
  },
  {
   "cell_type": "markdown",
   "id": "6868bd6f",
   "metadata": {},
   "source": [
    "**10. 다음과 같이 코드를 작성했을 때, 실행 결과로 알맞은 것은?**"
   ]
  },
  {
   "cell_type": "markdown",
   "id": "5fa1e75d",
   "metadata": {},
   "source": [
    "-> 3번 ['Hankook', 'is', 'academic', 'located', 'South Korea']"
   ]
  },
  {
   "cell_type": "code",
   "execution_count": 24,
   "id": "eb3cce29",
   "metadata": {},
   "outputs": [
    {
     "name": "stdout",
     "output_type": "stream",
     "text": [
      "['Hankook', 'is', 'academic', 'located', 'South Korea']\n"
     ]
    }
   ],
   "source": [
    "list_a = ['Hankook', 'University', 'is', 'an', 'academic', 'institute', 'located', 'in', 'South Korea']\n",
    "list_b = []\n",
    "for i in range(len(list_a)):\n",
    "    if i % 2 != 1:\n",
    "        list_b.append(list_a[i])\n",
    "print(list_b)"
   ]
  },
  {
   "cell_type": "markdown",
   "id": "dada2e05",
   "metadata": {},
   "source": [
    "len(list_a) = 9\n",
    "\n",
    "if i % 2 != 1 -> i가 0이거나, 짝수일 때만\n",
    "\n",
    "list_b.append(list_a[i]) -> list_a의 i번 인덱스 값을 list_b에 append함\n",
    "\n",
    "list_b = ['Hankook', 'is', 'academic', 'located', 'South Korea']"
   ]
  },
  {
   "cell_type": "markdown",
   "id": "15b461fa",
   "metadata": {},
   "source": [
    "**11. 다음 코드를 실행한 후, 2018과 \"2018\"을 각각 입력했을 경우 알맞은 실행 결과끼리 묶인 것은?**"
   ]
  },
  {
   "cell_type": "markdown",
   "id": "bc584e04",
   "metadata": {},
   "source": [
    "-> 3번 <class 'str>, <class 'str>"
   ]
  },
  {
   "cell_type": "code",
   "execution_count": 27,
   "id": "7fd6e8dc",
   "metadata": {},
   "outputs": [
    {
     "name": "stdout",
     "output_type": "stream",
     "text": [
      "입학 연도를 입력하세요: 2018\n",
      "<class 'str'>\n"
     ]
    }
   ],
   "source": [
    "admission_year = input(\"입학 연도를 입력하세요: \")\n",
    "print(type(admission_year))"
   ]
  },
  {
   "cell_type": "code",
   "execution_count": 26,
   "id": "aeefa6c2",
   "metadata": {},
   "outputs": [
    {
     "name": "stdout",
     "output_type": "stream",
     "text": [
      "입학 연도를 입력하세요: \"2018\"\n",
      "<class 'str'>\n"
     ]
    }
   ],
   "source": [
    "admission_year = input(\"입학 연도를 입력하세요: \")\n",
    "print(type(admission_year))"
   ]
  },
  {
   "cell_type": "markdown",
   "id": "a24486a0",
   "metadata": {},
   "source": [
    "input은 기본적으로 값을 문자형으로 입력받음\n",
    "\n",
    "고로, 2018로 입력하던, \"2018\"로 입력하던 둘 다 str형임\n",
    "\n",
    "만약 정수형 2018 값을 원한다면, int() 함수를 이용해주어야 함"
   ]
  },
  {
   "cell_type": "markdown",
   "id": "e11f25ae",
   "metadata": {},
   "source": [
    "**12. 다음 코드의 실행 결과를 쓰시오.**"
   ]
  },
  {
   "cell_type": "code",
   "execution_count": 29,
   "id": "84f6c0df",
   "metadata": {
    "scrolled": true
   },
   "outputs": [
    {
     "name": "stdout",
     "output_type": "stream",
     "text": [
      "['Korea', 'Japan', 'China', ['Seoul', [2, 3], 'Beijing']]\n"
     ]
    }
   ],
   "source": [
    "country = [\"Korea\", \"Japan\", \"China\"]\n",
    "capital = [\"Seoul\", \"Tokyo\", \"Beijing\"]\n",
    "index = [1, 2, 3]\n",
    "country.append(capital)\n",
    "country[3][1] = index[1:]\n",
    "print(country)"
   ]
  },
  {
   "cell_type": "markdown",
   "id": "4a4a8477",
   "metadata": {},
   "source": [
    "country.append(capital)\n",
    "\n",
    "-> country = ['korea', 'Japan', 'China', ['Seoul', 'Tokyo', 'Beijing']\n",
    "\n",
    "index[1:] -> [2, 3]\n",
    "\n",
    "country[3] = ['Seoul', 'Tokyo', 'Beijing']\n",
    "\n",
    "country[3][1] = 'Tokyo'\n",
    "\n",
    "country = ['korea', 'Japan', 'China', ['Seoul', [2, 3], 'Beijing']"
   ]
  },
  {
   "cell_type": "markdown",
   "id": "4f4ae84b",
   "metadata": {},
   "source": [
    "**13. 다음 코드의 실행 결과가 나오도록 빈칸에 알맞은 코드를 쓰시오.**"
   ]
  },
  {
   "cell_type": "code",
   "execution_count": 30,
   "id": "ce84652a",
   "metadata": {},
   "outputs": [
    {
     "name": "stdout",
     "output_type": "stream",
     "text": [
      "['Thu', 'Fri']\n"
     ]
    }
   ],
   "source": [
    "week1 = [\"Mon\", \"Tue\", \"Wed\"]\n",
    "week2 = [\"Thu\", \"Fri\", \"Sat\", \"Sun\"]\n",
    "week3 = [\"1\"]\n",
    "print(week2[:len(week3) + 1])\n",
    "# ['Thu', 'Fri']"
   ]
  },
  {
   "cell_type": "markdown",
   "id": "3d97afa7",
   "metadata": {},
   "source": [
    "week2[:len(week3) + 1]이 ['Thu', 'Fri']이려면\n",
    "\n",
    "week2[:2]로 len(week3) + 1이 2여야 함.\n",
    "\n",
    "len(week3) = 1\n",
    "\n",
    "week3은 요소가 하나인 아무 리스트로나 초기화해주면 됨"
   ]
  },
  {
   "cell_type": "markdown",
   "id": "90a43c41",
   "metadata": {},
   "source": [
    "**14. 다음 코드를 실행하면 다음과 같은 결과가 나온다. 그 이유에 대해 서술하시오.**"
   ]
  },
  {
   "cell_type": "code",
   "execution_count": 31,
   "id": "0c48ca54",
   "metadata": {},
   "outputs": [
    {
     "data": {
      "text/plain": [
       "True"
      ]
     },
     "execution_count": 31,
     "metadata": {},
     "output_type": "execute_result"
    }
   ],
   "source": [
    "a = 1\n",
    "b = 1\n",
    "a is b\n",
    "# True"
   ]
  },
  {
   "cell_type": "code",
   "execution_count": 32,
   "id": "18ecd0c4",
   "metadata": {},
   "outputs": [
    {
     "data": {
      "text/plain": [
       "False"
      ]
     },
     "execution_count": 32,
     "metadata": {},
     "output_type": "execute_result"
    }
   ],
   "source": [
    "a = 300\n",
    "b = 300\n",
    "a is b\n",
    "# False"
   ]
  },
  {
   "cell_type": "markdown",
   "id": "4696d681",
   "metadata": {},
   "source": [
    "Python은 -5~256 까지의 값은 임시 메모리에 저장해서 같은 메모리 영역을 참조. 그러나, 257을 넘어가는 정수 값 부터는 다른 메모리 영역에 저장됨."
   ]
  },
  {
   "cell_type": "markdown",
   "id": "140ddf08",
   "metadata": {},
   "source": [
    "**15. 다음과 같이 코드를 작성했을 때 예측되는 실행 결과를 쓰고, 이러한 결과가 나오는 이유에 대해 서술하시오.**"
   ]
  },
  {
   "cell_type": "code",
   "execution_count": 33,
   "id": "1e05ae82",
   "metadata": {},
   "outputs": [
    {
     "data": {
      "text/plain": [
       "True"
      ]
     },
     "execution_count": 33,
     "metadata": {},
     "output_type": "execute_result"
    }
   ],
   "source": [
    "a = [5, 4, 3, 2, 1]\n",
    "b = a\n",
    "c = [5, 4, 3, 2, 1]\n",
    "a is b"
   ]
  },
  {
   "cell_type": "markdown",
   "id": "9e2c3aac",
   "metadata": {},
   "source": [
    "-> True\n",
    "\n",
    "b는 b = a로 리스트 a의 주소를 가리키고 있음.\n",
    "\n",
    "is는 두 요소의 주소를 비교. 따라서 True"
   ]
  },
  {
   "cell_type": "code",
   "execution_count": 34,
   "id": "edca3138",
   "metadata": {},
   "outputs": [
    {
     "data": {
      "text/plain": [
       "False"
      ]
     },
     "execution_count": 34,
     "metadata": {},
     "output_type": "execute_result"
    }
   ],
   "source": [
    "a is c"
   ]
  },
  {
   "cell_type": "markdown",
   "id": "8623e169",
   "metadata": {},
   "source": [
    "-> False\n",
    "\n",
    "is는 두 요소의 주소를 비교.\n",
    "\n",
    "리스트 a와 c는 값은 같은 값을 가지나, 주소는 다름. 따라서 False"
   ]
  }
 ],
 "metadata": {
  "kernelspec": {
   "display_name": "Python 3 (ipykernel)",
   "language": "python",
   "name": "python3"
  },
  "language_info": {
   "codemirror_mode": {
    "name": "ipython",
    "version": 3
   },
   "file_extension": ".py",
   "mimetype": "text/x-python",
   "name": "python",
   "nbconvert_exporter": "python",
   "pygments_lexer": "ipython3",
   "version": "3.9.6"
  }
 },
 "nbformat": 4,
 "nbformat_minor": 5
}
