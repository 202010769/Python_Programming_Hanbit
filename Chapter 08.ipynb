{
 "cells": [
  {
   "cell_type": "markdown",
   "id": "c03c3e0b",
   "metadata": {},
   "source": [
    "1."
   ]
  },
  {
   "cell_type": "code",
   "execution_count": 1,
   "id": "ebabd6e7",
   "metadata": {},
   "outputs": [
    {
     "name": "stdout",
     "output_type": "stream",
     "text": [
      "[(0, 'apple'), (1, 'banana'), (2, 'grape')]\n"
     ]
    }
   ],
   "source": [
    "mylist = ['apple', 'banana', 'grape']\n",
    "result = list(enumerate(mylist))\n",
    "print(result)"
   ]
  },
  {
   "cell_type": "markdown",
   "id": "e5b49b44",
   "metadata": {},
   "source": [
    "2."
   ]
  },
  {
   "cell_type": "code",
   "execution_count": 2,
   "id": "29692032",
   "metadata": {},
   "outputs": [
    {
     "name": "stdout",
     "output_type": "stream",
     "text": [
      "{'my': 5, 'cat': 6, 'has': 2, 'blue': 3, 'eyes,': 4, 'is': 7, 'cute': 8}\n"
     ]
    }
   ],
   "source": [
    "cat_song = \"my cat has blue eyes, my cat is cute\"\n",
    "print({i:j for j, i in enumerate(cat_song.split())})"
   ]
  },
  {
   "cell_type": "markdown",
   "id": "57577097",
   "metadata": {},
   "source": [
    "3."
   ]
  },
  {
   "cell_type": "code",
   "execution_count": 3,
   "id": "1069f095",
   "metadata": {},
   "outputs": [
    {
     "name": "stdout",
     "output_type": "stream",
     "text": [
      "orange&pink&brown&black&white\n"
     ]
    }
   ],
   "source": [
    "colors = ['orange', 'pink', 'brown', 'black', 'white']\n",
    "result = '&'.join(colors)\n",
    "print(result)"
   ]
  },
  {
   "cell_type": "markdown",
   "id": "1f616e6f",
   "metadata": {},
   "source": [
    "4."
   ]
  },
  {
   "cell_type": "code",
   "execution_count": 4,
   "id": "89c1de26",
   "metadata": {},
   "outputs": [
    {
     "name": "stdout",
     "output_type": "stream",
     "text": [
      "{'students': 0, 'superuser': 1, 'professor': 2, 'employee': 3}\n"
     ]
    }
   ],
   "source": [
    "user_dict = {}\n",
    "user_list = [\"students\", \"superuser\", \"professor\", \"employee\"]\n",
    "for value_1, value_2 in enumerate(user_list):\n",
    "    user_dict[value_2] = value_1\n",
    "print(user_dict)"
   ]
  },
  {
   "cell_type": "markdown",
   "id": "75d8393e",
   "metadata": {},
   "source": [
    "5."
   ]
  },
  {
   "cell_type": "code",
   "execution_count": 5,
   "id": "0f3330ba",
   "metadata": {},
   "outputs": [
    {
     "name": "stdout",
     "output_type": "stream",
     "text": [
      "[0, 2, 4, 6, 8]\n"
     ]
    }
   ],
   "source": [
    "result = [i for i in range(10) if i % 2 == 0]\n",
    "print(result)"
   ]
  },
  {
   "cell_type": "code",
   "execution_count": 6,
   "id": "c809090d",
   "metadata": {},
   "outputs": [
    {
     "name": "stdout",
     "output_type": "stream",
     "text": [
      "[0, 1, 2, 3, 4, 5, 6, 7, 8, 9]\n"
     ]
    }
   ],
   "source": [
    "items = 'zero one two three'.split(\"two\")\n",
    "result = [i for i in range(10)]\n",
    "print(result)"
   ]
  },
  {
   "cell_type": "code",
   "execution_count": 7,
   "id": "085912e0",
   "metadata": {},
   "outputs": [
    {
     "name": "stdout",
     "output_type": "stream",
     "text": [
      "['zero', 'one', 'two', 'three']\n"
     ]
    }
   ],
   "source": [
    "items = 'zero one two three'.split()\n",
    "print(items)"
   ]
  },
  {
   "cell_type": "code",
   "execution_count": 9,
   "id": "2105340c",
   "metadata": {},
   "outputs": [
    {
     "name": "stdout",
     "output_type": "stream",
     "text": [
      "cs50\n"
     ]
    }
   ],
   "source": [
    "example = 'cs50.gachon.edu'\n",
    "subdomain, domain, tld = example.split('.')\n",
    "print(subdomain)"
   ]
  },
  {
   "cell_type": "markdown",
   "id": "f046d410",
   "metadata": {},
   "source": [
    "6."
   ]
  },
  {
   "cell_type": "code",
   "execution_count": 10,
   "id": "5be7a60d",
   "metadata": {},
   "outputs": [
    {
     "name": "stdout",
     "output_type": "stream",
     "text": [
      "['Cat', 'Panda', 'Owl']\n"
     ]
    }
   ],
   "source": [
    "animal = ['Fox', 'Dog', 'Cat', 'Monkey', 'Horse', 'Panda', 'Owl']\n",
    "print([ani for ani in animal if 'o' not in ani])"
   ]
  },
  {
   "cell_type": "markdown",
   "id": "3d082928",
   "metadata": {},
   "source": [
    "7."
   ]
  },
  {
   "cell_type": "code",
   "execution_count": 12,
   "id": "d659f9c7",
   "metadata": {},
   "outputs": [
    {
     "name": "stdout",
     "output_type": "stream",
     "text": [
      "DongUniversity\n"
     ]
    }
   ],
   "source": [
    "name = \"Hanbit University\"\n",
    "student = [\"Hong\", \"Gil\", \"Dong\"]\n",
    "split_name = name.split()\n",
    "join_student = ''.join(student)\n",
    "print(join_student[-4:] + split_name[1])"
   ]
  },
  {
   "cell_type": "markdown",
   "id": "7f1ee77c",
   "metadata": {},
   "source": [
    "8."
   ]
  },
  {
   "cell_type": "code",
   "execution_count": 13,
   "id": "b92e9233",
   "metadata": {},
   "outputs": [
    {
     "name": "stdout",
     "output_type": "stream",
     "text": [
      "20\n"
     ]
    }
   ],
   "source": [
    "kor_score = [49, 79, 20, 100, 80]\n",
    "math_score = [43, 59, 85, 30, 90]\n",
    "eng_score = [49, 79, 48, 60, 100]\n",
    "midterm_score = [kor_score, math_score, eng_score]\n",
    "print(midterm_score[0][2])"
   ]
  },
  {
   "cell_type": "markdown",
   "id": "e600c961",
   "metadata": {},
   "source": [
    "9."
   ]
  },
  {
   "cell_type": "code",
   "execution_count": 14,
   "id": "3cf37ed0",
   "metadata": {},
   "outputs": [
    {
     "name": "stdout",
     "output_type": "stream",
     "text": [
      "[[12, 3], [15, 3]]\n"
     ]
    }
   ],
   "source": [
    "a = [1,2,3]\n",
    "b = [4,5,]\n",
    "c = [7,8,9]\n",
    "print([[sum(k), len(k)] for k in zip(a, b, c)])"
   ]
  },
  {
   "cell_type": "markdown",
   "id": "b8494a7e",
   "metadata": {},
   "source": [
    "10."
   ]
  },
  {
   "cell_type": "code",
   "execution_count": 15,
   "id": "b19b1812",
   "metadata": {},
   "outputs": [
    {
     "name": "stdout",
     "output_type": "stream",
     "text": [
      "yellow\n"
     ]
    }
   ],
   "source": [
    "week = ['mon', 'tue', 'wed', 'thu', 'fri', 'sat', 'sun']\n",
    "rainbow = ['red', 'orange', 'yellow', 'green', 'blue', 'navy', 'purple']\n",
    "list_data = [week, rainbow]\n",
    "\n",
    "print(list_data[1][2])"
   ]
  },
  {
   "cell_type": "markdown",
   "id": "bb966ea6",
   "metadata": {},
   "source": [
    "11."
   ]
  },
  {
   "cell_type": "code",
   "execution_count": 16,
   "id": "e566ecc7",
   "metadata": {},
   "outputs": [
    {
     "name": "stdout",
     "output_type": "stream",
     "text": [
      "score: 72\n"
     ]
    }
   ],
   "source": [
    "kor_score = [30, 79, 20, 100, 80]\n",
    "math_score = [43, 59, 0, 30, 90]\n",
    "eng_score = [49, 72, 48, 67, 15]\n",
    "midterm_score = [kor_score, math_score, eng_score]\n",
    "print(\"score:\", midterm_score[2][1])"
   ]
  },
  {
   "cell_type": "markdown",
   "id": "894402e3",
   "metadata": {},
   "source": [
    "12."
   ]
  },
  {
   "cell_type": "code",
   "execution_count": 18,
   "id": "a25d2d92",
   "metadata": {},
   "outputs": [
    {
     "name": "stdout",
     "output_type": "stream",
     "text": [
      "['a', '2', 'error']\n"
     ]
    }
   ],
   "source": [
    "alist = [\"a\", \"b\", \"c\"]\n",
    "blist = [\"1\", \"2\", \"3\"]\n",
    "abcd = []\n",
    "\n",
    "for a, b in enumerate(zip(alist, blist)):\n",
    "    try:\n",
    "        abcd.append(b[a])\n",
    "    except IndexError:\n",
    "        abcd.append(\"error\")\n",
    "\n",
    "print(abcd)"
   ]
  },
  {
   "cell_type": "markdown",
   "id": "7bde3970",
   "metadata": {},
   "source": [
    "13."
   ]
  },
  {
   "cell_type": "code",
   "execution_count": 20,
   "id": "5dc88f0a",
   "metadata": {},
   "outputs": [
    {
     "name": "stdout",
     "output_type": "stream",
     "text": [
      "a1 b1\n",
      "a2 b2\n",
      "a3 b3\n"
     ]
    }
   ],
   "source": [
    "alist = ['a1', 'a2', 'a3']\n",
    "blist = ['b1', 'b2', 'b3']\n",
    "for a, b in zip (alist, blist):\n",
    "    print(a, b)"
   ]
  },
  {
   "cell_type": "markdown",
   "id": "df6cd832",
   "metadata": {},
   "source": [
    "14."
   ]
  },
  {
   "cell_type": "code",
   "execution_count": 21,
   "id": "f18d26b0",
   "metadata": {},
   "outputs": [
    {
     "name": "stdout",
     "output_type": "stream",
     "text": [
      "80\n"
     ]
    }
   ],
   "source": [
    "alphabet = [\"a\", \"b\", \"c\", \"d\", \"e\", \"f\", \"g\", \"h\"]\n",
    "nums = [i for i in range(20)]\n",
    "answer = [alpha + str(num) for alpha in alphabet for num in nums if num % 2 == 0]\n",
    "print(len(answer))"
   ]
  },
  {
   "cell_type": "markdown",
   "id": "0afee6c1",
   "metadata": {},
   "source": [
    "15."
   ]
  },
  {
   "cell_type": "code",
   "execution_count": 25,
   "id": "ff6f2f79",
   "metadata": {},
   "outputs": [
    {
     "name": "stdout",
     "output_type": "stream",
     "text": [
      "Gachon cs50\n"
     ]
    }
   ],
   "source": [
    "url = \"cs50.gachon.ac.kr\"\n",
    "university_name = \"Gachon University\"\n",
    "gachon_info = [(i + \" \" + j) for i, j in zip(university_name.split(\" \"), url.split(\".\"))]\n",
    "blank = 0\n",
    "print(gachon_info[blank])"
   ]
  }
 ],
 "metadata": {
  "kernelspec": {
   "display_name": "Python 3 (ipykernel)",
   "language": "python",
   "name": "python3"
  },
  "language_info": {
   "codemirror_mode": {
    "name": "ipython",
    "version": 3
   },
   "file_extension": ".py",
   "mimetype": "text/x-python",
   "name": "python",
   "nbconvert_exporter": "python",
   "pygments_lexer": "ipython3",
   "version": "3.9.7"
  }
 },
 "nbformat": 4,
 "nbformat_minor": 5
}
