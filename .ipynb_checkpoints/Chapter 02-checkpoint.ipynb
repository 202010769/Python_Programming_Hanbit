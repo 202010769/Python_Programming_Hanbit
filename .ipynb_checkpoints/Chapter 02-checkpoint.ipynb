{
 "cells": [
  {
   "cell_type": "markdown",
   "id": "bd780f5d",
   "metadata": {},
   "source": [
    "# Chapter 02. 변수와 자료형 "
   ]
  },
  {
   "cell_type": "markdown",
   "id": "04a18ff7",
   "metadata": {},
   "source": [
    "## 01. 변수의 이해"
   ]
  },
  {
   "cell_type": "markdown",
   "id": "47e81a93",
   "metadata": {},
   "source": [
    "### <1> 변수와 값"
   ]
  },
  {
   "cell_type": "code",
   "execution_count": 1,
   "id": "388f5b87",
   "metadata": {},
   "outputs": [
    {
     "name": "stdout",
     "output_type": "stream",
     "text": [
      "Sungchul Choi\n"
     ]
    }
   ],
   "source": [
    "professor = 'Sungchul Choi'\n",
    "print(professor)"
   ]
  },
  {
   "cell_type": "markdown",
   "id": "19e14005",
   "metadata": {},
   "source": [
    "일반적으로 생각할 때 '=' 기호는 '~와 같다'로 여길 수 있다.\n",
    "\n",
    "하지만 프로그래밍에서는 **\"*professor*라는 공간에 *Sungchul Choi*라는 글자를 넣어라.\"**로 해석할 수 있다.\n",
    "\n",
    "-> 정확하게는 ***professor*라는 변수에 *Sungchul Choi*라는 값을 넣으라는 뜻**"
   ]
  },
  {
   "cell_type": "code",
   "execution_count": 2,
   "id": "abee95ad",
   "metadata": {},
   "outputs": [
    {
     "name": "stdout",
     "output_type": "stream",
     "text": [
      "12\n",
      "a + b\n"
     ]
    }
   ],
   "source": [
    "a = 7\n",
    "b = 5\n",
    "print(a + b)\n",
    "print(\"a + b\")"
   ]
  },
  {
   "cell_type": "markdown",
   "id": "22e52b15",
   "metadata": {},
   "source": [
    "**따옴포의 사용 여부에 따른 의미 차이**\n",
    "\n",
    "|코드|의미|\n",
    "|:--:|:--:|\n",
    "|print(a+b)|a 변수에 있는 값과 b 변수에 있는 값을 더해 화면에 출력하라|\n",
    "|print(\"a+b\")|\"a+b\"의 값을 그대로 화면에 출력하라|"
   ]
  },
  {
   "cell_type": "markdown",
   "id": "50b16558",
   "metadata": {},
   "source": [
    "할당(assignment) : 변수에 값을 넣는 과정"
   ]
  },
  {
   "cell_type": "markdown",
   "id": "84c48821",
   "metadata": {},
   "source": [
    "### <2> 변수와 메모리"
   ]
  },
  {
   "cell_type": "markdown",
   "id": "24400cf1",
   "metadata": {},
   "source": [
    "변수(variable)\n",
    "\n",
    "- 특정 값을 저장하는 장소\n",
    "\n",
    "- 변수에 값을 넣으라고 선언하는 순간 물리적으로 메모리 어딘가에 물리적 공간을 확보할 수 있게 운영체제와 파이썬 인터프리터가 협력하여 메모리 저장 위치를 할당함\n",
    "\n",
    "메모리(memory)\n",
    "\n",
    "- 변수를 저장하는 컴퓨터 내부의 물리적 장소\n",
    "\n",
    "- 변수에 값이 저장되는 공간\n",
    "\n",
    "- ex) RAM(Random Access Memory)\n",
    "\n",
    "  - RAM은 휘발성 성질이 있어 컴퓨터에 전원이 들어와 있는 동안에만 저장됨\n",
    "\n",
    "메모리 주소(address)\n",
    "\n",
    "- 변수의 저장 위치\n",
    "\n",
    "- 메모리 저장 위치"
   ]
  },
  {
   "cell_type": "markdown",
   "id": "32a632e6",
   "metadata": {},
   "source": [
    "### <3> 변수명 선언"
   ]
  },
  {
   "cell_type": "markdown",
   "id": "91d20ff9",
   "metadata": {},
   "source": [
    "변수명 선언 방법\n",
    "\n",
    "1. 알파벳, 숫자, 밑줄(\\_)로 선언할 수 있다.\n",
    "\n",
    "\n",
    "2. 변수명은 의미 있는 단어로 표기하는 것이 좋다.\n",
    "\n",
    "\n",
    "3. 변수명은 대소문자가 구분된다.\n",
    "\n",
    "\n",
    "4. 특별한 의미가 있는 예약어는 사용할 수 없다.\n",
    "\n",
    "  - ex) for, if, else, except 등"
   ]
  },
  {
   "cell_type": "markdown",
   "id": "391debaa",
   "metadata": {},
   "source": [
    "## 02. 자료형과 기본 연산"
   ]
  },
  {
   "cell_type": "markdown",
   "id": "57b49279",
   "metadata": {},
   "source": [
    "### <1> 메모리 공간"
   ]
  },
  {
   "cell_type": "markdown",
   "id": "8fbf6150",
   "metadata": {},
   "source": [
    "하나의 변수를 메모리에 저장할 때, 그 변수의 크기만큼 공간(일정한 용량)을 할당받는다.\n",
    "\n",
    "컴퓨터는 0과 1, 두 가지 정보만 저장할 수 있으므로 이진수를 사용한다. (전류의 흐름을 표현)\n",
    "\n",
    "메모리 공간 단위\n",
    "\n",
    "- 비트(bit) : 이진수 한 자리\n",
    "\n",
    "- 1바이트(byte) : 8개의 비트\n",
    "\n",
    "- 1킬로바이트(kilobyte, KB) : 1,024바이트\n",
    "\n",
    "- 1메가바이트(megabyte, MB) : 1,024킬로바이트"
   ]
  },
  {
   "cell_type": "markdown",
   "id": "51b01960",
   "metadata": {},
   "source": [
    "### <2> 기본 자료형"
   ]
  },
  {
   "cell_type": "markdown",
   "id": "6f4faa2f",
   "metadata": {},
   "source": [
    "**기본 자료형**\n",
    "\n",
    "|유형|자료형|설명|예|선언 형태|\n",
    "|:--:|:----:|:--:|:-:|:------:|\n",
    "|수치형|정수형|양수와 정수|1,2,3,100,-9|data = 1|\n",
    "|수치형|실수형|소수점이 포함된 실수|10.2,-9.3,9.0|data = 9.0|\n",
    "|문자형|문자형|따옴표에 들어가 있는 문자형|abc, a20abc|data = 'abc'|\n",
    "|논리형|불린형|참 또는 거짓|True, False|data = True|"
   ]
  },
  {
   "cell_type": "markdown",
   "id": "5212ee97",
   "metadata": {},
   "source": [
    "동적 타이핑(dynamic typing)\n",
    "\n",
    "- 변수의 메모리 공간을 확보하는 행위가 실행 시점에 발생하는 것을 의미\n",
    "\n",
    "- 변수의 자료형이 어떤 type인지를 프로그래머가 아닌 인터프리터가 스스로 실행 시점에 동적으로 판단하는 것\n",
    "\n",
    "  -> 파이썬 언어가 동적으로 자료형의 결정을 지원"
   ]
  },
  {
   "cell_type": "code",
   "execution_count": 3,
   "id": "90fbabc1",
   "metadata": {},
   "outputs": [
    {
     "name": "stdout",
     "output_type": "stream",
     "text": [
      "1 1\n"
     ]
    }
   ],
   "source": [
    "a = 1 # 정수형\n",
    "b = 1 # 정수형\n",
    "print(a,b)"
   ]
  },
  {
   "cell_type": "code",
   "execution_count": 4,
   "id": "cd865329",
   "metadata": {},
   "outputs": [
    {
     "name": "stdout",
     "output_type": "stream",
     "text": [
      "1.5 1.5\n"
     ]
    }
   ],
   "source": [
    "a = 1.5 # 실수형\n",
    "b = 1.5 # 실수형\n",
    "print(a,b)"
   ]
  },
  {
   "cell_type": "code",
   "execution_count": 5,
   "id": "47fadd2d",
   "metadata": {},
   "outputs": [
    {
     "name": "stdout",
     "output_type": "stream",
     "text": [
      "ABC 101010\n"
     ]
    }
   ],
   "source": [
    "a = \"ABC\" # 문자형\n",
    "b = \"101010\" # 문자형\n",
    "print(a,b)"
   ]
  },
  {
   "cell_type": "code",
   "execution_count": 6,
   "id": "5dccb4a2",
   "metadata": {},
   "outputs": [
    {
     "name": "stdout",
     "output_type": "stream",
     "text": [
      "True False\n"
     ]
    }
   ],
   "source": [
    "a = True # 불린형\n",
    "b = False # 불린형\n",
    "print(a,b)"
   ]
  },
  {
   "cell_type": "markdown",
   "id": "a7dc65ed",
   "metadata": {},
   "source": [
    "### <3> 간단한 연산"
   ]
  },
  {
   "cell_type": "markdown",
   "id": "58dd14ea",
   "metadata": {},
   "source": [
    "연산자 : +,-,\\*,/ 같은 기호\n",
    "\n",
    "피연산자 : 연산자에 의해 계산되는 숫자"
   ]
  },
  {
   "cell_type": "markdown",
   "id": "fb796745",
   "metadata": {},
   "source": [
    "**사칙연산**\n",
    "\n",
    "- 덧셈 연산자는 덧셈 기호(+)\n",
    "\n",
    "- 뺄셈 연산자는 뺄셈 기호(-)\n",
    "\n",
    "- 곱셈 연산자는 별표 기호(\\*)\n",
    "\n",
    "- 나눗셈 연산자는 빗금 기호(/)"
   ]
  },
  {
   "cell_type": "code",
   "execution_count": 7,
   "id": "f01d7be9",
   "metadata": {},
   "outputs": [
    {
     "data": {
      "text/plain": [
       "55"
      ]
     },
     "execution_count": 7,
     "metadata": {},
     "output_type": "execute_result"
    }
   ],
   "source": [
    "25 + 30"
   ]
  },
  {
   "cell_type": "code",
   "execution_count": 8,
   "id": "6a873c71",
   "metadata": {},
   "outputs": [
    {
     "data": {
      "text/plain": [
       "18"
      ]
     },
     "execution_count": 8,
     "metadata": {},
     "output_type": "execute_result"
    }
   ],
   "source": [
    "30 - 12"
   ]
  },
  {
   "cell_type": "code",
   "execution_count": 9,
   "id": "1c0888a7",
   "metadata": {},
   "outputs": [
    {
     "data": {
      "text/plain": [
       "150"
      ]
     },
     "execution_count": 9,
     "metadata": {},
     "output_type": "execute_result"
    }
   ],
   "source": [
    "50 * 3"
   ]
  },
  {
   "cell_type": "code",
   "execution_count": 10,
   "id": "e3674bbb",
   "metadata": {},
   "outputs": [
    {
     "data": {
      "text/plain": [
       "6.0"
      ]
     },
     "execution_count": 10,
     "metadata": {},
     "output_type": "execute_result"
    }
   ],
   "source": [
    "30 / 5"
   ]
  },
  {
   "cell_type": "markdown",
   "id": "d4a88288",
   "metadata": {},
   "source": [
    "**제곱승**\n",
    "\n",
    "- 제곱승을 구하는 연산자는 2개의 별표 기호(\\*\\*)"
   ]
  },
  {
   "cell_type": "code",
   "execution_count": 11,
   "id": "221c2d14",
   "metadata": {},
   "outputs": [
    {
     "name": "stdout",
     "output_type": "stream",
     "text": [
      "243\n"
     ]
    }
   ],
   "source": [
    "print(3 * 3 * 3 * 3 * 3)"
   ]
  },
  {
   "cell_type": "code",
   "execution_count": 12,
   "id": "d682c520",
   "metadata": {},
   "outputs": [
    {
     "name": "stdout",
     "output_type": "stream",
     "text": [
      "243\n"
     ]
    }
   ],
   "source": [
    "print(3 ** 5) # 3의 5승"
   ]
  },
  {
   "cell_type": "markdown",
   "id": "efa849d5",
   "metadata": {},
   "source": [
    "**나눗셈의 몫과 나머지 산출 연산**\n",
    "\n",
    "- 몫을 반환하는 연산자는 2개의 빗금 기호(//)\n",
    "\n",
    "- 나머지 연산자는 백분율 기호(%)"
   ]
  },
  {
   "cell_type": "code",
   "execution_count": 13,
   "id": "3a70f1eb",
   "metadata": {},
   "outputs": [
    {
     "name": "stdout",
     "output_type": "stream",
     "text": [
      "3\n"
     ]
    }
   ],
   "source": [
    "print(7 // 2)"
   ]
  },
  {
   "cell_type": "code",
   "execution_count": 14,
   "id": "21479b27",
   "metadata": {},
   "outputs": [
    {
     "name": "stdout",
     "output_type": "stream",
     "text": [
      "1\n"
     ]
    }
   ],
   "source": [
    "print(7 % 2)"
   ]
  },
  {
   "cell_type": "markdown",
   "id": "ef807e3b",
   "metadata": {},
   "source": [
    "**증가 연산과 감소 연산**\n",
    "\n",
    "- a += 1은 a = a + 1과 같은 뜻으로 사용된다\n",
    "\n",
    "- a -= 1은 a = a - 1과 같은 뜻으로 사용된다"
   ]
  },
  {
   "cell_type": "code",
   "execution_count": 15,
   "id": "3856c759",
   "metadata": {},
   "outputs": [
    {
     "name": "stdout",
     "output_type": "stream",
     "text": [
      "2\n"
     ]
    }
   ],
   "source": [
    "a = 1\n",
    "a = a + 1\n",
    "print(a)"
   ]
  },
  {
   "cell_type": "code",
   "execution_count": 16,
   "id": "8455faef",
   "metadata": {},
   "outputs": [
    {
     "name": "stdout",
     "output_type": "stream",
     "text": [
      "3\n"
     ]
    }
   ],
   "source": [
    "a += 1\n",
    "print(a)"
   ]
  },
  {
   "cell_type": "code",
   "execution_count": 17,
   "id": "181caf13",
   "metadata": {},
   "outputs": [
    {
     "name": "stdout",
     "output_type": "stream",
     "text": [
      "1\n"
     ]
    }
   ],
   "source": [
    "a = a - 1\n",
    "a -= 1\n",
    "print(a)"
   ]
  },
  {
   "cell_type": "markdown",
   "id": "42b5c47a",
   "metadata": {},
   "source": [
    "## 03. 자료형 변환"
   ]
  },
  {
   "cell_type": "markdown",
   "id": "f7c1f1a1",
   "metadata": {},
   "source": [
    "### <1> 정수형과 실수형 간 변환"
   ]
  },
  {
   "cell_type": "markdown",
   "id": "fd245d97",
   "metadata": {},
   "source": [
    "정수형을 실수형으로 변환해주는 float() 함수"
   ]
  },
  {
   "cell_type": "code",
   "execution_count": 18,
   "id": "aec9952e",
   "metadata": {},
   "outputs": [
    {
     "name": "stdout",
     "output_type": "stream",
     "text": [
      "10\n"
     ]
    }
   ],
   "source": [
    "a = 10\n",
    "print(a)"
   ]
  },
  {
   "cell_type": "code",
   "execution_count": 19,
   "id": "fa2893ea",
   "metadata": {},
   "outputs": [
    {
     "name": "stdout",
     "output_type": "stream",
     "text": [
      "10.0\n"
     ]
    }
   ],
   "source": [
    "a = float(10)\n",
    "print(a)"
   ]
  },
  {
   "cell_type": "markdown",
   "id": "15a0c124",
   "metadata": {},
   "source": [
    "인터프리터는 변수 간을 계산할 때, 필요에 따라, 정수형을 실수형으로 변환한다."
   ]
  },
  {
   "cell_type": "code",
   "execution_count": 20,
   "id": "4d7895f5",
   "metadata": {},
   "outputs": [
    {
     "name": "stdout",
     "output_type": "stream",
     "text": [
      "3.3333333333333335\n"
     ]
    }
   ],
   "source": [
    "a = 10\n",
    "b = 3\n",
    "print(a / b)"
   ]
  },
  {
   "cell_type": "markdown",
   "id": "634a4478",
   "metadata": {},
   "source": [
    "실수형을 정수형으로 변환해주는 int() 함수"
   ]
  },
  {
   "cell_type": "code",
   "execution_count": 21,
   "id": "aa69bfcf",
   "metadata": {},
   "outputs": [
    {
     "name": "stdout",
     "output_type": "stream",
     "text": [
      "20\n"
     ]
    }
   ],
   "source": [
    "a = int(10.7)\n",
    "b = int(10.3)\n",
    "print(a + b)"
   ]
  },
  {
   "cell_type": "code",
   "execution_count": 22,
   "id": "f61bbad2",
   "metadata": {},
   "outputs": [
    {
     "name": "stdout",
     "output_type": "stream",
     "text": [
      "10\n",
      "10\n"
     ]
    }
   ],
   "source": [
    "print(a)\n",
    "print(b)"
   ]
  },
  {
   "cell_type": "markdown",
   "id": "31c70f16",
   "metadata": {},
   "source": [
    "실수형이 정수형으로 변환될때는 수학의 반올림과는 달리, 소수점 이하의 내림이 발생한다."
   ]
  },
  {
   "cell_type": "markdown",
   "id": "fcbe049f",
   "metadata": {},
   "source": [
    "### <2> 숫자형과 문자형 간 변환"
   ]
  },
  {
   "cell_type": "markdown",
   "id": "4952a243",
   "metadata": {},
   "source": [
    "문자형을 선언된 값도 정수형이나 실수형으로 변환할 수 있고, 그 반대도 가능하다.\n",
    "\n",
    "실수형 값을 문자형으로 선언하기 위해서는 반드시 따옴표를 붙여 선언해야한다."
   ]
  },
  {
   "cell_type": "code",
   "execution_count": 23,
   "id": "f296b1aa",
   "metadata": {},
   "outputs": [
    {
     "name": "stdout",
     "output_type": "stream",
     "text": [
      "76.3\n"
     ]
    }
   ],
   "source": [
    "a = '76.3'\n",
    "b = float(a)\n",
    "print(a)"
   ]
  },
  {
   "cell_type": "code",
   "execution_count": 24,
   "id": "995ba7b9",
   "metadata": {},
   "outputs": [
    {
     "name": "stdout",
     "output_type": "stream",
     "text": [
      "76.3\n"
     ]
    }
   ],
   "source": [
    "print(b)"
   ]
  },
  {
   "cell_type": "code",
   "execution_count": 25,
   "id": "e5525214",
   "metadata": {},
   "outputs": [
    {
     "ename": "TypeError",
     "evalue": "can only concatenate str (not \"float\") to str",
     "output_type": "error",
     "traceback": [
      "\u001b[1;31m---------------------------------------------------------------------------\u001b[0m",
      "\u001b[1;31mTypeError\u001b[0m                                 Traceback (most recent call last)",
      "\u001b[1;32m~\\AppData\\Local\\Temp/ipykernel_2924/2920418401.py\u001b[0m in \u001b[0;36m<module>\u001b[1;34m\u001b[0m\n\u001b[1;32m----> 1\u001b[1;33m \u001b[0mprint\u001b[0m\u001b[1;33m(\u001b[0m\u001b[0ma\u001b[0m \u001b[1;33m+\u001b[0m \u001b[0mb\u001b[0m\u001b[1;33m)\u001b[0m \u001b[1;31m# a와 b를 더함 -> 문자열과 숫자열의 덧셈이 불가능하여 에러 발생\u001b[0m\u001b[1;33m\u001b[0m\u001b[1;33m\u001b[0m\u001b[0m\n\u001b[0m",
      "\u001b[1;31mTypeError\u001b[0m: can only concatenate str (not \"float\") to str"
     ]
    }
   ],
   "source": [
    "print(a + b) # a와 b를 더함 -> 문자열과 숫자열의 덧셈이 불가능하여 에러 발생"
   ]
  },
  {
   "cell_type": "markdown",
   "id": "b17671b6",
   "metadata": {},
   "source": [
    "숫자형 데이터와 문자형 데이터는 기본 연산이 적용되지 않고, 두 변수를 더하기 위해서는 두 변수의 자료형을 통일해야 한다."
   ]
  },
  {
   "cell_type": "code",
   "execution_count": 26,
   "id": "784b64e0",
   "metadata": {},
   "outputs": [
    {
     "name": "stdout",
     "output_type": "stream",
     "text": [
      "152.6\n"
     ]
    }
   ],
   "source": [
    "a = float(a)\n",
    "b = a\n",
    "print(a + b)"
   ]
  },
  {
   "cell_type": "markdown",
   "id": "9e5b21d2",
   "metadata": {},
   "source": [
    "정수형이나 실수형을 문자열로 바꿔주는 str() 함수\n",
    "\n",
    "문자형 간의 덧셈은 숫자 연산이 아닌 단순 붙이기(concatenate)가 일어난다는 사실을 유의"
   ]
  },
  {
   "cell_type": "code",
   "execution_count": 27,
   "id": "6ac1250a",
   "metadata": {},
   "outputs": [
    {
     "name": "stdout",
     "output_type": "stream",
     "text": [
      "76.376.3\n"
     ]
    }
   ],
   "source": [
    "a = str(a)\n",
    "b = str(b)\n",
    "print(a + b)"
   ]
  },
  {
   "cell_type": "markdown",
   "id": "0d00e661",
   "metadata": {},
   "source": [
    "### <3> 자료형 확인하기"
   ]
  },
  {
   "cell_type": "markdown",
   "id": "112d27e8",
   "metadata": {},
   "source": [
    "변수의 자료형을 확인할 수 있는 type() 함수\n",
    "\n",
    "변수별로 정수형은 'int', 실수형은 'float', 문자형은 'str'로 출력됨"
   ]
  },
  {
   "cell_type": "code",
   "execution_count": 28,
   "id": "5bb5b9f6",
   "metadata": {},
   "outputs": [],
   "source": [
    "a = int(10.3)\n",
    "b = float(10.3)\n",
    "c = str(10.3)"
   ]
  },
  {
   "cell_type": "code",
   "execution_count": 29,
   "id": "f5591d63",
   "metadata": {},
   "outputs": [
    {
     "data": {
      "text/plain": [
       "int"
      ]
     },
     "execution_count": 29,
     "metadata": {},
     "output_type": "execute_result"
    }
   ],
   "source": [
    "type(a)"
   ]
  },
  {
   "cell_type": "code",
   "execution_count": 30,
   "id": "ea019ee1",
   "metadata": {},
   "outputs": [
    {
     "data": {
      "text/plain": [
       "float"
      ]
     },
     "execution_count": 30,
     "metadata": {},
     "output_type": "execute_result"
    }
   ],
   "source": [
    "type(b)"
   ]
  },
  {
   "cell_type": "code",
   "execution_count": 31,
   "id": "6cc2e38c",
   "metadata": {},
   "outputs": [
    {
     "data": {
      "text/plain": [
       "str"
      ]
     },
     "execution_count": 31,
     "metadata": {},
     "output_type": "execute_result"
    }
   ],
   "source": [
    "type(c)"
   ]
  },
  {
   "cell_type": "markdown",
   "id": "31864526",
   "metadata": {},
   "source": [
    "## 요약"
   ]
  },
  {
   "cell_type": "markdown",
   "id": "cf6bb8db",
   "metadata": {},
   "source": [
    "1. print() 함수는 괄호 안의 내용을 화면에 출력하라는 뜻이다."
   ]
  },
  {
   "cell_type": "markdown",
   "id": "b81502cf",
   "metadata": {},
   "source": [
    "2. 변수(variable)는 프로그램에서 특정 값을 저장하는 공간의 이름을 뜻한다. "
   ]
  },
  {
   "cell_type": "markdown",
   "id": "8d1827ca",
   "metadata": {},
   "source": [
    "3. 변수에 값을 넣으라고 선언하는 순간 물리적으로 메모리 어딘가에 물리적인 공간을 확보할 수 있게 운영체제와 파이썬 인터프리터가 협력하여 메모리 저장 위치를 할당한다. 이 위치를 메모리 주소라고 한다."
   ]
  },
  {
   "cell_type": "markdown",
   "id": "4ba4ea18",
   "metadata": {},
   "source": [
    "4. 변수명 선언 규칙은 다음과 같다.\n",
    "\n",
    "- 알파벳, 숫자, 밑줄(\\_)로 선언할 수 있다.\n",
    "\n",
    "- 변수명은 의미 있는 단어로 표기하는 것이 좋다.\n",
    "\n",
    "- 변수명은 대소문자가 구분된다.\n",
    "\n",
    "- 특별한 의미가 있는 예약어는 사용할 수 없다."
   ]
  },
  {
   "cell_type": "markdown",
   "id": "fe1ecabc",
   "metadata": {},
   "source": [
    "5. 자료형의 종류는 다음과 같다.\n",
    "\n",
    "- 정수형(integer type): 자연수를 포함해 값의 영역이 정수로 한정된 값을 뜻한다.\n",
    "\n",
    "- 실수형(floating-point type): 일반적으로 소수점이 포함된 값을 말한다.\n",
    "\n",
    "- 문자형(string type): 값이 문자로 출력되는 자료형이다.\n",
    "\n",
    "- 불린형(boolean type): 논리형으로, 참 또는 거짓을 표현할 때 사용한다."
   ]
  },
  {
   "cell_type": "markdown",
   "id": "17311132",
   "metadata": {},
   "source": [
    "6. "
   ]
  }
 ],
 "metadata": {
  "kernelspec": {
   "display_name": "Python 3 (ipykernel)",
   "language": "python",
   "name": "python3"
  },
  "language_info": {
   "codemirror_mode": {
    "name": "ipython",
    "version": 3
   },
   "file_extension": ".py",
   "mimetype": "text/x-python",
   "name": "python",
   "nbconvert_exporter": "python",
   "pygments_lexer": "ipython3",
   "version": "3.9.7"
  }
 },
 "nbformat": 4,
 "nbformat_minor": 5
}
