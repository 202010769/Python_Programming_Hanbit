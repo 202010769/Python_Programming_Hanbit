{
 "cells": [
  {
   "cell_type": "markdown",
   "id": "b8450d80",
   "metadata": {},
   "source": [
    "1."
   ]
  },
  {
   "cell_type": "code",
   "execution_count": 1,
   "id": "5ecbf8b9",
   "metadata": {},
   "outputs": [
    {
     "name": "stdout",
     "output_type": "stream",
     "text": [
      "[(0, 'apple'), (1, 'banana'), (2, 'grape')]\n"
     ]
    }
   ],
   "source": [
    "mylist = ['apple', 'banana', 'grape']\n",
    "result = list(enumerate(mylist))\n",
    "print(result)"
   ]
  },
  {
   "cell_type": "markdown",
   "id": "a6ae788b",
   "metadata": {},
   "source": [
    "enumerate 함수 사용하여 mylist의 값에 인덱스를 붙이고, 리스트로 만들어 출력"
   ]
  },
  {
   "cell_type": "markdown",
   "id": "baebef82",
   "metadata": {},
   "source": [
    "2."
   ]
  },
  {
   "cell_type": "code",
   "execution_count": 2,
   "id": "83da464b",
   "metadata": {},
   "outputs": [
    {
     "name": "stdout",
     "output_type": "stream",
     "text": [
      "{'my': 5, 'cat': 6, 'has': 2, 'blue': 3, 'eyes,': 4, 'is': 7, 'cute': 8}\n"
     ]
    }
   ],
   "source": [
    "cat_song = \"my cat has blue eyes, my cat is cute\"\n",
    "print({i:j for j, i in enumerate(cat_song.split())})"
   ]
  },
  {
   "cell_type": "markdown",
   "id": "1bffc4b4",
   "metadata": {},
   "source": [
    " cat_song을 split() 사용해서 공백 기준으로 나눔\\\n",
    " 그 후 enumerate하여 각 단어에 인덱스를 붙여준 후, 값, 인덱스 순으로 출력\\\n",
    " 다만 이 인덱스는 가장 최근 것이 적용되므로, my와 cat은 뒤에 인덱스 기준으로 적용됨"
   ]
  },
  {
   "cell_type": "markdown",
   "id": "cbe2f5e5",
   "metadata": {},
   "source": [
    "3."
   ]
  },
  {
   "cell_type": "code",
   "execution_count": 3,
   "id": "56f842ab",
   "metadata": {},
   "outputs": [
    {
     "name": "stdout",
     "output_type": "stream",
     "text": [
      "orange&pink&brown&black&white\n"
     ]
    }
   ],
   "source": [
    "colors = ['orange', 'pink', 'brown', 'black', 'white']\n",
    "result = '&'.join(colors)\n",
    "print(result)"
   ]
  },
  {
   "cell_type": "markdown",
   "id": "246a60b3",
   "metadata": {},
   "source": [
    "join() 사용해서 colors의 값 사이마다 & 넣어서 새로운 문자열 생성"
   ]
  },
  {
   "cell_type": "markdown",
   "id": "a43afd90",
   "metadata": {},
   "source": [
    "4."
   ]
  },
  {
   "cell_type": "code",
   "execution_count": 4,
   "id": "a913c20e",
   "metadata": {},
   "outputs": [
    {
     "name": "stdout",
     "output_type": "stream",
     "text": [
      "{'students': 0, 'superuser': 1, 'professor': 2, 'employee': 3}\n"
     ]
    }
   ],
   "source": [
    "user_dict = {}\n",
    "user_list = [\"students\", \"superuser\", \"professor\", \"employee\"]\n",
    "for value_1, value_2 in enumerate(user_list):\n",
    "    user_dict[value_2] = value_1\n",
    "print(user_dict)"
   ]
  },
  {
   "cell_type": "markdown",
   "id": "45c988f2",
   "metadata": {},
   "source": [
    "user_list에 enumerate 적용해서 인덱스 값 붙여줌\\\n",
    "value_1에 인덱스, value_2에 값이 들어감\\\n",
    "user_dict라는 빈 딕셔너리에 value_2를 키로, value_1을 값으로 하여 하나씩 추가\\\n",
    "user_dict 출력"
   ]
  },
  {
   "cell_type": "markdown",
   "id": "cf1aa935",
   "metadata": {},
   "source": [
    "5."
   ]
  },
  {
   "cell_type": "code",
   "execution_count": 5,
   "id": "3f3473d5",
   "metadata": {},
   "outputs": [
    {
     "name": "stdout",
     "output_type": "stream",
     "text": [
      "[0, 2, 4, 6, 8]\n"
     ]
    }
   ],
   "source": [
    "result = [i for i in range(10) if i % 2 == 0]\n",
    "print(result)"
   ]
  },
  {
   "cell_type": "markdown",
   "id": "524cdc3a",
   "metadata": {},
   "source": [
    "i는 0~9반복, 0이거나 짝수일때만 result에 저장\\"
   ]
  },
  {
   "cell_type": "code",
   "execution_count": 28,
   "id": "83c4507f",
   "metadata": {},
   "outputs": [
    {
     "name": "stdout",
     "output_type": "stream",
     "text": [
      "[0, 1, 2, 3, 4, 5, 6, 7, 8, 9]\n"
     ]
    }
   ],
   "source": [
    "items = 'zero one two three'.split(\"two\")\n",
    "result = [i for i in range(10)]\n",
    "print(result)"
   ]
  },
  {
   "cell_type": "markdown",
   "id": "d99c1893",
   "metadata": {},
   "source": [
    "items를 split() 사용해서 two를 기준으로 나눔\\\n",
    "zero one / three\\\n",
    "result에는 0부터 9까지의 정수가 들어갈 것\\\n",
    "result만 출력(items와는 무관)"
   ]
  },
  {
   "cell_type": "code",
   "execution_count": 29,
   "id": "824c7829",
   "metadata": {},
   "outputs": [
    {
     "name": "stdout",
     "output_type": "stream",
     "text": [
      "['zero', 'one', 'two', 'three']\n"
     ]
    }
   ],
   "source": [
    "items = 'zero one two three'.split()\n",
    "print(items)"
   ]
  },
  {
   "cell_type": "markdown",
   "id": "2594f220",
   "metadata": {},
   "source": [
    "items를 재할당후, split() 사용하여 공백문자 기준으로 나누어 리스트로 만듦\\\n",
    "items 출력"
   ]
  },
  {
   "cell_type": "code",
   "execution_count": 9,
   "id": "171011cf",
   "metadata": {},
   "outputs": [
    {
     "name": "stdout",
     "output_type": "stream",
     "text": [
      "cs50\n"
     ]
    }
   ],
   "source": [
    "example = 'cs50.gachon.edu'\n",
    "subdomain, domain, tld = example.split('.')\n",
    "print(subdomain)"
   ]
  },
  {
   "cell_type": "markdown",
   "id": "f3c7f604",
   "metadata": {},
   "source": [
    " example을 split함수 사용하여 .을 기준으로 나누어 언패킹함\\\n",
    " 그 중 맨 앞인 subdomain만 출력"
   ]
  },
  {
   "cell_type": "markdown",
   "id": "f970d2ba",
   "metadata": {},
   "source": [
    "6."
   ]
  },
  {
   "cell_type": "code",
   "execution_count": 10,
   "id": "28443410",
   "metadata": {},
   "outputs": [
    {
     "name": "stdout",
     "output_type": "stream",
     "text": [
      "['Cat', 'Panda', 'Owl']\n"
     ]
    }
   ],
   "source": [
    "animal = ['Fox', 'Dog', 'Cat', 'Monkey', 'Horse', 'Panda', 'Owl']\n",
    "print([ani for ani in animal if 'o' not in ani])"
   ]
  },
  {
   "cell_type": "markdown",
   "id": "f0c41c0b",
   "metadata": {},
   "source": [
    "animal의 요소를 하나씩 반복문 돌면서 'o'문자가 들어가지 않는 경우만 출력\\\n",
    "Owl은 대문자 o이므로 조건에 만족함"
   ]
  },
  {
   "cell_type": "markdown",
   "id": "a76de3aa",
   "metadata": {},
   "source": [
    "7."
   ]
  },
  {
   "cell_type": "code",
   "execution_count": 31,
   "id": "f511e724",
   "metadata": {},
   "outputs": [
    {
     "name": "stdout",
     "output_type": "stream",
     "text": [
      "DongUniversity\n"
     ]
    }
   ],
   "source": [
    "name = \"Hanbit University\"\n",
    "student = [\"Hong\", \"Gil\", \"Dong\"]\n",
    "split_name = name.split()\n",
    "join_student = ''.join(student)\n",
    "print(join_student[-4:] + split_name[1])"
   ]
  },
  {
   "cell_type": "markdown",
   "id": "b9e047c9",
   "metadata": {},
   "source": [
    "name을 split()함수를 사용해서 공백문자 기준으로 나눔\\\n",
    "Hanbit / University\n",
    "student의 요소를 join함수 사용해서 공백없이 모두 연결하여 join_student에 저장\\\n",
    "HongGilDong\\\n",
    "join_student[-4:]는 D에서 맨 끝까지! 즉 Dong 출력\\\n",
    "거기에 split_name[1]인 University 공백없이 연결!"
   ]
  },
  {
   "cell_type": "markdown",
   "id": "e6909125",
   "metadata": {},
   "source": [
    "8."
   ]
  },
  {
   "cell_type": "code",
   "execution_count": 13,
   "id": "55681920",
   "metadata": {},
   "outputs": [
    {
     "name": "stdout",
     "output_type": "stream",
     "text": [
      "20\n"
     ]
    }
   ],
   "source": [
    "kor_score = [49, 79, 20, 100, 80]\n",
    "math_score = [43, 59, 85, 30, 90]\n",
    "eng_score = [49, 79, 48, 60, 100]\n",
    "midterm_score = [kor_score, math_score, eng_score]\n",
    "print(midterm_score[0][2])"
   ]
  },
  {
   "cell_type": "markdown",
   "id": "890c462d",
   "metadata": {},
   "source": [
    "midterm_score는 kor_score, math_score, eng_score이 세 리스트가 요소로 들어가 있는 중첩 리스트\\\n",
    "midterm_score[0]은 kor_score\\\n",
    "kor_score[2] = 20"
   ]
  },
  {
   "cell_type": "markdown",
   "id": "3b030761",
   "metadata": {},
   "source": [
    "9."
   ]
  },
  {
   "cell_type": "code",
   "execution_count": 34,
   "id": "83016631",
   "metadata": {},
   "outputs": [
    {
     "name": "stdout",
     "output_type": "stream",
     "text": [
      "[[12, 3], [15, 3]]\n"
     ]
    }
   ],
   "source": [
    "a = [1,2,3]\n",
    "b = [4,5,]\n",
    "c = [7,8,9]\n",
    "print([[sum(k), len(k)] for k in zip(a, b, c)])"
   ]
  },
  {
   "cell_type": "markdown",
   "id": "dd2bdeff",
   "metadata": {},
   "source": [
    "a, b, c를 zip하여 병렬로 묶음\\\n",
    "(1, 4, 7), (2, 5, 8)\\\n",
    "b의 요소가 2개뿐이므로 마지막 요소들은 zip 불가능\\\n",
    "[[12, 3], [15, 3]]"
   ]
  },
  {
   "cell_type": "markdown",
   "id": "d561e559",
   "metadata": {},
   "source": [
    "10."
   ]
  },
  {
   "cell_type": "code",
   "execution_count": 35,
   "id": "abb9b438",
   "metadata": {},
   "outputs": [
    {
     "name": "stdout",
     "output_type": "stream",
     "text": [
      "yellow\n"
     ]
    }
   ],
   "source": [
    "week = ['mon', 'tue', 'wed', 'thu', 'fri', 'sat', 'sun']\n",
    "rainbow = ['red', 'orange', 'yellow', 'green', 'blue', 'navy', 'purple']\n",
    "list_data = [week, rainbow]\n",
    "\n",
    "print(list_data[1][2])"
   ]
  },
  {
   "cell_type": "markdown",
   "id": "37514992",
   "metadata": {},
   "source": [
    "week랑 rainbow 합쳐서 list_data 생성\\\n",
    "list_data[1] = rainbow\\\n",
    "rainbow[2] = yellow"
   ]
  },
  {
   "cell_type": "markdown",
   "id": "966ea0c7",
   "metadata": {},
   "source": [
    "11."
   ]
  },
  {
   "cell_type": "code",
   "execution_count": 16,
   "id": "4a2cc5c1",
   "metadata": {},
   "outputs": [
    {
     "name": "stdout",
     "output_type": "stream",
     "text": [
      "score: 72\n"
     ]
    }
   ],
   "source": [
    "kor_score = [30, 79, 20, 100, 80]\n",
    "math_score = [43, 59, 0, 30, 90]\n",
    "eng_score = [49, 72, 48, 67, 15]\n",
    "midterm_score = [kor_score, math_score, eng_score]\n",
    "print(\"score:\", midterm_score[2][1])"
   ]
  },
  {
   "cell_type": "markdown",
   "id": "0c5cf622",
   "metadata": {},
   "source": [
    "midterm_score[2] = eng_score\\\n",
    "eng_score[1] = 72\\\n",
    "score : 72"
   ]
  },
  {
   "cell_type": "markdown",
   "id": "03e5ed0f",
   "metadata": {},
   "source": [
    "12."
   ]
  },
  {
   "cell_type": "code",
   "execution_count": 18,
   "id": "d2a2a6bf",
   "metadata": {},
   "outputs": [
    {
     "name": "stdout",
     "output_type": "stream",
     "text": [
      "['a', '2', 'error']\n"
     ]
    }
   ],
   "source": [
    "alist = [\"a\", \"b\", \"c\"]\n",
    "blist = [\"1\", \"2\", \"3\"]\n",
    "abcd = []\n",
    "\n",
    "for a, b in enumerate(zip(alist, blist)):\n",
    "    try:\n",
    "        abcd.append(b[a])\n",
    "    except IndexError:\n",
    "        abcd.append(\"error\")\n",
    "\n",
    "print(abcd)"
   ]
  },
  {
   "cell_type": "markdown",
   "id": "abaa7562",
   "metadata": {},
   "source": [
    "alist랑 blist zip함\\\n",
    "(\"a\", \"1\"), (\"b\", \"2\"), (\"c\", \"3\")\\\n",
    "그 다음 enumerate함\\\n",
    "a는 키, b는 value\\\n",
    "try-except문을 사용하여 try를 시도하고 indexerror가 나는 경우는 문자열 error를 추가\\\n",
    "(\"a\", \"1\")에서는 0번째항 append ['a']\\\n",
    "(\"b\", \"2\")에서는 1번째항 append ['2']\\\n",
    "(\"c\", \"3\")에서는 2번째항을 append해야하나, 2번째 항 없으므로 indexerror\\\n",
    "마지막에는 문자열 error를 append"
   ]
  },
  {
   "cell_type": "markdown",
   "id": "126bd50a",
   "metadata": {},
   "source": [
    "13."
   ]
  },
  {
   "cell_type": "code",
   "execution_count": 20,
   "id": "c621d02d",
   "metadata": {},
   "outputs": [
    {
     "name": "stdout",
     "output_type": "stream",
     "text": [
      "a1 b1\n",
      "a2 b2\n",
      "a3 b3\n"
     ]
    }
   ],
   "source": [
    "alist = ['a1', 'a2', 'a3']\n",
    "blist = ['b1', 'b2', 'b3']\n",
    "for a, b in zip (alist, blist):\n",
    "    print(a, b)"
   ]
  },
  {
   "cell_type": "markdown",
   "id": "48e316b5",
   "metadata": {},
   "source": [
    "리스트 두 개를 zip해서 병렬로 묶은 다음 그대로 출력"
   ]
  },
  {
   "cell_type": "markdown",
   "id": "f31fa1aa",
   "metadata": {},
   "source": [
    "14."
   ]
  },
  {
   "cell_type": "code",
   "execution_count": 2,
   "id": "9f413eaf",
   "metadata": {},
   "outputs": [
    {
     "name": "stdout",
     "output_type": "stream",
     "text": [
      "80\n",
      "['a0', 'a2', 'a4', 'a6', 'a8', 'a10', 'a12', 'a14', 'a16', 'a18', 'b0', 'b2', 'b4', 'b6', 'b8', 'b10', 'b12', 'b14', 'b16', 'b18', 'c0', 'c2', 'c4', 'c6', 'c8', 'c10', 'c12', 'c14', 'c16', 'c18', 'd0', 'd2', 'd4', 'd6', 'd8', 'd10', 'd12', 'd14', 'd16', 'd18', 'e0', 'e2', 'e4', 'e6', 'e8', 'e10', 'e12', 'e14', 'e16', 'e18', 'f0', 'f2', 'f4', 'f6', 'f8', 'f10', 'f12', 'f14', 'f16', 'f18', 'g0', 'g2', 'g4', 'g6', 'g8', 'g10', 'g12', 'g14', 'g16', 'g18', 'h0', 'h2', 'h4', 'h6', 'h8', 'h10', 'h12', 'h14', 'h16', 'h18']\n"
     ]
    }
   ],
   "source": [
    "alphabet = [\"a\", \"b\", \"c\", \"d\", \"e\", \"f\", \"g\", \"h\"]\n",
    "nums = [i for i in range(20)]\n",
    "answer = [alpha + str(num) for alpha in alphabet for num in nums if num % 2 == 0]\n",
    "print(len(answer))\n",
    "print(answer)"
   ]
  },
  {
   "cell_type": "markdown",
   "id": "64195b4c",
   "metadata": {},
   "source": [
    "alphbet리스트는 a부터 h까지\\\n",
    "nums 리스트는 0부터 19까지\\\n",
    "num이 0이나 짝수인 경우 * 모든 알파벳 요소의 수 = 10 * 8 = 80"
   ]
  },
  {
   "cell_type": "markdown",
   "id": "752e0464",
   "metadata": {},
   "source": [
    "15."
   ]
  },
  {
   "cell_type": "code",
   "execution_count": 25,
   "id": "2ebd85c0",
   "metadata": {},
   "outputs": [
    {
     "name": "stdout",
     "output_type": "stream",
     "text": [
      "Gachon cs50\n"
     ]
    }
   ],
   "source": [
    "url = \"cs50.gachon.ac.kr\"\n",
    "university_name = \"Gachon University\"\n",
    "gachon_info = [(i + \" \" + j) for i, j in zip(university_name.split(\" \"), url.split(\".\"))]\n",
    "blank = 0\n",
    "print(gachon_info[blank])"
   ]
  },
  {
   "cell_type": "markdown",
   "id": "df29e923",
   "metadata": {},
   "source": [
    "우선 university_name을 split 사용해서 띄어쓰기 기준으로 나누고, url은 .기준으로 나눔\\\n",
    "그 다음 zip으로 병렬적으로 묶어줌\\\n",
    "그 중 가장 첫번째 요소값 저장 후 출력 Gachon cs50"
   ]
  }
 ],
 "metadata": {
  "kernelspec": {
   "display_name": "Python 3 (ipykernel)",
   "language": "python",
   "name": "python3"
  },
  "language_info": {
   "codemirror_mode": {
    "name": "ipython",
    "version": 3
   },
   "file_extension": ".py",
   "mimetype": "text/x-python",
   "name": "python",
   "nbconvert_exporter": "python",
   "pygments_lexer": "ipython3",
   "version": "3.9.6"
  }
 },
 "nbformat": 4,
 "nbformat_minor": 5
}
