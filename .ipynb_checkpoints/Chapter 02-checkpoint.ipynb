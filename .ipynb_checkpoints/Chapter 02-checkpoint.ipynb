{
 "cells": [
  {
   "cell_type": "markdown",
   "id": "bd780f5d",
   "metadata": {},
   "source": [
    "# Chapter 02. 변수와 자료형 "
   ]
  },
  {
   "cell_type": "markdown",
   "id": "04a18ff7",
   "metadata": {},
   "source": [
    "## 01. 변수의 이해"
   ]
  },
  {
   "cell_type": "markdown",
   "id": "4844f3cf",
   "metadata": {},
   "source": [
    "print() : 괄호 안의 내용을 화면에 출력하라는 뜻"
   ]
  },
  {
   "cell_type": "markdown",
   "id": "47e81a93",
   "metadata": {},
   "source": [
    "### <1> 변수와 값"
   ]
  },
  {
   "cell_type": "code",
   "execution_count": 1,
   "id": "388f5b87",
   "metadata": {},
   "outputs": [
    {
     "name": "stdout",
     "output_type": "stream",
     "text": [
      "Sungchul Choi\n"
     ]
    }
   ],
   "source": [
    "professor = 'Sungchul Choi'\n",
    "print(professor)"
   ]
  },
  {
   "cell_type": "markdown",
   "id": "19e14005",
   "metadata": {},
   "source": [
    "일반적으로 생각할 때 '=' 기호는 '~와 같다'로 여길 수 있다.\n",
    "\n",
    "하지만 프로그래밍에서는 **\"*professor*라는 공간에 *Sungchul Choi*라는 글자를 넣어라.\"**로 해석할 수 있다.\n",
    "\n",
    "-> 정확하게는 ***professor*라는 *변수*에 *Sungchul Choi*라는 *값*을 넣으라는 뜻**"
   ]
  },
  {
   "cell_type": "code",
   "execution_count": 2,
   "id": "abee95ad",
   "metadata": {},
   "outputs": [
    {
     "name": "stdout",
     "output_type": "stream",
     "text": [
      "12\n",
      "a + b\n"
     ]
    }
   ],
   "source": [
    "a = 7\n",
    "b = 5\n",
    "print(a + b)\n",
    "print(\"a + b\")"
   ]
  },
  {
   "cell_type": "markdown",
   "id": "22e52b15",
   "metadata": {},
   "source": [
    "**따옴포의 사용 여부에 따른 의미 차이**\n",
    "\n",
    "|코드|의미|\n",
    "|:--:|:--:|\n",
    "|print(a+b)|a 변수에 있는 값과 b 변수에 있는 값을 더해 화면에 출력하라|\n",
    "|print(\"a+b\")|\"a+b\"의 값을 그대로 화면에 출력하라|"
   ]
  },
  {
   "cell_type": "markdown",
   "id": "84c48821",
   "metadata": {},
   "source": [
    "### <2> 변수와 메모리"
   ]
  },
  {
   "cell_type": "markdown",
   "id": "24400cf1",
   "metadata": {},
   "source": [
    "변수(variable)\n",
    "\n",
    "- 특정 값을 저장하는 장소\n",
    "\n",
    "- 변수에 값을 넣으라고 선언하는 순간 물리적으로 메모리 어딘가에 물리적 공간을 확보할 수 있게 운영체제와 파이썬 인터프리터가 협력하여 메모리 저장 위치를 할당함\n",
    "\n",
    "- 할당(assignment) : 변수에 값을 넣는 과정\n",
    "\n",
    "메모리(memory)\n",
    "\n",
    "- 변수를 저장하는 컴퓨터 내부의 물리적 장소\n",
    "\n",
    "- 변수에 값이 저장되는 공간\n",
    "\n",
    "- ex) RAM(Random Access Memory)\n",
    "\n",
    "  - RAM은 휘발성 성질이 있어 컴퓨터에 전원이 들어와 있는 동안에만 저장됨\n",
    "\n",
    "메모리 주소(address)\n",
    "\n",
    "- 변수의 저장 위치\n",
    "\n",
    "- 메모리 저장 위치"
   ]
  },
  {
   "cell_type": "markdown",
   "id": "32a632e6",
   "metadata": {},
   "source": [
    "### <3> 변수명 선언"
   ]
  },
  {
   "cell_type": "markdown",
   "id": "91d20ff9",
   "metadata": {},
   "source": [
    "변수명 선언 방법\n",
    "\n",
    "1. 알파벳, 숫자, 밑줄(\\_)로 선언할 수 있다.\n",
    "\n",
    "\n",
    "2. 변수명은 의미 있는 단어로 표기하는 것이 좋다.\n",
    "\n",
    "\n",
    "3. 변수명은 대소문자가 구분된다.\n",
    "\n",
    "\n",
    "4. 특별한 의미가 있는 예약어는 사용할 수 없다.\n",
    "\n",
    "  - ex) for, if, else, except 등"
   ]
  },
  {
   "cell_type": "markdown",
   "id": "391debaa",
   "metadata": {},
   "source": [
    "## 02. 자료형과 기본 연산"
   ]
  },
  {
   "cell_type": "markdown",
   "id": "57b49279",
   "metadata": {},
   "source": [
    "### <1> 메모리 공간"
   ]
  },
  {
   "cell_type": "markdown",
   "id": "8fbf6150",
   "metadata": {},
   "source": [
    "하나의 변수를 메모리에 저장할 때, 그 변수의 크기만큼 공간(일정한 용량)을 할당받는다.\n",
    "\n",
    "컴퓨터는 0과 1, 두 가지 정보만 저장할 수 있으므로 이진수를 사용한다. (전류의 흐름을 표현)\n",
    "\n",
    "메모리 공간 단위\n",
    "\n",
    "- 비트(bit) : 이진수 한 자리\n",
    "\n",
    "- 1바이트(byte) : 8개의 비트\n",
    "\n",
    "- 1킬로바이트(kilobyte, KB) : 1,024바이트\n",
    "\n",
    "- 1메가바이트(megabyte, MB) : 1,024킬로바이트"
   ]
  },
  {
   "cell_type": "markdown",
   "id": "51b01960",
   "metadata": {},
   "source": [
    "### <2> 기본 자료형"
   ]
  },
  {
   "cell_type": "markdown",
   "id": "6f4faa2f",
   "metadata": {},
   "source": [
    "**기본 자료형**\n",
    "\n",
    "|유형|자료형|설명|예|선언 형태|\n",
    "|:--:|:----:|:--:|:-:|:------:|\n",
    "|수치형|정수형|양수와 정수|1,2,3,100,-9|data = 1|\n",
    "|수치형|실수형|소수점이 포함된 실수|10.2,-9.3,9.0|data = 9.0|\n",
    "|문자형|문자형|따옴표에 들어가 있는 문자형|abc, a20abc|data = 'abc'|\n",
    "|논리형|불린형|참 또는 거짓|True, False|data = True|"
   ]
  },
  {
   "cell_type": "markdown",
   "id": "5212ee97",
   "metadata": {},
   "source": [
    "동적 타이핑(dynamic typing)\n",
    "\n",
    "- 변수의 메모리 공간을 확보하는 행위가 실행 시점에 발생하는 것을 의미\n",
    "\n",
    "- 변수의 자료형이 어떤 type인지를 프로그래머가 아닌 인터프리터가 스스로 실행 시점에 동적으로 판단하는 것\n",
    "\n",
    "  -> 파이썬 언어가 동적으로 자료형의 결정을 지원"
   ]
  },
  {
   "cell_type": "code",
   "execution_count": 3,
   "id": "90fbabc1",
   "metadata": {},
   "outputs": [
    {
     "name": "stdout",
     "output_type": "stream",
     "text": [
      "1 1\n"
     ]
    }
   ],
   "source": [
    "a = 1 # 정수형\n",
    "b = 1 # 정수형\n",
    "print(a,b)"
   ]
  },
  {
   "cell_type": "code",
   "execution_count": 4,
   "id": "cd865329",
   "metadata": {},
   "outputs": [
    {
     "name": "stdout",
     "output_type": "stream",
     "text": [
      "1.5 1.5\n"
     ]
    }
   ],
   "source": [
    "a = 1.5 # 실수형\n",
    "b = 1.5 # 실수형\n",
    "print(a,b)"
   ]
  },
  {
   "cell_type": "code",
   "execution_count": 5,
   "id": "47fadd2d",
   "metadata": {},
   "outputs": [
    {
     "name": "stdout",
     "output_type": "stream",
     "text": [
      "ABC 101010\n"
     ]
    }
   ],
   "source": [
    "a = \"ABC\" # 문자형\n",
    "b = \"101010\" # 문자형\n",
    "print(a,b)"
   ]
  },
  {
   "cell_type": "code",
   "execution_count": 6,
   "id": "5dccb4a2",
   "metadata": {},
   "outputs": [
    {
     "name": "stdout",
     "output_type": "stream",
     "text": [
      "True False\n"
     ]
    }
   ],
   "source": [
    "a = True # 불린형\n",
    "b = False # 불린형\n",
    "print(a,b)"
   ]
  },
  {
   "cell_type": "markdown",
   "id": "a7dc65ed",
   "metadata": {},
   "source": [
    "### <3> 간단한 연산"
   ]
  },
  {
   "cell_type": "markdown",
   "id": "58dd14ea",
   "metadata": {},
   "source": [
    "연산자 : +,-,\\*,/ 같은 기호\n",
    "\n",
    "피연산자 : 연산자에 의해 계산되는 숫자"
   ]
  },
  {
   "cell_type": "markdown",
   "id": "fb796745",
   "metadata": {},
   "source": [
    "**사칙연산**\n",
    "\n",
    "- 덧셈 연산자는 덧셈 기호(+)\n",
    "\n",
    "- 뺄셈 연산자는 뺄셈 기호(-)\n",
    "\n",
    "- 곱셈 연산자는 별표 기호(\\*)\n",
    "\n",
    "- 나눗셈 연산자는 빗금 기호(/)"
   ]
  },
  {
   "cell_type": "code",
   "execution_count": 7,
   "id": "f01d7be9",
   "metadata": {},
   "outputs": [
    {
     "data": {
      "text/plain": [
       "55"
      ]
     },
     "execution_count": 7,
     "metadata": {},
     "output_type": "execute_result"
    }
   ],
   "source": [
    "25 + 30"
   ]
  },
  {
   "cell_type": "code",
   "execution_count": 8,
   "id": "6a873c71",
   "metadata": {},
   "outputs": [
    {
     "data": {
      "text/plain": [
       "18"
      ]
     },
     "execution_count": 8,
     "metadata": {},
     "output_type": "execute_result"
    }
   ],
   "source": [
    "30 - 12"
   ]
  },
  {
   "cell_type": "code",
   "execution_count": 9,
   "id": "1c0888a7",
   "metadata": {},
   "outputs": [
    {
     "data": {
      "text/plain": [
       "150"
      ]
     },
     "execution_count": 9,
     "metadata": {},
     "output_type": "execute_result"
    }
   ],
   "source": [
    "50 * 3"
   ]
  },
  {
   "cell_type": "code",
   "execution_count": 10,
   "id": "e3674bbb",
   "metadata": {},
   "outputs": [
    {
     "data": {
      "text/plain": [
       "6.0"
      ]
     },
     "execution_count": 10,
     "metadata": {},
     "output_type": "execute_result"
    }
   ],
   "source": [
    "30 / 5"
   ]
  },
  {
   "cell_type": "markdown",
   "id": "d4a88288",
   "metadata": {},
   "source": [
    "**제곱승**\n",
    "\n",
    "- 제곱승을 구하는 연산자는 2개의 별표 기호(\\*\\*)"
   ]
  },
  {
   "cell_type": "code",
   "execution_count": 11,
   "id": "221c2d14",
   "metadata": {},
   "outputs": [
    {
     "name": "stdout",
     "output_type": "stream",
     "text": [
      "243\n"
     ]
    }
   ],
   "source": [
    "print(3 * 3 * 3 * 3 * 3)"
   ]
  },
  {
   "cell_type": "code",
   "execution_count": 12,
   "id": "d682c520",
   "metadata": {},
   "outputs": [
    {
     "name": "stdout",
     "output_type": "stream",
     "text": [
      "243\n"
     ]
    }
   ],
   "source": [
    "print(3 ** 5) # 3의 5승"
   ]
  },
  {
   "cell_type": "markdown",
   "id": "efa849d5",
   "metadata": {},
   "source": [
    "**나눗셈의 몫과 나머지 산출 연산**\n",
    "\n",
    "- 몫을 반환하는 연산자는 2개의 빗금 기호(//)\n",
    "\n",
    "- 나머지 연산자는 백분율 기호(%)"
   ]
  },
  {
   "cell_type": "code",
   "execution_count": 13,
   "id": "3a70f1eb",
   "metadata": {},
   "outputs": [
    {
     "name": "stdout",
     "output_type": "stream",
     "text": [
      "3\n"
     ]
    }
   ],
   "source": [
    "print(7 // 2)"
   ]
  },
  {
   "cell_type": "code",
   "execution_count": 14,
   "id": "21479b27",
   "metadata": {},
   "outputs": [
    {
     "name": "stdout",
     "output_type": "stream",
     "text": [
      "1\n"
     ]
    }
   ],
   "source": [
    "print(7 % 2)"
   ]
  },
  {
   "cell_type": "markdown",
   "id": "ef807e3b",
   "metadata": {},
   "source": [
    "**증가 연산과 감소 연산**\n",
    "\n",
    "- a += 1은 a = a + 1과 같은 뜻으로 사용된다\n",
    "\n",
    "- a -= 1은 a = a - 1과 같은 뜻으로 사용된다"
   ]
  },
  {
   "cell_type": "code",
   "execution_count": 15,
   "id": "3856c759",
   "metadata": {},
   "outputs": [
    {
     "name": "stdout",
     "output_type": "stream",
     "text": [
      "2\n"
     ]
    }
   ],
   "source": [
    "a = 1\n",
    "a = a + 1\n",
    "print(a)"
   ]
  },
  {
   "cell_type": "code",
   "execution_count": 16,
   "id": "8455faef",
   "metadata": {},
   "outputs": [
    {
     "name": "stdout",
     "output_type": "stream",
     "text": [
      "3\n"
     ]
    }
   ],
   "source": [
    "a += 1\n",
    "print(a)"
   ]
  },
  {
   "cell_type": "code",
   "execution_count": 17,
   "id": "181caf13",
   "metadata": {},
   "outputs": [
    {
     "name": "stdout",
     "output_type": "stream",
     "text": [
      "1\n"
     ]
    }
   ],
   "source": [
    "a = a - 1\n",
    "a -= 1\n",
    "print(a)"
   ]
  },
  {
   "cell_type": "markdown",
   "id": "42b5c47a",
   "metadata": {},
   "source": [
    "## 03. 자료형 변환"
   ]
  },
  {
   "cell_type": "markdown",
   "id": "f7c1f1a1",
   "metadata": {},
   "source": [
    "### <1> 정수형과 실수형 간 변환"
   ]
  },
  {
   "cell_type": "markdown",
   "id": "fd245d97",
   "metadata": {},
   "source": [
    "정수형을 실수형으로 변환해주는 float() 함수"
   ]
  },
  {
   "cell_type": "code",
   "execution_count": 18,
   "id": "aec9952e",
   "metadata": {},
   "outputs": [
    {
     "name": "stdout",
     "output_type": "stream",
     "text": [
      "10\n"
     ]
    }
   ],
   "source": [
    "a = 10\n",
    "print(a)"
   ]
  },
  {
   "cell_type": "code",
   "execution_count": 19,
   "id": "fa2893ea",
   "metadata": {},
   "outputs": [
    {
     "name": "stdout",
     "output_type": "stream",
     "text": [
      "10.0\n"
     ]
    }
   ],
   "source": [
    "a = float(10)\n",
    "print(a)"
   ]
  },
  {
   "cell_type": "markdown",
   "id": "15a0c124",
   "metadata": {},
   "source": [
    "인터프리터는 변수 간을 계산할 때, 필요에 따라, 정수형을 실수형으로 변환한다."
   ]
  },
  {
   "cell_type": "code",
   "execution_count": 20,
   "id": "4d7895f5",
   "metadata": {},
   "outputs": [
    {
     "name": "stdout",
     "output_type": "stream",
     "text": [
      "3.3333333333333335\n"
     ]
    }
   ],
   "source": [
    "a = 10\n",
    "b = 3\n",
    "print(a / b)"
   ]
  },
  {
   "cell_type": "markdown",
   "id": "634a4478",
   "metadata": {},
   "source": [
    "실수형을 정수형으로 변환해주는 int() 함수"
   ]
  },
  {
   "cell_type": "code",
   "execution_count": 21,
   "id": "aa69bfcf",
   "metadata": {},
   "outputs": [
    {
     "name": "stdout",
     "output_type": "stream",
     "text": [
      "20\n"
     ]
    }
   ],
   "source": [
    "a = int(10.7)\n",
    "b = int(10.3)\n",
    "print(a + b)"
   ]
  },
  {
   "cell_type": "code",
   "execution_count": 22,
   "id": "f61bbad2",
   "metadata": {},
   "outputs": [
    {
     "name": "stdout",
     "output_type": "stream",
     "text": [
      "10\n",
      "10\n"
     ]
    }
   ],
   "source": [
    "print(a)\n",
    "print(b)"
   ]
  },
  {
   "cell_type": "markdown",
   "id": "31c70f16",
   "metadata": {},
   "source": [
    "실수형이 정수형으로 변환될때는 수학의 반올림과는 달리, 소수점 이하의 내림이 발생한다."
   ]
  },
  {
   "cell_type": "markdown",
   "id": "fcbe049f",
   "metadata": {},
   "source": [
    "### <2> 숫자형과 문자형 간 변환"
   ]
  },
  {
   "cell_type": "markdown",
   "id": "4952a243",
   "metadata": {},
   "source": [
    "문자형을 선언된 값도 정수형이나 실수형으로 변환할 수 있고, 그 반대도 가능하다.\n",
    "\n",
    "실수형 값을 문자형으로 선언하기 위해서는 반드시 따옴표를 붙여 선언해야한다."
   ]
  },
  {
   "cell_type": "code",
   "execution_count": 23,
   "id": "f296b1aa",
   "metadata": {},
   "outputs": [
    {
     "name": "stdout",
     "output_type": "stream",
     "text": [
      "76.3\n"
     ]
    }
   ],
   "source": [
    "a = '76.3'\n",
    "b = float(a)\n",
    "print(a)"
   ]
  },
  {
   "cell_type": "code",
   "execution_count": 24,
   "id": "995ba7b9",
   "metadata": {},
   "outputs": [
    {
     "name": "stdout",
     "output_type": "stream",
     "text": [
      "76.3\n"
     ]
    }
   ],
   "source": [
    "print(b)"
   ]
  },
  {
   "cell_type": "code",
   "execution_count": 25,
   "id": "e5525214",
   "metadata": {},
   "outputs": [
    {
     "ename": "TypeError",
     "evalue": "can only concatenate str (not \"float\") to str",
     "output_type": "error",
     "traceback": [
      "\u001b[1;31m---------------------------------------------------------------------------\u001b[0m",
      "\u001b[1;31mTypeError\u001b[0m                                 Traceback (most recent call last)",
      "\u001b[1;32m~\\AppData\\Local\\Temp/ipykernel_2924/2920418401.py\u001b[0m in \u001b[0;36m<module>\u001b[1;34m\u001b[0m\n\u001b[1;32m----> 1\u001b[1;33m \u001b[0mprint\u001b[0m\u001b[1;33m(\u001b[0m\u001b[0ma\u001b[0m \u001b[1;33m+\u001b[0m \u001b[0mb\u001b[0m\u001b[1;33m)\u001b[0m \u001b[1;31m# a와 b를 더함 -> 문자열과 숫자열의 덧셈이 불가능하여 에러 발생\u001b[0m\u001b[1;33m\u001b[0m\u001b[1;33m\u001b[0m\u001b[0m\n\u001b[0m",
      "\u001b[1;31mTypeError\u001b[0m: can only concatenate str (not \"float\") to str"
     ]
    }
   ],
   "source": [
    "print(a + b) # a와 b를 더함 -> 문자열과 숫자열의 덧셈이 불가능하여 에러 발생"
   ]
  },
  {
   "cell_type": "markdown",
   "id": "b17671b6",
   "metadata": {},
   "source": [
    "숫자형 데이터와 문자형 데이터는 기본 연산이 적용되지 않고, 두 변수를 더하기 위해서는 두 변수의 자료형을 통일해야 한다."
   ]
  },
  {
   "cell_type": "code",
   "execution_count": 26,
   "id": "784b64e0",
   "metadata": {},
   "outputs": [
    {
     "name": "stdout",
     "output_type": "stream",
     "text": [
      "152.6\n"
     ]
    }
   ],
   "source": [
    "a = float(a)\n",
    "b = a\n",
    "print(a + b)"
   ]
  },
  {
   "cell_type": "markdown",
   "id": "9e5b21d2",
   "metadata": {},
   "source": [
    "정수형이나 실수형을 문자열로 바꿔주는 str() 함수\n",
    "\n",
    "문자형 간의 덧셈은 숫자 연산이 아닌 단순 붙이기(concatenate)가 일어난다는 사실을 유의"
   ]
  },
  {
   "cell_type": "code",
   "execution_count": 27,
   "id": "6ac1250a",
   "metadata": {},
   "outputs": [
    {
     "name": "stdout",
     "output_type": "stream",
     "text": [
      "76.376.3\n"
     ]
    }
   ],
   "source": [
    "a = str(a)\n",
    "b = str(b)\n",
    "print(a + b)"
   ]
  },
  {
   "cell_type": "markdown",
   "id": "0d00e661",
   "metadata": {},
   "source": [
    "### <3> 자료형 확인하기"
   ]
  },
  {
   "cell_type": "markdown",
   "id": "112d27e8",
   "metadata": {},
   "source": [
    "변수의 자료형을 확인할 수 있는 type() 함수\n",
    "\n",
    "변수별로 정수형은 'int', 실수형은 'float', 문자형은 'str'로 출력됨"
   ]
  },
  {
   "cell_type": "code",
   "execution_count": 28,
   "id": "5bb5b9f6",
   "metadata": {},
   "outputs": [],
   "source": [
    "a = int(10.3)\n",
    "b = float(10.3)\n",
    "c = str(10.3)"
   ]
  },
  {
   "cell_type": "code",
   "execution_count": 29,
   "id": "f5591d63",
   "metadata": {},
   "outputs": [
    {
     "data": {
      "text/plain": [
       "int"
      ]
     },
     "execution_count": 29,
     "metadata": {},
     "output_type": "execute_result"
    }
   ],
   "source": [
    "type(a)"
   ]
  },
  {
   "cell_type": "code",
   "execution_count": 30,
   "id": "ea019ee1",
   "metadata": {},
   "outputs": [
    {
     "data": {
      "text/plain": [
       "float"
      ]
     },
     "execution_count": 30,
     "metadata": {},
     "output_type": "execute_result"
    }
   ],
   "source": [
    "type(b)"
   ]
  },
  {
   "cell_type": "code",
   "execution_count": 31,
   "id": "6cc2e38c",
   "metadata": {},
   "outputs": [
    {
     "data": {
      "text/plain": [
       "str"
      ]
     },
     "execution_count": 31,
     "metadata": {},
     "output_type": "execute_result"
    }
   ],
   "source": [
    "type(c)"
   ]
  },
  {
   "cell_type": "markdown",
   "id": "31864526",
   "metadata": {},
   "source": [
    "## 요약"
   ]
  },
  {
   "cell_type": "markdown",
   "id": "cf6bb8db",
   "metadata": {},
   "source": [
    "1. print() 함수는 괄호 안의 내용을 화면에 출력하라는 뜻이다."
   ]
  },
  {
   "cell_type": "markdown",
   "id": "b81502cf",
   "metadata": {},
   "source": [
    "2. 변수(variable)는 프로그램에서 특정 값을 저장하는 공간의 이름을 뜻한다. "
   ]
  },
  {
   "cell_type": "markdown",
   "id": "8d1827ca",
   "metadata": {},
   "source": [
    "3. 변수에 값을 넣으라고 선언하는 순간 물리적으로 메모리 어딘가에 물리적인 공간을 확보할 수 있게 운영체제와 파이썬 인터프리터가 협력하여 메모리 저장 위치를 할당한다. 이 위치를 메모리 주소라고 한다."
   ]
  },
  {
   "cell_type": "markdown",
   "id": "4ba4ea18",
   "metadata": {},
   "source": [
    "4. 변수명 선언 규칙은 다음과 같다.\n",
    "\n",
    "- 알파벳, 숫자, 밑줄(\\_)로 선언할 수 있다.\n",
    "\n",
    "- 변수명은 의미 있는 단어로 표기하는 것이 좋다.\n",
    "\n",
    "- 변수명은 대소문자가 구분된다.\n",
    "\n",
    "- 특별한 의미가 있는 예약어는 사용할 수 없다."
   ]
  },
  {
   "cell_type": "markdown",
   "id": "fe1ecabc",
   "metadata": {},
   "source": [
    "5. 자료형의 종류는 다음과 같다.\n",
    "\n",
    "- 정수형(integer type): 자연수를 포함해 값의 영역이 정수로 한정된 값을 뜻한다.\n",
    "\n",
    "- 실수형(floating-point type): 일반적으로 소수점이 포함된 값을 말한다.\n",
    "\n",
    "- 문자형(string type): 값이 문자로 출력되는 자료형이다.\n",
    "\n",
    "- 불린형(boolean type): 논리형으로, 참 또는 거짓을 표현할 때 사용한다."
   ]
  },
  {
   "cell_type": "markdown",
   "id": "17311132",
   "metadata": {},
   "source": [
    "6. 파이썬의 덧셈 연산자는 덧셈 기호(+), 뺄셈 연산자는 뺄셈 기호(-), 곱셈 연산자는 별표 기호(\\*), 나눗셈 연산자는 빗금 기호(/)를 사용한다."
   ]
  },
  {
   "cell_type": "markdown",
   "id": "921d67c0",
   "metadata": {},
   "source": [
    "7. 파이썬에서 제곱승을 구하는 연산자는 2개의 별표 기호(\\*\\*)이다."
   ]
  },
  {
   "cell_type": "markdown",
   "id": "671dceb1",
   "metadata": {},
   "source": [
    "8. 파이썬에서 몫을 반환하는 연산자는 2개의 빗금 기호(//)이고, 나머지 연산자는 백분율 기호(%)이다."
   ]
  },
  {
   "cell_type": "markdown",
   "id": "310d9f6c",
   "metadata": {},
   "source": [
    "9. 증가 연산자는 +=이고, 감소 연산자는 -=이다."
   ]
  },
  {
   "cell_type": "markdown",
   "id": "dd673042",
   "metadata": {},
   "source": [
    "10. 변수 자료형은 float() 함수나 int() 함수를 사용하면 매우 간단하게 변환할 수 있다."
   ]
  },
  {
   "cell_type": "markdown",
   "id": "734da3b1",
   "metadata": {},
   "source": [
    "11. 문자형으로 선언된 값도 정수형이나 실수형으로 변환할 수 있다."
   ]
  },
  {
   "cell_type": "markdown",
   "id": "ce68809f",
   "metadata": {},
   "source": [
    "12. 자료형을 확인할 수 있는 함수는 type() 함수이다."
   ]
  },
  {
   "cell_type": "markdown",
   "id": "d9014fcd",
   "metadata": {},
   "source": [
    "## 연습문제 "
   ]
  },
  {
   "cell_type": "markdown",
   "id": "14b2d4f1",
   "metadata": {},
   "source": [
    "**1. 다음 코드의 실행 결과를 쓰시오.**"
   ]
  },
  {
   "cell_type": "code",
   "execution_count": 1,
   "id": "7a1c3c61",
   "metadata": {},
   "outputs": [
    {
     "name": "stdout",
     "output_type": "stream",
     "text": [
      "True False\n"
     ]
    }
   ],
   "source": [
    "a = 777\n",
    "b = 777\n",
    "print(a == b, a is b)"
   ]
  },
  {
   "cell_type": "markdown",
   "id": "9af57196",
   "metadata": {},
   "source": [
    "'=='은 값을 비교하는 연산\n",
    "\n",
    "'is'는 참조(주소)를 비교하는 연산\n",
    "\n",
    "a와 b의 값은 같으나, 서로 다른 주소를 가리키고 있음.\n",
    "\n",
    "Python은 1~256 까지의 값은 임시 메모리에 저장해서 같은 메모리 영역을 참조. 그러나, 257을 넘어가는 정수 값 부터는 다른 메모리 영역에 저장됨."
   ]
  },
  {
   "cell_type": "code",
   "execution_count": 3,
   "id": "227de9db",
   "metadata": {},
   "outputs": [
    {
     "name": "stdout",
     "output_type": "stream",
     "text": [
      "True True\n"
     ]
    }
   ],
   "source": [
    "a = 2\n",
    "b = 2\n",
    "print(a == b, a is b)"
   ]
  },
  {
   "cell_type": "markdown",
   "id": "3ef2bf47",
   "metadata": {},
   "source": [
    "**2. 다음 중 변수를 메모리에서 삭제하기 위해 사용하는 명령어는?**\n",
    "\n",
    "-> 1번\n",
    "\n",
    "(1) del\n",
    "\n",
    "(2) delete\n",
    "\n",
    "(3) remove\n",
    "\n",
    "(4) pop\n",
    "\n",
    "(5) clear\n",
    "\n",
    "변수를 메모리에서 삭제하기 위해 사용하는 명령어는 del이다."
   ]
  },
  {
   "cell_type": "markdown",
   "id": "d1b6f24f",
   "metadata": {},
   "source": [
    "**3. 빈칸에 들어갈 각각의 코드 실행 결과를 쓰시오.**"
   ]
  },
  {
   "cell_type": "markdown",
   "id": "e78cfdda",
   "metadata": {},
   "source": [
    "(가)"
   ]
  },
  {
   "cell_type": "code",
   "execution_count": 4,
   "id": "30dfbd21",
   "metadata": {},
   "outputs": [
    {
     "name": "stdout",
     "output_type": "stream",
     "text": [
      "12.25\n"
     ]
    }
   ],
   "source": [
    "a = 3.5\n",
    "b = int(3.5)\n",
    "print(a ** ((a // b) * 2))"
   ]
  },
  {
   "cell_type": "markdown",
   "id": "fa993996",
   "metadata": {},
   "source": [
    "a // b = (몫) 1\n",
    "\n",
    "1 * 2 = 2\n",
    "\n",
    "a ** 2 = a^2 = 12.25"
   ]
  },
  {
   "cell_type": "markdown",
   "id": "a23ecb96",
   "metadata": {},
   "source": [
    "(나)"
   ]
  },
  {
   "cell_type": "code",
   "execution_count": 5,
   "id": "559dd710",
   "metadata": {},
   "outputs": [
    {
     "name": "stdout",
     "output_type": "stream",
     "text": [
      "0.0\n"
     ]
    }
   ],
   "source": [
    "print(((a - b) * a) // b)"
   ]
  },
  {
   "cell_type": "markdown",
   "id": "41655196",
   "metadata": {},
   "source": [
    "a - b = 0.5\n",
    "\n",
    "0.5 * a = 0.5 * 3.5 = 1.75\n",
    "\n",
    "1.75 // b = 1.75 // 3 = 0.0"
   ]
  },
  {
   "cell_type": "markdown",
   "id": "f5167e3c",
   "metadata": {},
   "source": [
    "(다)"
   ]
  },
  {
   "cell_type": "code",
   "execution_count": 8,
   "id": "c26a8b27",
   "metadata": {},
   "outputs": [
    {
     "name": "stdout",
     "output_type": "stream",
     "text": [
      "1.75\n"
     ]
    }
   ],
   "source": [
    "b = (((a - b) * a) % b)\n",
    "print(b)"
   ]
  },
  {
   "cell_type": "markdown",
   "id": "6a76dd00",
   "metadata": {},
   "source": [
    "a - b = 0.5\n",
    "\n",
    "0.5 * a = 1.75\n",
    "\n",
    "1.75 % b = (나머지) 1.75"
   ]
  },
  {
   "cell_type": "markdown",
   "id": "a23ab757",
   "metadata": {},
   "source": [
    "(라)"
   ]
  },
  {
   "cell_type": "code",
   "execution_count": 9,
   "id": "c5116a33",
   "metadata": {},
   "outputs": [
    {
     "name": "stdout",
     "output_type": "stream",
     "text": [
      "0.0\n"
     ]
    }
   ],
   "source": [
    "print((a * 4) % (b * 4))"
   ]
  },
  {
   "cell_type": "markdown",
   "id": "7b36fd0b",
   "metadata": {},
   "source": [
    "a = 3.5\n",
    "\n",
    "a * 4 = 14.0\n",
    "\n",
    "b (다에서 재정의 된 b) = 1.75\n",
    "\n",
    "b * 4 = 7.0\n",
    "\n",
    "(a * 4) % (b * 4) = 14.0 % 7.0 = 0.0"
   ]
  },
  {
   "cell_type": "markdown",
   "id": "46a4a39a",
   "metadata": {},
   "source": [
    "**4. 입력받은 섭씨온도를 화씨온도를 변환하는 프로그램을 코딩하려고 한다. 코드 순서를 바르게 나열한 것은?**"
   ]
  },
  {
   "cell_type": "markdown",
   "id": "99d3178b",
   "metadata": {},
   "source": [
    "(1) fahrenheit = ((9 / 5) * celsius) + 32\n",
    "\n",
    "(2) celsius = input(\"섭씨온도를 입력하세요: \")\n",
    "\n",
    "(3) print(\"섭씨온도:\", celsius, \"화씨온도:\", fahrenheit)\n",
    "\n",
    "(4) celsius = float(input(\"섭씨온도를 입력하세요:\"))\n",
    "\n",
    "\n",
    "-> 4번. (4) -> (1) -> (3)\n",
    "\n",
    "섭씨온도(celsius)를 화씨온도(fahrenheit)로 변환하는 문제\n",
    "\n",
    "섭씨온도를 사용자로부터 입력받아야하기에 (2), (4)중 하나. 그러나 python의 input()함수는 기본적으로 문자열을 입력받는다.\n",
    "\n",
    "온도를 실수형으로 입력받으려면, (4)번 처럼 input() 함수 앞에 float() 함수를 씌워주어야 한다.\n",
    "\n",
    "(4) : 사용자로부터 섭씨온도 실수형으로 입력받음\n",
    "\n",
    "(1) : 섭씨온도를 화씨온도로 변환하는 식(과정)\n",
    "\n",
    "(3) : 섭씨온도와 화씨온도 결과 값 출력"
   ]
  },
  {
   "cell_type": "markdown",
   "id": "deffd4b2",
   "metadata": {},
   "source": [
    "**5. 다음 변수 a의 자료형은?**\n",
    "\n",
    "a = \"True\"\n",
    "\n",
    "-> 2번. 문자형\n",
    "\n",
    "python에서 따옴표를 사용하여 값을 표현하는 경우 문자형(str)을 나타냄"
   ]
  },
  {
   "cell_type": "code",
   "execution_count": 2,
   "id": "68fca86f",
   "metadata": {},
   "outputs": [
    {
     "data": {
      "text/plain": [
       "str"
      ]
     },
     "execution_count": 2,
     "metadata": {},
     "output_type": "execute_result"
    }
   ],
   "source": [
    "a = \"True\"\n",
    "type(a)"
   ]
  },
  {
   "cell_type": "markdown",
   "id": "1cda0018",
   "metadata": {},
   "source": [
    "**6. 다음과 같은 코드 작성 시, 실행 결과로 알맞게 짝지어진 것은?**"
   ]
  },
  {
   "cell_type": "markdown",
   "id": "3454eeaf",
   "metadata": {},
   "source": [
    "-> 3번 (111.3, <class 'float'>)"
   ]
  },
  {
   "cell_type": "code",
   "execution_count": 3,
   "id": "34d3fefc",
   "metadata": {},
   "outputs": [
    {
     "name": "stdout",
     "output_type": "stream",
     "text": [
      "111.3\n"
     ]
    }
   ],
   "source": [
    "a = 10.6\n",
    "b = 10.5\n",
    "print(a * b)"
   ]
  },
  {
   "cell_type": "markdown",
   "id": "6ab8379b",
   "metadata": {},
   "source": [
    "a와 b를 곱한 값을 출력.\n",
    "\n",
    "10.6 * 10.5 = 111.3"
   ]
  },
  {
   "cell_type": "code",
   "execution_count": 4,
   "id": "6b328ee3",
   "metadata": {},
   "outputs": [
    {
     "data": {
      "text/plain": [
       "float"
      ]
     },
     "execution_count": 4,
     "metadata": {},
     "output_type": "execute_result"
    }
   ],
   "source": [
    "type(a + b)"
   ]
  },
  {
   "cell_type": "markdown",
   "id": "570e03bf",
   "metadata": {},
   "source": [
    "a와 b의 합의 자료형을 type() 함수를 사용하여 구함.\n",
    "\n",
    "a + b = 10.6 + 10.5 = 21.1\n",
    "\n",
    "type(21.1) -> <class 'float'>"
   ]
  },
  {
   "cell_type": "markdown",
   "id": "583c6f89",
   "metadata": {},
   "source": [
    "**7. box = \"apple\"의 뜻은?**\n",
    "\n",
    "-> 2번. box 변수에 apple 값을 넣어라\n",
    "\n",
    "box라는 변수가 apple이라는 문자열을 참조"
   ]
  },
  {
   "cell_type": "markdown",
   "id": "562f3ddc",
   "metadata": {},
   "source": [
    "**8. 다음과 같이 코드를 작성했을 때, 실행 결과로 알맞은 것은?**"
   ]
  },
  {
   "cell_type": "markdown",
   "id": "936f982b",
   "metadata": {},
   "source": [
    "-> 2번. 3.53.53.53.5"
   ]
  },
  {
   "cell_type": "code",
   "execution_count": 6,
   "id": "5ebf12b1",
   "metadata": {},
   "outputs": [
    {
     "name": "stdout",
     "output_type": "stream",
     "text": [
      "3.53.53.53.5\n"
     ]
    }
   ],
   "source": [
    "a = \"3.5\"\n",
    "b = 4\n",
    "print(a * b)"
   ]
  },
  {
   "cell_type": "markdown",
   "id": "fa3100d2",
   "metadata": {},
   "source": [
    "a는 따옴표를 이용하여 값을 넣었으므로, 문자열형(str)\n",
    "\n",
    "b는 정수형(int)\n",
    "\n",
    "python의 경우 str형과 int형의 곱이 가능함 (정수값만큼 반복되는 문자열)"
   ]
  },
  {
   "cell_type": "markdown",
   "id": "7a6c304d",
   "metadata": {},
   "source": [
    "**9. a = \"3.5\", b = \"1.5\"일 때, print(a + b)의 실행 결과는?**"
   ]
  },
  {
   "cell_type": "markdown",
   "id": "9738dfd5",
   "metadata": {},
   "source": [
    "-> 2번"
   ]
  },
  {
   "cell_type": "markdown",
   "id": "beccd763",
   "metadata": {},
   "source": [
    "a와 b 모두 따옴표를 사용하여 값을 표현. 둘 다 str(문자)형\n",
    "\n",
    "문자형의 합은 두 문자열이 연결된 새로운 문자열이 생성됨."
   ]
  },
  {
   "cell_type": "markdown",
   "id": "b52d3eb5",
   "metadata": {},
   "source": [
    "**10. 다음과 같이 코드를 작성했을 때, 실행 결과로 알맞은 것은?**"
   ]
  },
  {
   "cell_type": "markdown",
   "id": "c257b3a9",
   "metadata": {},
   "source": [
    "-> 3번"
   ]
  },
  {
   "cell_type": "code",
   "execution_count": 10,
   "id": "c3984df7",
   "metadata": {},
   "outputs": [
    {
     "name": "stdout",
     "output_type": "stream",
     "text": [
      "27.0\n"
     ]
    }
   ],
   "source": [
    "a = '3'\n",
    "b = float(a)\n",
    "print(b ** int(a))"
   ]
  },
  {
   "cell_type": "markdown",
   "id": "ecc11d2e",
   "metadata": {},
   "source": [
    "b는 문자형 a를 float() 함수를 사용하여 실수형으로 변환한 것.\n",
    "\n",
    "b = 3.0\n",
    "\n",
    "int(a) = 3 (정수형)\n",
    "\n",
    "3.0 ** 3 = 27.0 (무조건 더 큰 메모리의 자료형, 여기서는 float형으로 맞춰짐)"
   ]
  },
  {
   "cell_type": "markdown",
   "id": "55601481",
   "metadata": {},
   "source": [
    "**11. 변수(variable)에 대한 설명으로 틀린 것은?**"
   ]
  },
  {
   "cell_type": "markdown",
   "id": "4ecee4e5",
   "metadata": {},
   "source": [
    "(1) 프로그램에서 사용하기 위한 특정한 값을 저장하는 공간이다. -> O\n",
    "\n",
    "(2) 선언되는 순간 메모리의 특정 영역에 공간이 할당된다. -> O\n",
    "\n",
    "(3) 변수에 할당된 값은 하드디스크에 저장된다. -> X\n",
    "\n",
    "-> 주기억장치인 메모리에 저장됨. 컴퓨터의 전원이 꺼지면 휘발됨. 그러나, 하드디스크에 저장된 정보의 경우, 컴퓨터의 전원이 꺼져도 사라지지 않음. \n",
    "\n",
    "(4) A = 8은 \"A는 8이다\"라는 뜻이 아니다. -> O\n",
    "\n",
    "-> A라는 변수에 8이라는 값을 넣으라는 의미\n",
    "\n",
    "(5) '2x + 7y'는 14라고 하면, 이 식에서 x와 y가 변수이다. -> O\n",
    "\n",
    "-> 변수란 특정 값을 저장할 수 있는 공간"
   ]
  },
  {
   "cell_type": "markdown",
   "id": "3c9f2177",
   "metadata": {},
   "source": [
    "**12. 다음과 같이 코드를 작성했을 때, 실행 결과로 알맞은 것은?**"
   ]
  },
  {
   "cell_type": "markdown",
   "id": "22fe3c15",
   "metadata": {},
   "source": [
    "-> 5번"
   ]
  },
  {
   "cell_type": "code",
   "execution_count": 11,
   "id": "bb13aa19",
   "metadata": {},
   "outputs": [
    {
     "ename": "TypeError",
     "evalue": "unsupported operand type(s) for /: 'str' and 'str'",
     "output_type": "error",
     "traceback": [
      "\u001b[1;31m---------------------------------------------------------------------------\u001b[0m",
      "\u001b[1;31mTypeError\u001b[0m                                 Traceback (most recent call last)",
      "\u001b[1;32m~\\AppData\\Local\\Temp/ipykernel_9344/3912112856.py\u001b[0m in \u001b[0;36m<module>\u001b[1;34m\u001b[0m\n\u001b[0;32m      1\u001b[0m \u001b[0ma\u001b[0m \u001b[1;33m=\u001b[0m \u001b[1;34m'20'\u001b[0m\u001b[1;33m\u001b[0m\u001b[1;33m\u001b[0m\u001b[0m\n\u001b[0;32m      2\u001b[0m \u001b[0mb\u001b[0m \u001b[1;33m=\u001b[0m \u001b[1;34m'4'\u001b[0m\u001b[1;33m\u001b[0m\u001b[1;33m\u001b[0m\u001b[0m\n\u001b[1;32m----> 3\u001b[1;33m \u001b[0mprint\u001b[0m\u001b[1;33m(\u001b[0m\u001b[0mtype\u001b[0m\u001b[1;33m(\u001b[0m\u001b[0mfloat\u001b[0m\u001b[1;33m(\u001b[0m\u001b[0ma\u001b[0m \u001b[1;33m/\u001b[0m \u001b[0mb\u001b[0m\u001b[1;33m)\u001b[0m\u001b[1;33m)\u001b[0m\u001b[1;33m)\u001b[0m\u001b[1;33m\u001b[0m\u001b[1;33m\u001b[0m\u001b[0m\n\u001b[0m",
      "\u001b[1;31mTypeError\u001b[0m: unsupported operand type(s) for /: 'str' and 'str'"
     ]
    }
   ],
   "source": [
    "a = '20'\n",
    "b = '4'\n",
    "print(type(float(a / b)))"
   ]
  },
  {
   "cell_type": "markdown",
   "id": "6e005ff7",
   "metadata": {},
   "source": [
    "TypeError: unsupported operand type(s) for /: 'str' and 'str'\n",
    "\n",
    "str형과 str형 간에 / 연산은 지원되지 않음 -> TypeError"
   ]
  },
  {
   "cell_type": "markdown",
   "id": "515740ed",
   "metadata": {},
   "source": [
    "**13. 다음 코드의 실행 결과가 나오도록 빈칸에 코드를 추가하시오.(단, 변수를 삭제하면 안 됨)**"
   ]
  },
  {
   "cell_type": "code",
   "execution_count": 17,
   "id": "7a62ce7f",
   "metadata": {},
   "outputs": [
    {
     "name": "stdout",
     "output_type": "stream",
     "text": [
      "Gachon CS 50\n"
     ]
    }
   ],
   "source": [
    "a = \"Gachon\"\n",
    "b = \"CS\"\n",
    "c = 200\n",
    "c = int(c / 4)\n",
    "print(a, b, c)\n",
    "# Gachon CS 50"
   ]
  },
  {
   "cell_type": "markdown",
   "id": "c77ca1b3",
   "metadata": {},
   "source": [
    "c가 정수형으로 50이 나와야하므로 4로 나눠주고, int() 함수 사용해줌.\n",
    "\n",
    "문자형으로 결과를 내고 싶다면, int() 함수 사용한 다음, str() 함수 한 번 더 사용해주면 됨. 그렇지만 그렇게 할 필요는 없을 듯."
   ]
  },
  {
   "cell_type": "markdown",
   "id": "4cb13134",
   "metadata": {},
   "source": [
    "**14. 동적 타이핑의 의미를 설명하고, 파이썬 코드로 예시를 제시하시오.**\n",
    "\n",
    "동적 타이핑이란, 변수의 자료형을 코드 작성 당시에 미리 부여하지 않고, 코드가 실행되는 순간에 부여되는 것을 의미한다."
   ]
  },
  {
   "cell_type": "code",
   "execution_count": 18,
   "id": "5c6e879d",
   "metadata": {},
   "outputs": [
    {
     "data": {
      "text/plain": [
       "int"
      ]
     },
     "execution_count": 18,
     "metadata": {},
     "output_type": "execute_result"
    }
   ],
   "source": [
    "a = 5\n",
    "type(a)"
   ]
  },
  {
   "cell_type": "markdown",
   "id": "2c824bb5",
   "metadata": {},
   "source": [
    "**15. 다음 코드의 예상되는 실행 결과를 쓰시오.**"
   ]
  },
  {
   "cell_type": "markdown",
   "id": "a1d69e77",
   "metadata": {},
   "source": [
    "(가) print(\"1.0\" \\* 5)\n",
    "\n",
    "-> 1.01.01.01.01.0 (문자열 반복)\n",
    "\n",
    "(나) print(\"1.0\" + 2)\n",
    "\n",
    "-> TypeError (str형과 int형 덧셈 불가능)\n",
    "\n",
    "(다) print(\"Hanbit\" + \"Python\")\n",
    "\n",
    "-> HanbitPython (문자열 덧셈, 서로 다른 문자열이 연결되어 새로운 문자열 생성됨)\n",
    "\n",
    "(라) print(\"3.5\" + \"0.5\")\n",
    "\n",
    "-> 3.50.5 (문자열 덧셈, 서로 다른 문자열이 연결되어 새로운 문자열 생성됨)"
   ]
  },
  {
   "cell_type": "code",
   "execution_count": 19,
   "id": "a0ee5fa6",
   "metadata": {},
   "outputs": [
    {
     "name": "stdout",
     "output_type": "stream",
     "text": [
      "1.01.01.01.01.0\n"
     ]
    }
   ],
   "source": [
    "print(\"1.0\" * 5)"
   ]
  },
  {
   "cell_type": "code",
   "execution_count": 20,
   "id": "96b7c693",
   "metadata": {},
   "outputs": [
    {
     "ename": "TypeError",
     "evalue": "can only concatenate str (not \"int\") to str",
     "output_type": "error",
     "traceback": [
      "\u001b[1;31m---------------------------------------------------------------------------\u001b[0m",
      "\u001b[1;31mTypeError\u001b[0m                                 Traceback (most recent call last)",
      "\u001b[1;32m~\\AppData\\Local\\Temp/ipykernel_9344/3649271810.py\u001b[0m in \u001b[0;36m<module>\u001b[1;34m\u001b[0m\n\u001b[1;32m----> 1\u001b[1;33m \u001b[0mprint\u001b[0m\u001b[1;33m(\u001b[0m\u001b[1;34m\"1.0\"\u001b[0m \u001b[1;33m+\u001b[0m \u001b[1;36m2\u001b[0m\u001b[1;33m)\u001b[0m\u001b[1;33m\u001b[0m\u001b[1;33m\u001b[0m\u001b[0m\n\u001b[0m",
      "\u001b[1;31mTypeError\u001b[0m: can only concatenate str (not \"int\") to str"
     ]
    }
   ],
   "source": [
    "print(\"1.0\" + 2)"
   ]
  },
  {
   "cell_type": "code",
   "execution_count": 21,
   "id": "45dfb476",
   "metadata": {},
   "outputs": [
    {
     "name": "stdout",
     "output_type": "stream",
     "text": [
      "HanbitPython\n"
     ]
    }
   ],
   "source": [
    "print(\"Hanbit\" + \"Python\")"
   ]
  },
  {
   "cell_type": "code",
   "execution_count": 22,
   "id": "4ae94d4b",
   "metadata": {},
   "outputs": [
    {
     "name": "stdout",
     "output_type": "stream",
     "text": [
      "3.50.5\n"
     ]
    }
   ],
   "source": [
    "print(\"3.5\" + \"0.5\")"
   ]
  },
  {
   "cell_type": "markdown",
   "id": "174ba47c",
   "metadata": {},
   "source": [
    "**16. 변수명을 지을 때 권장하는 규칙 중 틀린 것은?**\n",
    "\n",
    "(1) 변수명은 알파벳, 숫자, 밑줄(\\_) 등을 사용하여 표현할 수 있다. -> O\n",
    "\n",
    "(2) 변수명은 의미 있는 단어로 쓰는 것을 권장하며, 한글도 사용할 수 있다 . -> X\n",
    "\n",
    "-> 한글은 사용 불가능\n",
    "\n",
    "(3) 변수명은 대소문자가 구분된다. -> O\n",
    "\n",
    "(4) 문법으로 사용되는 특별한 예약어는 변수명으로 쓰지 않는다. -> O\n",
    "\n",
    "(5) 변수명은 \"a\", \"b\" 등으로 사용하는 것은 권장하는 것은 권장하지 않는다. -> O"
   ]
  },
  {
   "cell_type": "markdown",
   "id": "3edb3156",
   "metadata": {},
   "source": [
    "**17. 파이썬에서 반올림 오차가 나타나는 이유에 대해 설명하시오.**"
   ]
  },
  {
   "cell_type": "code",
   "execution_count": 23,
   "id": "6bba55c0",
   "metadata": {},
   "outputs": [
    {
     "data": {
      "text/plain": [
       "0.30000000000000004"
      ]
     },
     "execution_count": 23,
     "metadata": {},
     "output_type": "execute_result"
    }
   ],
   "source": [
    "0.1 + 0.2"
   ]
  },
  {
   "cell_type": "markdown",
   "id": "29ed7e27",
   "metadata": {},
   "source": [
    "파이썬은 실수를 부동소수점 방식으로 표현하는데 부동소수점은 실수를 정확히 표현할 수 없는 문제가 있습니다.\n",
    "\n",
    "컴퓨터에서는 숫자를 비트로 표현하는데 실수는 유한개의 비트로 정확하게 표현할 수가 없습니다. 따라서 실수는 유한개의 비트를 사용하여 근삿값으로 표현합니다.\n",
    "\n",
    "https://dojang.io/mod/page/view.php?id=2466\n",
    "\n",
    "https://steemit.com/kr/@modolee/floating-point"
   ]
  }
 ],
 "metadata": {
  "kernelspec": {
   "display_name": "Python 3 (ipykernel)",
   "language": "python",
   "name": "python3"
  },
  "language_info": {
   "codemirror_mode": {
    "name": "ipython",
    "version": 3
   },
   "file_extension": ".py",
   "mimetype": "text/x-python",
   "name": "python",
   "nbconvert_exporter": "python",
   "pygments_lexer": "ipython3",
   "version": "3.9.6"
  }
 },
 "nbformat": 4,
 "nbformat_minor": 5
}
