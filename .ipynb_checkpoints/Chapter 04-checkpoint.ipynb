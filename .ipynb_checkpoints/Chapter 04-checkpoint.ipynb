{
 "cells": [
  {
   "cell_type": "markdown",
   "id": "0d4c13ff",
   "metadata": {},
   "source": [
    "# Chapter 04 조건문과 반복문 "
   ]
  },
  {
   "cell_type": "markdown",
   "id": "01fc81b9",
   "metadata": {},
   "source": [
    "## 01. 조건문 "
   ]
  },
  {
   "cell_type": "markdown",
   "id": "7eeb2bf5",
   "metadata": {},
   "source": [
    "## 02. Lab : 어떤 종류의 학생인지 맞히기 "
   ]
  },
  {
   "cell_type": "markdown",
   "id": "17924b84",
   "metadata": {},
   "source": [
    "## 03. 반복문 "
   ]
  },
  {
   "cell_type": "markdown",
   "id": "bb5e9b7e",
   "metadata": {},
   "source": [
    "## 04. Lab : 구구단 계산기 "
   ]
  },
  {
   "cell_type": "markdown",
   "id": "5b748967",
   "metadata": {},
   "source": [
    "## 05. 조건문과 반복문 실습 "
   ]
  },
  {
   "cell_type": "markdown",
   "id": "c89a64da",
   "metadata": {},
   "source": [
    "## 06. Lab : 숫자 찾기 게임 "
   ]
  },
  {
   "cell_type": "markdown",
   "id": "e1365c46",
   "metadata": {},
   "source": [
    "## 07. Lab : 연속적인 구구단 계산기"
   ]
  },
  {
   "cell_type": "markdown",
   "id": "7e54d6b6",
   "metadata": {},
   "source": [
    "## 08. Lab : 평균 구하기 "
   ]
  },
  {
   "cell_type": "markdown",
   "id": "ee927b9e",
   "metadata": {},
   "source": [
    "## 09. 코드의 오류를 처리하는 방법 "
   ]
  },
  {
   "cell_type": "markdown",
   "id": "16dddb52",
   "metadata": {},
   "source": [
    "## 요약 "
   ]
  },
  {
   "cell_type": "markdown",
   "id": "47e77f8f",
   "metadata": {},
   "source": [
    "## 연습문제 "
   ]
  },
  {
   "cell_type": "markdown",
   "id": "d095b174",
   "metadata": {},
   "source": [
    "**1. 주어진 자연수 N에 대해 N이 짝수이면 N!을, 홀수이면 ∑N을 구하는 코드를 작성하려 한다. 주어진 코드에서 잘못된 부분을 수정하시오.**"
   ]
  },
  {
   "cell_type": "code",
   "execution_count": 6,
   "id": "93adfdef",
   "metadata": {},
   "outputs": [
    {
     "name": "stdout",
     "output_type": "stream",
     "text": [
      "6\n"
     ]
    }
   ],
   "source": [
    "def calculator(N):\n",
    "    if N % 2 == 0:\n",
    "        result = 1\n",
    "        for i in range(1, N+1):\n",
    "            result = result * i\n",
    "    else:\n",
    "        result = 0\n",
    "        for i in range(1, N+1):\n",
    "            result = result + i\n",
    "    return result\n",
    "\n",
    "if __name__ == '__main__':\n",
    "    print(calculator(3))"
   ]
  },
  {
   "cell_type": "markdown",
   "id": "ed1d2146",
   "metadata": {},
   "source": [
    "우선 calculator 함수의 인자는 N이고, 조건문에서 사용하는 변수는 n임.\\\n",
    "이 둘을 둘다 대문자로 하던지, 소문자로 하던지 맞춰주어야 문법적인 오류가 발생하지 않음.\\\n",
    "또한, range문은 (시작번호, 마지막번호)에서 마지막번호-1까지만 계산이 이루어지므로, N!이나 ∑N을 구하려면, 범위를 N+1까지 해주어야 논리적 오류가 발생하지 않는다"
   ]
  },
  {
   "cell_type": "markdown",
   "id": "d9a0682a",
   "metadata": {},
   "source": [
    "**2. 다음 코드의 실행 결과를 쓰시오.**"
   ]
  },
  {
   "cell_type": "code",
   "execution_count": 8,
   "id": "6448649e",
   "metadata": {},
   "outputs": [
    {
     "name": "stdout",
     "output_type": "stream",
     "text": [
      "apple\n"
     ]
    }
   ],
   "source": [
    "fruit = 'apple'\n",
    "if fruit == 'Apple':\n",
    "    fruit = 'Apple'\n",
    "elif fruit == 'fruit':\n",
    "    fruit = 'fruit'\n",
    "else:\n",
    "    fruit = fruit\n",
    "print(fruit)"
   ]
  },
  {
   "cell_type": "markdown",
   "id": "49f31955",
   "metadata": {},
   "source": [
    "fruit의 값은 처음에 'apple'로 초기화 되었다\\\n",
    "if문에 해당하는 'Apple'에도 해당하지 않고, elif문에 해당하는 'fruit'에도 해당하지 않으므로, else문으로 넘어가, 그대로 fruit의 값이 유지된다\\\n",
    "그러므로 fruit을 출력하면 apple값이 나온다"
   ]
  },
  {
   "cell_type": "markdown",
   "id": "3497c01b",
   "metadata": {},
   "source": [
    "**3. 다음 코드의 실행 결과를 쓰시오.**"
   ]
  },
  {
   "cell_type": "code",
   "execution_count": 9,
   "id": "242853b1",
   "metadata": {},
   "outputs": [
    {
     "name": "stdout",
     "output_type": "stream",
     "text": [
      "['12', '34', '56']\n"
     ]
    }
   ],
   "source": [
    "num = ['12', '34', '56']\n",
    "for i in num:\n",
    "    i = int(i)\n",
    "print(num)"
   ]
  },
  {
   "cell_type": "markdown",
   "id": "ab2869f5",
   "metadata": {},
   "source": [
    "결과적으로 num값을 출력하면 되는 문제\\\n",
    "반복문에서 num값을 변화시키지 않음\\\n",
    "그러므로, 그대로 num값 ['12', '34','56']을 출력하면 됨 "
   ]
  },
  {
   "cell_type": "markdown",
   "id": "162ba8e9",
   "metadata": {},
   "source": [
    "**4. 다음 코드의 실행 결과를 쓰시오.**"
   ]
  },
  {
   "cell_type": "code",
   "execution_count": 10,
   "id": "7df1d788",
   "metadata": {},
   "outputs": [
    {
     "name": "stdout",
     "output_type": "stream",
     "text": [
      "[3, 4.0]\n"
     ]
    }
   ],
   "source": [
    "number = [\"1\", 2, 3, float(4), str(5)]\n",
    "if number[4] == 5:\n",
    "    print(type(number[0]))\n",
    "elif number[3] == 4:\n",
    "    print(number[2:-1])"
   ]
  },
  {
   "cell_type": "markdown",
   "id": "8fda36f9",
   "metadata": {},
   "source": [
    "number[4] == '5'\\\n",
    "'5' != 5 (문자형과 숫자형은 비교할 수 없다!)\n",
    "number[3] == 4\\\n",
    "4(float형) == 4\\\n",
    "number[2:-1] = [3, float(4)] = [3, 4.0]"
   ]
  },
  {
   "cell_type": "markdown",
   "id": "97c7665b",
   "metadata": {},
   "source": [
    "**5. 다음 코드의 실행 결과를 쓰시오.**"
   ]
  },
  {
   "cell_type": "code",
   "execution_count": 11,
   "id": "1612416e",
   "metadata": {},
   "outputs": [
    {
     "name": "stdout",
     "output_type": "stream",
     "text": [
      "5\n"
     ]
    }
   ],
   "source": [
    "num = 0\n",
    "i = 1\n",
    "\n",
    "while i < 8:\n",
    "    if i % 3 == 0:\n",
    "        break\n",
    "    i += 1\n",
    "    num += i\n",
    "print(num)"
   ]
  },
  {
   "cell_type": "markdown",
   "id": "7bafa752",
   "metadata": {},
   "source": [
    "num은 0으로 i는 1로 초기화\\\n",
    "i = 1부터 while문 시작\\\n",
    "1 % 3 = 1\\\n",
    "i = 2\\\n",
    "num = 2\\\n",
    "i = 2로 반복됨\\\n",
    "2 % 3 = 2\\\n",
    "i = 2 + 1 = 3\\\n",
    "num = 2 + 3 = 5"
   ]
  },
  {
   "cell_type": "markdown",
   "id": "33e062e1",
   "metadata": {},
   "source": [
    "**6. 다음 코드의 실행 결과를 쓰시오.**"
   ]
  },
  {
   "cell_type": "code",
   "execution_count": 12,
   "id": "ef8d5ed8",
   "metadata": {},
   "outputs": [
    {
     "name": "stdout",
     "output_type": "stream",
     "text": [
      "-5\n"
     ]
    }
   ],
   "source": [
    "result = 0\n",
    "for i in range(5, -5, -2):\n",
    "    if i < -3:\n",
    "        result += 1\n",
    "    else :\n",
    "        result -= 1\n",
    "\n",
    "print(result)"
   ]
  },
  {
   "cell_type": "markdown",
   "id": "33939db8",
   "metadata": {},
   "source": [
    "for i in range(5, -5, -2)\\\n",
    "5, 3, 1, -1, -3 순으로 반복\\\n",
    "다 -3보다는 작지 않으므로, if문 조건에는 해당 안 됨\\\n",
    "else문만 5번 계산되므로 result는 -5"
   ]
  },
  {
   "cell_type": "markdown",
   "id": "14ae5b9d",
   "metadata": {},
   "source": [
    "**7. 다음 코드의 실행 결과를 쓰시오.**\\\n",
    "2번 문제와 동일!"
   ]
  },
  {
   "cell_type": "markdown",
   "id": "370ebde2",
   "metadata": {},
   "source": [
    "**8. 다음 코드의 실행 결과를 쓰시오.**"
   ]
  },
  {
   "cell_type": "code",
   "execution_count": 13,
   "id": "4516c7b5",
   "metadata": {},
   "outputs": [
    {
     "name": "stdout",
     "output_type": "stream",
     "text": [
      "0\n"
     ]
    },
    {
     "name": "stderr",
     "output_type": "stream",
     "text": [
      "<>:4: SyntaxWarning: \"is\" with a literal. Did you mean \"==\"?\n",
      "<>:7: SyntaxWarning: \"is\" with a literal. Did you mean \"==\"?\n",
      "<>:4: SyntaxWarning: \"is\" with a literal. Did you mean \"==\"?\n",
      "<>:7: SyntaxWarning: \"is\" with a literal. Did you mean \"==\"?\n",
      "C:\\Users\\User\\AppData\\Local\\Temp/ipykernel_4664/2402932925.py:4: SyntaxWarning: \"is\" with a literal. Did you mean \"==\"?\n",
      "  if i is 5:\n",
      "C:\\Users\\User\\AppData\\Local\\Temp/ipykernel_4664/2402932925.py:7: SyntaxWarning: \"is\" with a literal. Did you mean \"==\"?\n",
      "  if i is 10:\n"
     ]
    }
   ],
   "source": [
    "first_value = 0\n",
    "second_value = 0\n",
    "for i in range(1, 10):\n",
    "    if i is 5:\n",
    "        continue\n",
    "        first_value = i\n",
    "    if i is 10:\n",
    "        break\n",
    "        second_value = i\n",
    "\n",
    "print(first_value + second_value)"
   ]
  },
  {
   "cell_type": "markdown",
   "id": "e34cf431",
   "metadata": {},
   "source": [
    "for i in range(1, 10)으로, 1부터 9까지 i가 반복된다\\\n",
    "5일때와 10일때 조건문의 조건을 각각 충족하게 되는데,\\\n",
    "5의 경우 continue문을 받고 first_value = i를 만나지 못한채로 i는 6으로 넘어가게 된다\\\n",
    "그리고 if i is 10 구문은 i가 9까지만 반복되므로 만족하는 조건을 만나지 못한다\\\n",
    "그러므로 first_value와 second_value는 둘 다 0의 값을 갖는다"
   ]
  },
  {
   "cell_type": "markdown",
   "id": "8d3196d7",
   "metadata": {},
   "source": [
    "**9. 다음 코드의 실행 결과를 쓰시오.**"
   ]
  },
  {
   "cell_type": "code",
   "execution_count": 14,
   "id": "db687ddf",
   "metadata": {},
   "outputs": [
    {
     "name": "stdout",
     "output_type": "stream",
     "text": [
      "986531\n"
     ]
    },
    {
     "name": "stderr",
     "output_type": "stream",
     "text": [
      "<>:5: SyntaxWarning: \"is\" with a literal. Did you mean \"==\"?\n",
      "<>:5: SyntaxWarning: \"is\" with a literal. Did you mean \"==\"?\n",
      "<>:5: SyntaxWarning: \"is\" with a literal. Did you mean \"==\"?\n",
      "<>:5: SyntaxWarning: \"is\" with a literal. Did you mean \"==\"?\n",
      "C:\\Users\\User\\AppData\\Local\\Temp/ipykernel_4664/2311581283.py:5: SyntaxWarning: \"is\" with a literal. Did you mean \"==\"?\n",
      "  elif i is 7 or i is 10:\n",
      "C:\\Users\\User\\AppData\\Local\\Temp/ipykernel_4664/2311581283.py:5: SyntaxWarning: \"is\" with a literal. Did you mean \"==\"?\n",
      "  elif i is 7 or i is 10:\n"
     ]
    }
   ],
   "source": [
    "num = \"\"\n",
    "for i in range(10):\n",
    "    if i <= 5 and (i % 2) == 0:\n",
    "        continue\n",
    "    elif i is 7 or i is 10:\n",
    "        continue\n",
    "    else:\n",
    "        num = str(i) + num\n",
    "print(num)"
   ]
  },
  {
   "cell_type": "markdown",
   "id": "3fc8c58d",
   "metadata": {},
   "source": [
    "반복은 i가 0부터 9까지\\\n",
    "if문은 i가 5이하인 짝수거나 0의 경우 충족\\\n",
    "elif문은 i가 7이거나 10인 경우 충족\\\n",
    "위 두 조건을 만족하지 않으면 else문으로 내려와서, str형으로 바뀐뒤 문자열 앞부분으로 추가됨\\\n",
    "따라서 986531"
   ]
  },
  {
   "cell_type": "markdown",
   "id": "c61bf39a",
   "metadata": {},
   "source": [
    "**10. 다음 함수는 작업의 상태를 나타내는 함수이다. 코드의 실행 결과를 쓰시오.**"
   ]
  },
  {
   "cell_type": "code",
   "execution_count": 16,
   "id": "d849a13b",
   "metadata": {},
   "outputs": [],
   "source": [
    "def work_status(task, worker, day):\n",
    "    rest_task = task\n",
    "    for k in range(day):\n",
    "        if rest_task > 0:\n",
    "            rest_task = rest_task - worker\n",
    "        elif rest_task <= 0:\n",
    "            print(\"Task end\")\n",
    "    if rest_task > 0:\n",
    "        print(\"Hire more workers\")\n",
    "\n",
    "work_status(100, 11, 10)"
   ]
  },
  {
   "cell_type": "code",
   "execution_count": 17,
   "id": "a4849db9",
   "metadata": {},
   "outputs": [
    {
     "name": "stdout",
     "output_type": "stream",
     "text": [
      "Hire more workers\n"
     ]
    }
   ],
   "source": [
    "work_status(100, 1, 10)"
   ]
  },
  {
   "cell_type": "code",
   "execution_count": 18,
   "id": "4691bd56",
   "metadata": {},
   "outputs": [
    {
     "name": "stdout",
     "output_type": "stream",
     "text": [
      "Hire more workers\n"
     ]
    }
   ],
   "source": [
    "work_status(100, 9, 10)"
   ]
  },
  {
   "cell_type": "code",
   "execution_count": 19,
   "id": "defb68f3",
   "metadata": {},
   "outputs": [],
   "source": [
    "work_status(100, 10, 10)"
   ]
  },
  {
   "cell_type": "markdown",
   "id": "460ffe55",
   "metadata": {},
   "source": [
    "rest_task = 100\\\n",
    "k = 0 ~ 9\n",
    "1) (100, 11, 10)\\\n",
    "k = 0, rest_task = 89\\\n",
    "k = 1, rest_task = 78\\\n",
    "k = 2, rest_task = 67\\\n",
    "k = 3, rest_task = 56\\\n",
    "k = 4, rest_task = 45\\\n",
    "k = 5, rest_task = 34\\\n",
    "k = 6, rest_task = 23\\\n",
    "k = 7, rest_task = 12\\\n",
    "k = 8, rest_task = 1\\\n",
    "k = 9, rest_task = -10\n",
    "\n",
    "2) (100, 1, 10)\n",
    "k = 0, rest_task = 99\\\n",
    "k = 1, rest_task = 98\\\n",
    "k = 2, rest_task = 97\\\n",
    "k = 3, rest_task = 96\\\n",
    "k = 4, rest_task = 95\\\n",
    "k = 5, rest_task = 94\\\n",
    "k = 6, rest_task = 93\\\n",
    "k = 7, rest_task = 92\\\n",
    "k = 8, rest_task = 91\\\n",
    "k = 9, rest_task = 90\\\n",
    "rest_task > 0 -> Hire more workers\n",
    "\n",
    "3) (100, 9, 10)\n",
    "k = 0, rest_task = 91\\\n",
    "k = 1, rest_task = 82\\\n",
    "k = 2, rest_task = 73\\\n",
    "k = 3, rest_task = 64\\\n",
    "k = 4, rest_task = 55\\\n",
    "k = 5, rest_task = 46\\\n",
    "k = 6, rest_task = 37\\\n",
    "k = 7, rest_task = 28\\\n",
    "k = 8, rest_task = 19\\\n",
    "k = 9, rest_task = 10\\\n",
    "rest_task > 0 -> Hire more workers\n",
    "\n",
    "4) (100, 10, 10)\n",
    "k = 0, rest_task = 90\\\n",
    "k = 1, rest_task = 80\\\n",
    "k = 2, rest_task = 70\\\n",
    "k = 3, rest_task = 60\\\n",
    "k = 4, rest_task = 50\\\n",
    "k = 5, rest_task = 40\\\n",
    "k = 6, rest_task = 30\\\n",
    "k = 7, rest_task = 20\\\n",
    "k = 8, rest_task = 10\\\n",
    "k = 9, rest_task = 0"
   ]
  },
  {
   "cell_type": "markdown",
   "id": "e96a25f0",
   "metadata": {},
   "source": [
    "**11. 다음 코드의 실행 결과를 쓰시오.**"
   ]
  },
  {
   "cell_type": "code",
   "execution_count": 33,
   "id": "1865aafa",
   "metadata": {},
   "outputs": [
    {
     "name": "stdout",
     "output_type": "stream",
     "text": [
      "45\n"
     ]
    }
   ],
   "source": [
    "score_list = [5, 10, 15, 20, 25, 30]\n",
    "\n",
    "sum_of_score = 0\n",
    "i = 0\n",
    "while i < len(score_list):\n",
    "    if i % 2 == 0:\n",
    "        sum_of_score += score_list[i]\n",
    "    i += 1\n",
    "    \n",
    "print(sum_of_score)"
   ]
  },
  {
   "cell_type": "markdown",
   "id": "2f1d25ac",
   "metadata": {},
   "source": [
    "len(score_list) = 6\\\n",
    "i = 0 ~ 5\\\n",
    "i가 0이거나 짝수일때 score_list의 값을 sum_of_score에 더해줌\\\n",
    "i = 0, 2, 4\\\n",
    "sum_of_score = 5 + 15 + 25 = 45"
   ]
  },
  {
   "cell_type": "markdown",
   "id": "af365878",
   "metadata": {},
   "source": [
    "**12. 다음 코드의 실행 결과를 쓰시오.**"
   ]
  },
  {
   "cell_type": "code",
   "execution_count": 32,
   "id": "79c0d320",
   "metadata": {},
   "outputs": [
    {
     "name": "stdout",
     "output_type": "stream",
     "text": [
      "2600\n"
     ]
    }
   ],
   "source": [
    "coupon = 0\n",
    "money = 200000\n",
    "coffee = 3500\n",
    "while money > coffee:\n",
    "    if coupon < 4:\n",
    "        money = money - coffee\n",
    "        coupon += 1\n",
    "    else:\n",
    "        money += 2800\n",
    "        coupon = 0\n",
    "print(money)"
   ]
  },
  {
   "cell_type": "markdown",
   "id": "d34b3a55",
   "metadata": {},
   "source": [
    "coupon = 0, money = 200000, coffee = 3500\\\n",
    "200000 > 3500, coupon = 0\\\n",
    "money = 196500 coupon = 1\\\n",
    "money = 193000 coupon = 2\\\n",
    "money = 189500 coupon = 3\\\n",
    "money = 186000 coupon = 4\\\n",
    "money = 188800 coupon = 0\\\n",
    "쿠폰을 4개 모아 사용할때까지 총 11200(14000 - 2800)원 사용\\\n",
    "200000 / 11200 = 17 ... 9600\\\n",
    "money = 9600 coupon = 0\\\n",
    "money = 6100 coupon = 1\\\n",
    "money = 2600 coupon = 2\\\n",
    "남은 money는 2600원"
   ]
  },
  {
   "cell_type": "markdown",
   "id": "dd4f1db7",
   "metadata": {},
   "source": [
    "**13. 다음 코드는 변수 a와 b의 숫자를 비교하여 숫자와 자릿수가 같으면 'strike', 숫자는 서로 포함하나 자릿수가 다르면 'ball'로 카운트하는 프로그램이다. 다음 프로그램의 실행 결과를 쓰시오. 또한, 결과값이 맞지 않는 이유를 쓰고, 올바른 결과값이 나오도록 코드를 수정하시오.**"
   ]
  },
  {
   "cell_type": "code",
   "execution_count": 30,
   "id": "7b8ee398",
   "metadata": {},
   "outputs": [
    {
     "name": "stdout",
     "output_type": "stream",
     "text": [
      "Strike: 0 Ball: 3\n"
     ]
    }
   ],
   "source": [
    "a = \"369\"\n",
    "b = \"693\"\n",
    "\n",
    "strike = 0\n",
    "ball = 0\n",
    "\n",
    "for number in a:\n",
    "    if b.count(number) >= 1: # > 1\n",
    "        if b.find(number) == a.find(number):\n",
    "            strike  += 1 # != 1\n",
    "        else:\n",
    "            ball += 1\n",
    "\n",
    "print(\"Strike:\", strike, \"Ball:\", ball)"
   ]
  },
  {
   "cell_type": "markdown",
   "id": "2ce0358b",
   "metadata": {},
   "source": [
    "a와 b를 비교했을 때, 숫자와 자릿수가 같으면 strike, 같은 숫자는 포함하나 그 자릿수가 다르면 ball로 카운트\\\n",
    "a와 b는 각각 문자열형으로 369, 693을 저장\\\n",
    "strike와 ball에는 0의 값으로 초기화\\\n",
    "문자열 a의 문자요소 하나씩을 반복. 3 -> 6 -> 9\\\n",
    "가장 먼저 if문에 count()함수를 사용하여 b에 a의 해당 요소가 있는지를 확인\\\n",
    "해당 요소가 있는 경우는 1 이상이기만 하면 되므로 > 1이 아니라 >= 1로 바꾸어줘야함\\\n",
    "1이상의 값이 반환된 경우(b에 a의 해당 요소가 있는 경우), find()함수를 이용해서 둘의 자릿수가 같은지 확인\\\n",
    "여기서 숫자와 자릿수가 같다면 strike이므로 !=가 아니라 == 이어야함!"
   ]
  },
  {
   "cell_type": "markdown",
   "id": "a48c66f4",
   "metadata": {},
   "source": [
    "**14. 다음과 같이 코드를 작성했을 때, 실행 결과로 알맞은 것은?**"
   ]
  },
  {
   "cell_type": "code",
   "execution_count": 21,
   "id": "ff87ae9d",
   "metadata": {},
   "outputs": [
    {
     "name": "stdout",
     "output_type": "stream",
     "text": [
      "6\n"
     ]
    }
   ],
   "source": [
    "list_data_a = [1, 2]\n",
    "list_data_b = [3, 4]\n",
    "\n",
    "for i in list_data_a:\n",
    "    for j in list_data_b:\n",
    "        result = i + j\n",
    "print(result)"
   ]
  },
  {
   "cell_type": "markdown",
   "id": "f8438183",
   "metadata": {},
   "source": [
    "i는 list_data_a의 요소인 1, 2가 올 것\\\n",
    "j는 list_data_b의 요소인 3, 4가 올 것\\\n",
    "result에는 먼저 1과 3이 더해진 4, 1과 4가 더해진 5,\\\n",
    "2와 3이 더해진 5, 2와 4가 더해진 6이 올 것\\\n",
    "그러나 result는 리스트가 아니라 그냥 하나의 값을 갖는 변수라 마지막 6만 result값이 되어 반복문이 종료됨\\\n",
    "그러므로 답은 6"
   ]
  },
  {
   "cell_type": "markdown",
   "id": "f5802d18",
   "metadata": {},
   "source": [
    "**15. 다음과 같이 코드를 작성했을 때, 실행 결과로 알맞은 것은?**"
   ]
  },
  {
   "cell_type": "markdown",
   "id": "1c6c1343",
   "metadata": {},
   "source": [
    "1번. [1, 2, 3, 4, 5, 6]"
   ]
  },
  {
   "cell_type": "code",
   "execution_count": 20,
   "id": "d3ed90a9",
   "metadata": {},
   "outputs": [
    {
     "name": "stdout",
     "output_type": "stream",
     "text": [
      "[1, 2, 3, 4, 5, 6]\n"
     ]
    }
   ],
   "source": [
    "list_1 = [[1, 2], [3], [4, 5, 6]]\n",
    "a, b, c = list_1\n",
    "list_2 = a + b + c\n",
    "\n",
    "print(list_2)"
   ]
  },
  {
   "cell_type": "markdown",
   "id": "e0a075b1",
   "metadata": {},
   "source": [
    "중첩 리스트 list_1을 a, b, c로 언패킹했다가 다시 리스트 덧셈연산을 이용하여 list_2라는 하나의 새로운 리스트로 만들어 줌."
   ]
  }
 ],
 "metadata": {
  "kernelspec": {
   "display_name": "Python 3 (ipykernel)",
   "language": "python",
   "name": "python3"
  },
  "language_info": {
   "codemirror_mode": {
    "name": "ipython",
    "version": 3
   },
   "file_extension": ".py",
   "mimetype": "text/x-python",
   "name": "python",
   "nbconvert_exporter": "python",
   "pygments_lexer": "ipython3",
   "version": "3.9.6"
  }
 },
 "nbformat": 4,
 "nbformat_minor": 5
}
