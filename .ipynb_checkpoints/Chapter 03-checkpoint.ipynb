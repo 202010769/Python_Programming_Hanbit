{
 "cells": [
  {
   "cell_type": "markdown",
   "id": "cd9c35a8",
   "metadata": {},
   "source": [
    "# Chapter 03. 화면 입출력과 리스트"
   ]
  },
  {
   "cell_type": "markdown",
   "id": "52ce35bb",
   "metadata": {},
   "source": [
    "## 01. 파이썬 프로그래밍 환경"
   ]
  },
  {
   "cell_type": "markdown",
   "id": "558f40f2",
   "metadata": {},
   "source": [
    "### <1> 사용자 인터페이스 "
   ]
  },
  {
   "cell_type": "markdown",
   "id": "c3eaebc6",
   "metadata": {},
   "source": [
    "사용자 인터페이스(user interface): 컴퓨터에 명령을 입력할 때 사용하는 환경\n",
    "\n",
    "GUI(Grapihical User Interface): 대표적인 사용자 인터페이스"
   ]
  },
  {
   "cell_type": "markdown",
   "id": "1262f7d8",
   "metadata": {},
   "source": [
    "### <2> CLI 환경"
   ]
  },
  {
   "cell_type": "markdown",
   "id": "2d5e69d5",
   "metadata": {},
   "source": [
    "## 02. 화면 입출력 "
   ]
  },
  {
   "cell_type": "markdown",
   "id": "84ac7577",
   "metadata": {},
   "source": [
    "### <1> 표준 입력 함수 : input() 함수 "
   ]
  },
  {
   "cell_type": "markdown",
   "id": "5dacb663",
   "metadata": {},
   "source": [
    "### <2> 표준 출력 함수 : print() 함수"
   ]
  },
  {
   "cell_type": "markdown",
   "id": "8e63cf79",
   "metadata": {},
   "source": [
    "### <3> 파일 입출력 정리"
   ]
  },
  {
   "cell_type": "markdown",
   "id": "196c0d92",
   "metadata": {},
   "source": [
    "## 03. Lab : 화씨온도 변환기"
   ]
  },
  {
   "cell_type": "markdown",
   "id": "82f968fa",
   "metadata": {},
   "source": [
    "### <1> 실습 내용"
   ]
  },
  {
   "cell_type": "markdown",
   "id": "6fcafc37",
   "metadata": {},
   "source": [
    "### <2> 실행 결과 "
   ]
  },
  {
   "cell_type": "markdown",
   "id": "65103c89",
   "metadata": {},
   "source": [
    "### <3> 문제 해결 "
   ]
  },
  {
   "cell_type": "markdown",
   "id": "f316946c",
   "metadata": {},
   "source": [
    "## 04. 리스트의 이해"
   ]
  },
  {
   "cell_type": "markdown",
   "id": "2e6d8e30",
   "metadata": {},
   "source": [
    "### <1> 리스트가 필요한 이유"
   ]
  },
  {
   "cell_type": "markdown",
   "id": "53efe923",
   "metadata": {},
   "source": [
    "### <2> 리스트의 개념"
   ]
  },
  {
   "cell_type": "markdown",
   "id": "20ea19ed",
   "metadata": {},
   "source": [
    "### <3> 인덱싱과 슬라이싱"
   ]
  },
  {
   "cell_type": "markdown",
   "id": "fb642f12",
   "metadata": {},
   "source": [
    "### <4> 리스트의 연산"
   ]
  },
  {
   "cell_type": "markdown",
   "id": "13c69ee5",
   "metadata": {},
   "source": [
    "### <5> 리스트 추가 및 삭제 "
   ]
  },
  {
   "cell_type": "markdown",
   "id": "fa0fd1d5",
   "metadata": {},
   "source": [
    "### <6> 패킹과 언패킹"
   ]
  },
  {
   "cell_type": "markdown",
   "id": "3ce0184a",
   "metadata": {},
   "source": [
    "### <7> 이차원 리스트"
   ]
  },
  {
   "cell_type": "markdown",
   "id": "113da6f9",
   "metadata": {},
   "source": [
    "## 05. 리스트의 메모리 관리 방식 "
   ]
  },
  {
   "cell_type": "markdown",
   "id": "34546fdf",
   "metadata": {},
   "source": [
    "### <1> 리스트의 메모리 저장 "
   ]
  },
  {
   "cell_type": "markdown",
   "id": "9107343c",
   "metadata": {},
   "source": [
    "### <2> 메모리 저장 구조로 인한 리스트의 특징 "
   ]
  },
  {
   "cell_type": "markdown",
   "id": "bcbcd7c6",
   "metadata": {},
   "source": [
    "## 요약 "
   ]
  },
  {
   "cell_type": "markdown",
   "id": "47c1ce47",
   "metadata": {},
   "source": [
    "## 연습문제"
   ]
  }
 ],
 "metadata": {
  "kernelspec": {
   "display_name": "Python 3 (ipykernel)",
   "language": "python",
   "name": "python3"
  },
  "language_info": {
   "codemirror_mode": {
    "name": "ipython",
    "version": 3
   },
   "file_extension": ".py",
   "mimetype": "text/x-python",
   "name": "python",
   "nbconvert_exporter": "python",
   "pygments_lexer": "ipython3",
   "version": "3.9.6"
  }
 },
 "nbformat": 4,
 "nbformat_minor": 5
}
