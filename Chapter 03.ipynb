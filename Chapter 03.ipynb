{
 "cells": [
  {
   "cell_type": "markdown",
   "id": "cd9c35a8",
   "metadata": {},
   "source": [
    "# Chapter 03. 화면 입출력과 리스트"
   ]
  },
  {
   "cell_type": "markdown",
   "id": "52ce35bb",
   "metadata": {},
   "source": [
    "## 01. 파이썬 프로그래밍 환경"
   ]
  },
  {
   "cell_type": "markdown",
   "id": "558f40f2",
   "metadata": {},
   "source": [
    "### <1> 사용자 인터페이스 "
   ]
  },
  {
   "cell_type": "markdown",
   "id": "c3eaebc6",
   "metadata": {},
   "source": [
    "**사용자 인터페이스(user interface)**\n",
    "\n",
    "- 컴퓨터에 명령을 입력할 때 사용하는 환경\n",
    "\n",
    "**GUI(Grapihical User Interface)**\n",
    "\n",
    "- 대표적인 사용자 인터페이스\n",
    "\n",
    "- 마우스와 아이콘 등의 많은 도구가 사용됨\n",
    "\n",
    "- GUI 환경에서 아이콘을 하나 클릭하면 그에 대한 명령이 실행됨\n",
    "\n",
    "- GUI는 1995년 마이크로소프트(Microsoft)에서 윈도 95(Windows 95)를 출시하면서부터 대중화됨"
   ]
  },
  {
   "cell_type": "markdown",
   "id": "b9ccac9b",
   "metadata": {},
   "source": [
    "이전까지 컴퓨터 사용자 대부분은 MS-DOS와 같은 CLI 환경을 사용했음\n",
    "\n",
    "**CLI(Command Line Interface)**\n",
    "\n",
    "- 마우스의 클릭이 아닌 키보드만으로 명령을 입력하는 환경"
   ]
  },
  {
   "cell_type": "markdown",
   "id": "1262f7d8",
   "metadata": {},
   "source": [
    "### <2> CLI 환경"
   ]
  },
  {
   "cell_type": "markdown",
   "id": "ddf90b9b",
   "metadata": {},
   "source": [
    "CLI 기반으로 컴퓨터에 데이터를 입력한다\n",
    "\n",
    "= 키보드를 사용하여 텍스트를 입력하면, 이 입력값이 작성한 프로그램에 의해 가공된다\n",
    "\n",
    "파이썬을 설치하면서 사용한 cmd 창, 즉 명령어 창(command window)은 Windows에서 제공하는 대표적인 CLI 환경"
   ]
  },
  {
   "cell_type": "markdown",
   "id": "e5d2130b",
   "metadata": {},
   "source": [
    "CLI 환경의 다양한 이름\n",
    "\n",
    "- 일반적으로는 콘솔(console)\n",
    "\n",
    "- Windows에서는 명령어창(command window)\n",
    "\n",
    "- 리눅스와 맥에서는 터미널(terminal)"
   ]
  },
  {
   "cell_type": "markdown",
   "id": "2d5e69d5",
   "metadata": {},
   "source": [
    "## 02. 화면 입출력 "
   ]
  },
  {
   "cell_type": "markdown",
   "id": "84ac7577",
   "metadata": {},
   "source": [
    "### <1> 표준 입력 함수 : input() 함수 "
   ]
  },
  {
   "cell_type": "markdown",
   "id": "de048dbc",
   "metadata": {},
   "source": [
    "**input() 함수**\n",
    "\n",
    "- 파이썬에서 콘솔 창의 입력을 받기 위해 제공하는 표준 입력 함수\n",
    "\n",
    "- 사용자가 문자열을 콘솔 창에 입력할 수 있게 해줌"
   ]
  },
  {
   "cell_type": "code",
   "execution_count": 1,
   "id": "1f09ae06",
   "metadata": {},
   "outputs": [
    {
     "name": "stdout",
     "output_type": "stream",
     "text": [
      "Enter your name:\n",
      "youjin\n",
      "Hi youjin How are you today?\n"
     ]
    }
   ],
   "source": [
    "# input.py\n",
    "print(\"Enter your name:\")\n",
    "somebody = input()\n",
    "print(\"Hi\", somebody, \"How are you today?\")"
   ]
  },
  {
   "cell_type": "markdown",
   "id": "5dacb663",
   "metadata": {},
   "source": [
    "### <2> 표준 출력 함수 : print() 함수"
   ]
  },
  {
   "cell_type": "markdown",
   "id": "4e1ada89",
   "metadata": {},
   "source": [
    "**print() 함수**\n",
    "\n",
    "- 파이썬에서 출력을 하기 위해 제공하는 표준 출력 함수"
   ]
  },
  {
   "cell_type": "code",
   "execution_count": 2,
   "id": "43898904",
   "metadata": {},
   "outputs": [
    {
     "name": "stdout",
     "output_type": "stream",
     "text": [
      "Hello World! Hello Again!!!\n"
     ]
    }
   ],
   "source": [
    "print(\"Hello World!\", \"Hello Again!!!\")"
   ]
  },
  {
   "cell_type": "markdown",
   "id": "28e58576",
   "metadata": {},
   "source": [
    "**콤마(,)**\n",
    "\n",
    "- 여러 값을 연결해 화면에 출력 가능\n",
    "\n",
    "- 콤마(,) 대신, + 기호를 문자형 간에 연결해 출력 가능\n",
    "\n",
    "- + 기호를 이용할 경우는 자료형이 모두 문자형이어야 하나, 콤마의 경우는 변수의 자료형과 관계없이 출력할 수 있음 "
   ]
  },
  {
   "cell_type": "markdown",
   "id": "90fa9a62",
   "metadata": {},
   "source": [
    "input() 함수를 사용하기 전, 지시문을 먼저 출력하지 않고, input 함수에 바로 지시문을 넣을 수 있음"
   ]
  },
  {
   "cell_type": "code",
   "execution_count": 3,
   "id": "8ada577d",
   "metadata": {},
   "outputs": [
    {
     "name": "stdout",
     "output_type": "stream",
     "text": [
      "온도를 입력하세요: 103\n",
      "103.0\n"
     ]
    }
   ],
   "source": [
    "# print.py\n",
    "temperature = float(input(\"온도를 입력하세요: \")) # 입력 시 바로 형 변환\n",
    "print(temperature)"
   ]
  },
  {
   "cell_type": "markdown",
   "id": "4aee98c1",
   "metadata": {},
   "source": [
    "input() 함수가 값을 입력받으면 그 값의 자료형은 문자형이 된다는 것 유의"
   ]
  },
  {
   "cell_type": "markdown",
   "id": "8e63cf79",
   "metadata": {},
   "source": [
    "### <3> 파일 입출력 정리"
   ]
  },
  {
   "cell_type": "markdown",
   "id": "765c31c5",
   "metadata": {},
   "source": [
    "파이썬의 태생적 근원이 스크립트 언어로서의 강력함에 있다보니 GUI 프로그램보다는 콘솔 환경에서 많이 사용하는 프로그램인 CLI 기반의 프로그램을 주로 작성하게 된다.\n",
    "\n",
    "CLI 기반 프로그램은 데이터 과학분야 등 쓰임이 다양함"
   ]
  },
  {
   "cell_type": "markdown",
   "id": "196c0d92",
   "metadata": {},
   "source": [
    "## 03. Lab : 화씨온도 변환기"
   ]
  },
  {
   "cell_type": "markdown",
   "id": "82f968fa",
   "metadata": {},
   "source": [
    "### <1> 실습 내용"
   ]
  },
  {
   "cell_type": "markdown",
   "id": "6fcafc37",
   "metadata": {},
   "source": [
    "### <2> 실행 결과 "
   ]
  },
  {
   "cell_type": "markdown",
   "id": "65103c89",
   "metadata": {},
   "source": [
    "### <3> 문제 해결 "
   ]
  },
  {
   "cell_type": "markdown",
   "id": "f316946c",
   "metadata": {},
   "source": [
    "## 04. 리스트의 이해"
   ]
  },
  {
   "cell_type": "markdown",
   "id": "2e6d8e30",
   "metadata": {},
   "source": [
    "### <1> 리스트가 필요한 이유"
   ]
  },
  {
   "cell_type": "markdown",
   "id": "53efe923",
   "metadata": {},
   "source": [
    "### <2> 리스트의 개념"
   ]
  },
  {
   "cell_type": "markdown",
   "id": "20ea19ed",
   "metadata": {},
   "source": [
    "### <3> 인덱싱과 슬라이싱"
   ]
  },
  {
   "cell_type": "markdown",
   "id": "fb642f12",
   "metadata": {},
   "source": [
    "### <4> 리스트의 연산"
   ]
  },
  {
   "cell_type": "markdown",
   "id": "13c69ee5",
   "metadata": {},
   "source": [
    "### <5> 리스트 추가 및 삭제 "
   ]
  },
  {
   "cell_type": "markdown",
   "id": "fa0fd1d5",
   "metadata": {},
   "source": [
    "### <6> 패킹과 언패킹"
   ]
  },
  {
   "cell_type": "markdown",
   "id": "3ce0184a",
   "metadata": {},
   "source": [
    "### <7> 이차원 리스트"
   ]
  },
  {
   "cell_type": "markdown",
   "id": "113da6f9",
   "metadata": {},
   "source": [
    "## 05. 리스트의 메모리 관리 방식 "
   ]
  },
  {
   "cell_type": "markdown",
   "id": "34546fdf",
   "metadata": {},
   "source": [
    "### <1> 리스트의 메모리 저장 "
   ]
  },
  {
   "cell_type": "markdown",
   "id": "9107343c",
   "metadata": {},
   "source": [
    "### <2> 메모리 저장 구조로 인한 리스트의 특징 "
   ]
  },
  {
   "cell_type": "markdown",
   "id": "bcbcd7c6",
   "metadata": {},
   "source": [
    "## 요약 "
   ]
  },
  {
   "cell_type": "markdown",
   "id": "4e0f3e33",
   "metadata": {},
   "source": [
    "1. 컴퓨터에 명령을 입력할 때 사용하는 환경을 사용자 인터페이스(user interface)라고 한다."
   ]
  },
  {
   "cell_type": "markdown",
   "id": "a09dadd4",
   "metadata": {},
   "source": [
    "2. 사용자 인터페이스에는 GUI(Graphical User Interface)와 CLI(Command Line Interface)가 있다. 일반적으로 GUI 환경에서는 아이콘을 하나 클릭하면 그에 대한 명령이 실행된다. CLI는 마우스의 클릭이 아닌 키보드만으로 명령을 입력하는 환경이다."
   ]
  },
  {
   "cell_type": "markdown",
   "id": "47c1ce47",
   "metadata": {},
   "source": [
    "## 연습문제"
   ]
  },
  {
   "cell_type": "markdown",
   "id": "78f6eccb",
   "metadata": {},
   "source": [
    "**1. 다음 코드의 실행 결과를 쓰시오.**"
   ]
  },
  {
   "cell_type": "code",
   "execution_count": 4,
   "id": "938bd6e1",
   "metadata": {},
   "outputs": [
    {
     "name": "stdout",
     "output_type": "stream",
     "text": [
      "[0, 1, 2] [0, 1]\n"
     ]
    }
   ],
   "source": [
    "a = [0, 1, 2, 3, 4]\n",
    "print(a[:3], a[:-3])"
   ]
  },
  {
   "cell_type": "markdown",
   "id": "580a0b5f",
   "metadata": {},
   "source": [
    "a[0] = 0, a[1] = 1, a[2] = 2, a[3] = 3, a[4] = 4\n",
    "\n",
    "a[:3] = a[0 ~ 2] = [0, 1, 2] -> 슬라이싱\n",
    "\n",
    "a[-5] = 0, a[-4] = 1, a[-3] = 2, a[-2] = 3, a[-1] = 4 \n",
    "\n",
    "a[:-3] = a[-5 ~ -4] = [0, 1] -> 리버스 인덱스의 슬라이싱"
   ]
  },
  {
   "cell_type": "markdown",
   "id": "fe3c53be",
   "metadata": {},
   "source": [
    "**2. 다음 코드의 실행 결과를 쓰시오.**"
   ]
  },
  {
   "cell_type": "code",
   "execution_count": 5,
   "id": "6ccd94f9",
   "metadata": {},
   "outputs": [
    {
     "name": "stdout",
     "output_type": "stream",
     "text": [
      "[4, 3, 2, 1, 0]\n"
     ]
    }
   ],
   "source": [
    "a = [0, 1, 2, 3, 4]\n",
    "print(a[::-1])"
   ]
  },
  {
   "cell_type": "markdown",
   "id": "930bacbf",
   "metadata": {},
   "source": [
    "증가값 개념 이용\n",
    "\n",
    "-1 : 역방향으로 증가값이 실행. 마지막 값부터 시작하여 차례대로 결과가 화면에 출력\n",
    "\n",
    "변수명[시작 인덱스:마지막 인덱스:증가값]"
   ]
  },
  {
   "cell_type": "markdown",
   "id": "5ddf2a9d",
   "metadata": {},
   "source": [
    "**3. 다음 코드의 실행 결과를 쓰시오.**"
   ]
  },
  {
   "cell_type": "code",
   "execution_count": 9,
   "id": "ee6ef32b",
   "metadata": {},
   "outputs": [
    {
     "name": "stdout",
     "output_type": "stream",
     "text": [
      "[['egg', 'salad', 'bread'], ['lamb', 'chicken'], ['apple']]\n"
     ]
    }
   ],
   "source": [
    "first = [\"egg\", \"salad\", \"bread\", \"soup\", \"canafe\"]\n",
    "second = [\"fish\", \"lamb\", \"pork\", \"beef\", \"chicken\"]\n",
    "third = [\"apple\", \"banana\", \"orange\", \"grape\", \"mango\"]\n",
    "\n",
    "order = [first, second, third]\n",
    "john = [order[0][:-2], second[1::3], third[0]]\n",
    "del john[2]\n",
    "john.extend([order[2][0:1]])\n",
    "print(john)"
   ]
  },
  {
   "cell_type": "markdown",
   "id": "dcf9bf53",
   "metadata": {},
   "source": [
    "order는 중첩 리스트. first, second, third의 주소를 가리킴\n",
    "\n",
    "order[0]는 리스트 first. first[:-2]는 [\"egg\", \"salad\", \"bread\"]\n",
    "\n",
    "second[1::3]은 [\"fish\", \"beef\"]\n",
    "\n",
    "third[0]은 \"apple\"\n",
    "\n",
    "john = [[\"egg\", \"salad\", \"bread\"], [\"fish\", \"beef\"], \"apple\"]\n",
    "\n",
    "del john[2] -> [[\"egg\", \"salad\", \"bread\"], [\"fish\", \"beef\"]]\n",
    "\n",
    "[order[2][0:1]]는 [third[0:1]], [\"apple\"]\n",
    "\n",
    "john은 [[\"egg\", \"salad\", \"bread\"], [\"fish\", \"beef\"], [\"apple\"]]"
   ]
  },
  {
   "cell_type": "markdown",
   "id": "558cd236",
   "metadata": {},
   "source": [
    "**4. 다음 코드의 실행 결과를 쓰시오.**"
   ]
  },
  {
   "cell_type": "code",
   "execution_count": 14,
   "id": "f742d9bd",
   "metadata": {},
   "outputs": [
    {
     "name": "stdout",
     "output_type": "stream",
     "text": [
      "[1, 2, 3, 4] None\n"
     ]
    }
   ],
   "source": [
    "list_a = [3, 2, 1, 4]\n",
    "list_b = list_a.sort()\n",
    "print(list_a, list_b)"
   ]
  },
  {
   "cell_type": "markdown",
   "id": "e4ebe80d",
   "metadata": {},
   "source": [
    "list_a = [3, 2, 1, 4]\n",
    "\n",
    "list_a.sort() -> list_a =  [1, 2, 3, 4]\n",
    "\n",
    "https://docs.python.org/ko/3/howto/sorting.html\n",
    "\n",
    "sort() 함수는 리스트를 제자리에서 수정함. 수정된 새로운 변수가 만들어지는 것이 아니라, 기존 변수가 수정되는 것.\n",
    "\n",
    "따라서 리턴값은 None임\n",
    "\n",
    "그러나 sorted() 함수의 경우는 수정된 값을 새 변수에 할당 가능함\n",
    "\n",
    "그러므로 이 문제에서는 list_a 만 그 값이 정렬되고, list_b에는 None값이 들어감\n",
    "\n",
    "[1, 2, 3, 4] None"
   ]
  },
  {
   "cell_type": "markdown",
   "id": "1fdd0e0c",
   "metadata": {},
   "source": [
    "**5. 다음 코드의 실행 결과를 쓰시오.**"
   ]
  },
  {
   "cell_type": "code",
   "execution_count": 35,
   "id": "3d4be869",
   "metadata": {},
   "outputs": [
    {
     "name": "stdout",
     "output_type": "stream",
     "text": [
      "None\n"
     ]
    }
   ],
   "source": [
    "a = [5, 7, 3]\n",
    "b = [3, 9, 1]\n",
    "c = a + b\n",
    "c = c.sort()\n",
    "print(c)"
   ]
  },
  {
   "cell_type": "markdown",
   "id": "9ef18e02",
   "metadata": {},
   "source": [
    "c = a + b = [5, 7, 3, 3, 9, 1]\n",
    "\n",
    "c.sort() -> [1, 3, 3, 5, 7, 9]\n",
    "\n",
    "그러나 여기서는 c.sort()를 이용해서 c의 값을 재할당해줌\n",
    "\n",
    "c.sort()는 None 값을 리턴\n",
    "\n",
    "만약 정렬된 원래의 c값을 출력하고 싶었다면, sorted()함수를 사용하거나, c.sort()를 한 다음, 다음 줄에 c를 출력해주어야했음"
   ]
  },
  {
   "cell_type": "code",
   "execution_count": 41,
   "id": "123c77ae",
   "metadata": {},
   "outputs": [
    {
     "name": "stdout",
     "output_type": "stream",
     "text": [
      "[1, 3, 3, 5, 7, 9]\n"
     ]
    }
   ],
   "source": [
    "a = [5, 7, 3]\n",
    "b = [3, 9, 1]\n",
    "c = a + b\n",
    "c = sorted(c)\n",
    "print(c)"
   ]
  },
  {
   "cell_type": "code",
   "execution_count": 38,
   "id": "a238fc46",
   "metadata": {},
   "outputs": [
    {
     "name": "stdout",
     "output_type": "stream",
     "text": [
      "[1, 3, 3, 5, 7, 9]\n"
     ]
    }
   ],
   "source": [
    "a = [5, 7, 3]\n",
    "b = [3, 9, 1]\n",
    "c = a + b\n",
    "c.sort()\n",
    "print(c)"
   ]
  },
  {
   "cell_type": "markdown",
   "id": "a58324d8",
   "metadata": {},
   "source": [
    "**6. GUI와 CLI의 설명으로 틀린 것은?**"
   ]
  },
  {
   "cell_type": "markdown",
   "id": "800880e0",
   "metadata": {},
   "source": [
    "(1) GUI는 Graphical User Interface의 약자이다. -> O\n",
    "\n",
    "(2) GUI는 마우스로 아이콘을 클릭하며 프로그램을 작동시키는 컴퓨팅 환경을 말한다. -> O\n",
    "\n",
    "(3) CLI는 Command Line Interface의 약자이다. -> O\n",
    "\n",
    "(4) CLI는 텍스트를 사용하여 컴퓨터에 명령을 입력하는 인터페이스 체계를 말한다. -> O\n",
    "\n",
    "(5) CLI는 윈도에서는 불가능하고, 맥 또는 리눅스에서만 터미널로 작동한다 -> X. 윈도에서도 명령어 창(command window)으로 작동 가능"
   ]
  },
  {
   "cell_type": "markdown",
   "id": "54bddafa",
   "metadata": {},
   "source": [
    "**7. 다음 코드의 실행 결과를 쓰시오.**"
   ]
  },
  {
   "cell_type": "code",
   "execution_count": 22,
   "id": "0e0d776d",
   "metadata": {},
   "outputs": [
    {
     "name": "stdout",
     "output_type": "stream",
     "text": [
      "['orange', 'strawberry', 'melon'] ['banana', 'orange']\n"
     ]
    }
   ],
   "source": [
    "fruits = ['apple', 'banana', 'cherry', 'grape', 'orange', 'strawberry', 'melon']\n",
    "print(fruits[-3:], fruits[1::3])"
   ]
  },
  {
   "cell_type": "markdown",
   "id": "1dcf3634",
   "metadata": {},
   "source": [
    "fruits[-3:] = ['orange', 'strawberry', 'melon'] -> 리버스 인덱스의 슬라이싱 -3, -2, -1\n",
    "\n",
    "fruits[1::3] = ['banana', 'orange'] -> 1번 인덱스 값부터 3의 증가값을 가지고 슬라이싱"
   ]
  },
  {
   "cell_type": "markdown",
   "id": "8186bb08",
   "metadata": {},
   "source": [
    "**8. 다음 코드의 실행 결과를 쓰시오.**"
   ]
  },
  {
   "cell_type": "code",
   "execution_count": 23,
   "id": "a606728b",
   "metadata": {},
   "outputs": [
    {
     "name": "stdout",
     "output_type": "stream",
     "text": [
      "[1, 2, 3, 4, 1, 2, 3, 4]\n"
     ]
    }
   ],
   "source": [
    "num = [1, 2, 3, 4]\n",
    "print(num * 2)"
   ]
  },
  {
   "cell_type": "markdown",
   "id": "82367d82",
   "metadata": {},
   "source": [
    "[1, 2, 3, 4, 1, 2, 3, 4] -> 리스트의 곱셈 연산"
   ]
  },
  {
   "cell_type": "markdown",
   "id": "1835e821",
   "metadata": {},
   "source": [
    "**9. 다음 코드의 실행 결과를 쓰시오.**"
   ]
  },
  {
   "cell_type": "code",
   "execution_count": 20,
   "id": "ff957e0a",
   "metadata": {},
   "outputs": [
    {
     "name": "stdout",
     "output_type": "stream",
     "text": [
      "False 6\n"
     ]
    }
   ],
   "source": [
    "a = [1, 2, 3, 5]\n",
    "b = ['a', 'b', 'c', 'd', 'e']\n",
    "\n",
    "a.append('g')\n",
    "b.append(6)\n",
    "print('g' in b, len(b))"
   ]
  },
  {
   "cell_type": "markdown",
   "id": "bf87c63a",
   "metadata": {},
   "source": [
    "a.append('g')\n",
    "\n",
    "-> [1, 2, 3, 5, 'g']\n",
    "\n",
    "b.append(6)\n",
    "\n",
    "-> ['a', 'b', 'c', 'd', 'e', 6]\n",
    "\n",
    "'g' in b -> False\n",
    "\n",
    "len(b) -> 6"
   ]
  },
  {
   "cell_type": "markdown",
   "id": "6868bd6f",
   "metadata": {},
   "source": [
    "**10. 다음과 같이 코드를 작성했을 때, 실행 결과로 알맞은 것은?**"
   ]
  },
  {
   "cell_type": "markdown",
   "id": "5fa1e75d",
   "metadata": {},
   "source": [
    "-> 3번 ['Hankook', 'is', 'academic', 'located', 'South Korea']"
   ]
  },
  {
   "cell_type": "code",
   "execution_count": 24,
   "id": "eb3cce29",
   "metadata": {},
   "outputs": [
    {
     "name": "stdout",
     "output_type": "stream",
     "text": [
      "['Hankook', 'is', 'academic', 'located', 'South Korea']\n"
     ]
    }
   ],
   "source": [
    "list_a = ['Hankook', 'University', 'is', 'an', 'academic', 'institute', 'located', 'in', 'South Korea']\n",
    "list_b = []\n",
    "for i in range(len(list_a)):\n",
    "    if i % 2 != 1:\n",
    "        list_b.append(list_a[i])\n",
    "print(list_b)"
   ]
  },
  {
   "cell_type": "markdown",
   "id": "dada2e05",
   "metadata": {},
   "source": [
    "len(list_a) = 9\n",
    "\n",
    "if i % 2 != 1 -> i가 0이거나, 짝수일 때만\n",
    "\n",
    "list_b.append(list_a[i]) -> list_a의 i번 인덱스 값을 list_b에 append함\n",
    "\n",
    "list_b = ['Hankook', 'is', 'academic', 'located', 'South Korea']"
   ]
  },
  {
   "cell_type": "markdown",
   "id": "15b461fa",
   "metadata": {},
   "source": [
    "**11. 다음 코드를 실행한 후, 2018과 \"2018\"을 각각 입력했을 경우 알맞은 실행 결과끼리 묶인 것은?**"
   ]
  },
  {
   "cell_type": "markdown",
   "id": "bc584e04",
   "metadata": {},
   "source": [
    "-> 3번 <class 'str>, <class 'str>"
   ]
  },
  {
   "cell_type": "code",
   "execution_count": 27,
   "id": "7fd6e8dc",
   "metadata": {},
   "outputs": [
    {
     "name": "stdout",
     "output_type": "stream",
     "text": [
      "입학 연도를 입력하세요: 2018\n",
      "<class 'str'>\n"
     ]
    }
   ],
   "source": [
    "admission_year = input(\"입학 연도를 입력하세요: \")\n",
    "print(type(admission_year))"
   ]
  },
  {
   "cell_type": "code",
   "execution_count": 26,
   "id": "aeefa6c2",
   "metadata": {},
   "outputs": [
    {
     "name": "stdout",
     "output_type": "stream",
     "text": [
      "입학 연도를 입력하세요: \"2018\"\n",
      "<class 'str'>\n"
     ]
    }
   ],
   "source": [
    "admission_year = input(\"입학 연도를 입력하세요: \")\n",
    "print(type(admission_year))"
   ]
  },
  {
   "cell_type": "markdown",
   "id": "a24486a0",
   "metadata": {},
   "source": [
    "input은 기본적으로 값을 문자형으로 입력받음\n",
    "\n",
    "고로, 2018로 입력하던, \"2018\"로 입력하던 둘 다 str형임\n",
    "\n",
    "만약 정수형 2018 값을 원한다면, int() 함수를 이용해주어야 함"
   ]
  },
  {
   "cell_type": "markdown",
   "id": "e11f25ae",
   "metadata": {},
   "source": [
    "**12. 다음 코드의 실행 결과를 쓰시오.**"
   ]
  },
  {
   "cell_type": "code",
   "execution_count": 29,
   "id": "84f6c0df",
   "metadata": {},
   "outputs": [
    {
     "name": "stdout",
     "output_type": "stream",
     "text": [
      "['Korea', 'Japan', 'China', ['Seoul', [2, 3], 'Beijing']]\n"
     ]
    }
   ],
   "source": [
    "country = [\"Korea\", \"Japan\", \"China\"]\n",
    "capital = [\"Seoul\", \"Tokyo\", \"Beijing\"]\n",
    "index = [1, 2, 3]\n",
    "country.append(capital)\n",
    "country[3][1] = index[1:]\n",
    "print(country)"
   ]
  },
  {
   "cell_type": "markdown",
   "id": "4a4a8477",
   "metadata": {},
   "source": [
    "country.append(capital)\n",
    "\n",
    "-> country = ['korea', 'Japan', 'China', ['Seoul', 'Tokyo', 'Beijing']\n",
    "\n",
    "index[1:] -> [2, 3]\n",
    "\n",
    "country[3] = ['Seoul', 'Tokyo', 'Beijing']\n",
    "\n",
    "country[3][1] = 'Tokyo'\n",
    "\n",
    "country = ['korea', 'Japan', 'China', ['Seoul', [2, 3], 'Beijing']"
   ]
  },
  {
   "cell_type": "markdown",
   "id": "4f4ae84b",
   "metadata": {},
   "source": [
    "**13. 다음 코드의 실행 결과가 나오도록 빈칸에 알맞은 코드를 쓰시오.**"
   ]
  },
  {
   "cell_type": "code",
   "execution_count": 30,
   "id": "ce84652a",
   "metadata": {},
   "outputs": [
    {
     "name": "stdout",
     "output_type": "stream",
     "text": [
      "['Thu', 'Fri']\n"
     ]
    }
   ],
   "source": [
    "week1 = [\"Mon\", \"Tue\", \"Wed\"]\n",
    "week2 = [\"Thu\", \"Fri\", \"Sat\", \"Sun\"]\n",
    "week3 = [\"1\"]\n",
    "print(week2[:len(week3) + 1])\n",
    "# ['Thu', 'Fri']"
   ]
  },
  {
   "cell_type": "markdown",
   "id": "3d97afa7",
   "metadata": {},
   "source": [
    "week2[:len(week3) + 1]이 ['Thu', 'Fri']이려면\n",
    "\n",
    "week2[:2]로 len(week3) + 1이 2여야 함.\n",
    "\n",
    "len(week3) = 1\n",
    "\n",
    "week3은 요소가 하나인 아무 리스트로나 초기화해주면 됨"
   ]
  },
  {
   "cell_type": "markdown",
   "id": "90a43c41",
   "metadata": {},
   "source": [
    "**14. 다음 코드를 실행하면 다음과 같은 결과가 나온다. 그 이유에 대해 서술하시오.**"
   ]
  },
  {
   "cell_type": "code",
   "execution_count": 31,
   "id": "0c48ca54",
   "metadata": {},
   "outputs": [
    {
     "data": {
      "text/plain": [
       "True"
      ]
     },
     "execution_count": 31,
     "metadata": {},
     "output_type": "execute_result"
    }
   ],
   "source": [
    "a = 1\n",
    "b = 1\n",
    "a is b\n",
    "# True"
   ]
  },
  {
   "cell_type": "code",
   "execution_count": 32,
   "id": "18ecd0c4",
   "metadata": {},
   "outputs": [
    {
     "data": {
      "text/plain": [
       "False"
      ]
     },
     "execution_count": 32,
     "metadata": {},
     "output_type": "execute_result"
    }
   ],
   "source": [
    "a = 300\n",
    "b = 300\n",
    "a is b\n",
    "# False"
   ]
  },
  {
   "cell_type": "markdown",
   "id": "4696d681",
   "metadata": {},
   "source": [
    "Python은 -5~256 까지의 값은 임시 메모리에 저장해서 같은 메모리 영역을 참조. 그러나, 257을 넘어가는 정수 값 부터는 다른 메모리 영역에 저장됨."
   ]
  },
  {
   "cell_type": "markdown",
   "id": "140ddf08",
   "metadata": {},
   "source": [
    "**15. 다음과 같이 코드를 작성했을 때 예측되는 실행 결과를 쓰고, 이러한 결과가 나오는 이유에 대해 서술하시오.**"
   ]
  },
  {
   "cell_type": "code",
   "execution_count": 33,
   "id": "1e05ae82",
   "metadata": {},
   "outputs": [
    {
     "data": {
      "text/plain": [
       "True"
      ]
     },
     "execution_count": 33,
     "metadata": {},
     "output_type": "execute_result"
    }
   ],
   "source": [
    "a = [5, 4, 3, 2, 1]\n",
    "b = a\n",
    "c = [5, 4, 3, 2, 1]\n",
    "a is b"
   ]
  },
  {
   "cell_type": "markdown",
   "id": "9e2c3aac",
   "metadata": {},
   "source": [
    "-> True\n",
    "\n",
    "b는 b = a로 리스트 a의 주소를 가리키고 있음.\n",
    "\n",
    "is는 두 요소의 주소를 비교. 따라서 True"
   ]
  },
  {
   "cell_type": "code",
   "execution_count": 34,
   "id": "edca3138",
   "metadata": {},
   "outputs": [
    {
     "data": {
      "text/plain": [
       "False"
      ]
     },
     "execution_count": 34,
     "metadata": {},
     "output_type": "execute_result"
    }
   ],
   "source": [
    "a is c"
   ]
  },
  {
   "cell_type": "markdown",
   "id": "8623e169",
   "metadata": {},
   "source": [
    "-> False\n",
    "\n",
    "is는 두 요소의 주소를 비교.\n",
    "\n",
    "리스트 a와 c는 값은 같은 값을 가지나, 주소는 다름. 따라서 False"
   ]
  }
 ],
 "metadata": {
  "kernelspec": {
   "display_name": "Python 3 (ipykernel)",
   "language": "python",
   "name": "python3"
  },
  "language_info": {
   "codemirror_mode": {
    "name": "ipython",
    "version": 3
   },
   "file_extension": ".py",
   "mimetype": "text/x-python",
   "name": "python",
   "nbconvert_exporter": "python",
   "pygments_lexer": "ipython3",
   "version": "3.9.6"
  }
 },
 "nbformat": 4,
 "nbformat_minor": 5
}
