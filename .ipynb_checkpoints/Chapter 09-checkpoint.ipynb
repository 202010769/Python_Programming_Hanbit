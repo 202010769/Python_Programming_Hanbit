{
 "cells": [
  {
   "cell_type": "markdown",
   "id": "622b9a96",
   "metadata": {},
   "source": [
    "1. 다음 코드를 람다 함수 형태로 수정할 때, 알맞은 코드를 작성하시오. "
   ]
  },
  {
   "cell_type": "code",
   "execution_count": 8,
   "id": "25c78b8f",
   "metadata": {},
   "outputs": [],
   "source": [
    "def f(x, y):\n",
    "    return x ** y"
   ]
  },
  {
   "cell_type": "code",
   "execution_count": 9,
   "id": "25a4a0e0",
   "metadata": {},
   "outputs": [
    {
     "name": "stdout",
     "output_type": "stream",
     "text": [
      "1\n"
     ]
    }
   ],
   "source": [
    "print(f(1, 4))"
   ]
  },
  {
   "cell_type": "code",
   "execution_count": 10,
   "id": "e976cd88",
   "metadata": {},
   "outputs": [],
   "source": [
    "f = lambda x, y : x ** y"
   ]
  },
  {
   "cell_type": "code",
   "execution_count": 11,
   "id": "992619ab",
   "metadata": {},
   "outputs": [
    {
     "name": "stdout",
     "output_type": "stream",
     "text": [
      "1\n"
     ]
    }
   ],
   "source": [
    "print(f(1, 4))"
   ]
  },
  {
   "cell_type": "markdown",
   "id": "67b78c32",
   "metadata": {},
   "source": [
    "2. 다음과 같이 리스트 컴프리헨션으로 작성된 코드를 람다(lambda)함수와 map()함수를 사용하여 표현하시오."
   ]
  },
  {
   "cell_type": "code",
   "execution_count": 2,
   "id": "bc096bc8",
   "metadata": {},
   "outputs": [
    {
     "data": {
      "text/plain": [
       "[1, 4, 9, 16, 25]"
      ]
     },
     "execution_count": 2,
     "metadata": {},
     "output_type": "execute_result"
    }
   ],
   "source": [
    "ex = [1,2,3,4,5]\n",
    "[value ** 2 for value in ex]"
   ]
  },
  {
   "cell_type": "code",
   "execution_count": 15,
   "id": "9cbe8a6d",
   "metadata": {},
   "outputs": [
    {
     "name": "stdout",
     "output_type": "stream",
     "text": [
      "[1, 4, 9, 16, 25]\n"
     ]
    }
   ],
   "source": [
    "ex = [1,2,3,4,5]\n",
    "result = []\n",
    "f = lambda x : x ** 2\n",
    "for value in map(f, ex):\n",
    "    result.append(value)\n",
    "print(result)"
   ]
  },
  {
   "cell_type": "markdown",
   "id": "447fbe14",
   "metadata": {},
   "source": [
    "3. 팩토리얼(Factorial)을 계산하는 코드를 람다 함수와 reduce() 함수를 사용하여 표현하시오."
   ]
  },
  {
   "cell_type": "code",
   "execution_count": 30,
   "id": "c3244000",
   "metadata": {},
   "outputs": [
    {
     "name": "stdout",
     "output_type": "stream",
     "text": [
      "120\n"
     ]
    }
   ],
   "source": [
    "from functools import reduce\n",
    "print(reduce(lambda x,y : x * y,[1,2,3,4,5]))"
   ]
  },
  {
   "cell_type": "markdown",
   "id": "4162266b",
   "metadata": {},
   "source": [
    "4. 다음 코드를 각각 실행하면 서로 다른 결과가 나온다. 이런 결과가 나오는 이유에 대해 서술하시오."
   ]
  },
  {
   "cell_type": "code",
   "execution_count": 3,
   "id": "ac10e257",
   "metadata": {},
   "outputs": [
    {
     "name": "stdout",
     "output_type": "stream",
     "text": [
      "1 2 3\n"
     ]
    }
   ],
   "source": [
    "a = [1,2,3]\n",
    "print(*a)"
   ]
  },
  {
   "cell_type": "code",
   "execution_count": 4,
   "id": "d5d97b09",
   "metadata": {},
   "outputs": [
    {
     "name": "stdout",
     "output_type": "stream",
     "text": [
      "[1, 2, 3]\n"
     ]
    }
   ],
   "source": [
    "print(a)"
   ]
  },
  {
   "cell_type": "markdown",
   "id": "56f0c62c",
   "metadata": {},
   "source": [
    "a = [1,2,3]\\\n",
    "\\*a = 1, 2, 3 (변수 앞의 별표는 해당 변수를 언패킹함)\\\n",
    "각각의 변수로 존재하는 1, 2, 3으로 변경되는 것\\\n",
    "그러나 그냥 a는 하나의 리스트 속 요소인 1, 2, 3이므로 둘은 엄연히 다름"
   ]
  },
  {
   "cell_type": "markdown",
   "id": "12d9beae",
   "metadata": {},
   "source": [
    "5. 다음 코드의 실행 결과를 쓰시오."
   ]
  },
  {
   "cell_type": "code",
   "execution_count": 5,
   "id": "a03efe61",
   "metadata": {},
   "outputs": [
    {
     "data": {
      "text/plain": [
       "[(1, 2, 3), (4, 5, 6), (7, 8, 9)]"
      ]
     },
     "execution_count": 5,
     "metadata": {},
     "output_type": "execute_result"
    }
   ],
   "source": [
    "def transpose_list(two_dimensional_list):\n",
    "    return [row for row in zip(*two_dimensional_list)]\n",
    "\n",
    "transpose_list([[1,4,7],[2,5,8],[3,6,9]])"
   ]
  },
  {
   "cell_type": "markdown",
   "id": "6146bffa",
   "metadata": {},
   "source": [
    "two_dimensional_list를 언패킹 한 다음, zip() 사용하여 병렬로 묶어줌\\\n",
    "그 묶음 하나 하나 반복문 돌아서 row로 들어간 다음 리스트의 요소들로 저장됨.\\\n",
    "two_dimensional_list = [[1,4,7],[2,5,8],[3,6,9]]\\\n",
    "\\*two_dimensional_list = [1,4,7], [2,5,8], [3,6,9]\\\n",
    "zip한 결과 = (1,2,3), (4,5,6), (7,8,9)\\\n",
    "그 결과를 리스트로 저장해줌 = [(1,2,3), (4,5,6), (7,8,9)]"
   ]
  },
  {
   "cell_type": "markdown",
   "id": "8d77d0e5",
   "metadata": {},
   "source": [
    "6. 다음 코드의 실행 결과를 쓰시오."
   ]
  },
  {
   "cell_type": "code",
   "execution_count": 17,
   "id": "041b920e",
   "metadata": {},
   "outputs": [
    {
     "data": {
      "text/plain": [
       "'2019-9-6'"
      ]
     },
     "execution_count": 17,
     "metadata": {},
     "output_type": "execute_result"
    }
   ],
   "source": [
    "date_info = {'year' : \"2019\", 'month' : \"9\", 'day' : \"6\"}\n",
    "result = \"{year}-{month}-{day}\".format(**date_info)\n",
    "result"
   ]
  },
  {
   "cell_type": "markdown",
   "id": "267db5a4",
   "metadata": {},
   "source": [
    "date_info = {'year':\"2019\",'month':\"9\",'day':\"6\"}\\\n",
    "\\*\\*date_info = 'year':\"2019\", 'month':\"9\", 'day':\"6\"\\\n",
    "year = 2019, month = 9, day = 6\\\n",
    "2019-9-6"
   ]
  },
  {
   "cell_type": "markdown",
   "id": "29dbf7b1",
   "metadata": {},
   "source": [
    "7. 벡터 n개의 크기가 동일한지 확인하는 함수를 한 줄의 코드로 작성하시오."
   ]
  },
  {
   "cell_type": "code",
   "execution_count": 20,
   "id": "7f544c22",
   "metadata": {},
   "outputs": [
    {
     "data": {
      "text/plain": [
       "True"
      ]
     },
     "execution_count": 20,
     "metadata": {},
     "output_type": "execute_result"
    }
   ],
   "source": [
    "matrix_a = [[1, 1], [1, 1]]\n",
    "matrix_b = [[1, 1], [1, 1]]\n",
    "all([row[0] == value for t in zip(matrix_a, matrix_b) for row in zip(*t) for value in row])"
   ]
  },
  {
   "cell_type": "markdown",
   "id": "f319778c",
   "metadata": {},
   "source": [
    "8. 다음과 같은 결과를 얻기 위해 하나의 스칼라값을 벡터에 곱하는 코드를 작성하시오.(단 입력되는 벡터의 크기는 일정하지 않음)"
   ]
  },
  {
   "cell_type": "code",
   "execution_count": 23,
   "id": "b567f77a",
   "metadata": {},
   "outputs": [
    {
     "name": "stdout",
     "output_type": "stream",
     "text": [
      "[5, 10, 15, 20]\n"
     ]
    }
   ],
   "source": [
    "def scalar_vector_product(alpha, v):\n",
    "    result = [alpha * vector for vector in v]\n",
    "    print(result)\n",
    "    \n",
    "scalar_vector_product(5, [1,2,3,4])\n",
    "# [5, 10, 15, 20] 스칼라 - 행렬 곱 (스칼라 - 벡터 연산)"
   ]
  },
  {
   "cell_type": "markdown",
   "id": "47694cfd",
   "metadata": {},
   "source": [
    "9. 다음과 같이 2개 이상의 행렬을 더하는 코드를 작성하시오."
   ]
  },
  {
   "cell_type": "code",
   "execution_count": 59,
   "id": "0dc1fd2e",
   "metadata": {},
   "outputs": [
    {
     "name": "stdout",
     "output_type": "stream",
     "text": [
      "[[4, 9], [7, 4]]\n"
     ]
    }
   ],
   "source": [
    "def matrix_addition(m1, m2):\n",
    "    result = [[sum(row) for row in zip(*t)] for t in zip(m1, m2)]\n",
    "    print(result)\n",
    "\n",
    "matrix_y = [[2, 5], [2, 1]]\n",
    "matrix_z = [[2, 4], [5, 3]]\n",
    "matrix_addition(matrix_y, matrix_z)\n",
    "#[[4, 9], [7, 4]]"
   ]
  },
  {
   "cell_type": "markdown",
   "id": "7d30c2ce",
   "metadata": {},
   "source": [
    "10. 다음과 같이 2개 이상의 벡터를 빼는 코드를 작성하시오."
   ]
  },
  {
   "cell_type": "code",
   "execution_count": 100,
   "id": "7475ee62",
   "metadata": {},
   "outputs": [],
   "source": [
    "def vector_subtraction(v1, v2):\n",
    "    result = [a - b for a, b in zip(v1, v2)]\n",
    "    return result"
   ]
  },
  {
   "cell_type": "code",
   "execution_count": 101,
   "id": "8decf91f",
   "metadata": {},
   "outputs": [
    {
     "name": "stdout",
     "output_type": "stream",
     "text": [
      "[-1, -1]\n"
     ]
    }
   ],
   "source": [
    "print(vector_subtraction([1, 3], [2, 4]))\n",
    "#[-1, -1]"
   ]
  },
  {
   "cell_type": "code",
   "execution_count": null,
   "id": "274a6fd2",
   "metadata": {},
   "outputs": [],
   "source": [
    "def vector_subtraction(v1, *v2):\n",
    "    a, b = *v2\n",
    "    matrix_addition(a, b)\n",
    "    result = [a - b for a, b in zip(v1, v2)]\n",
    "    return result"
   ]
  },
  {
   "cell_type": "code",
   "execution_count": 97,
   "id": "87590d5e",
   "metadata": {},
   "outputs": [
    {
     "ename": "TypeError",
     "evalue": "vector_subtraction() takes 2 positional arguments but 3 were given",
     "output_type": "error",
     "traceback": [
      "\u001b[1;31m---------------------------------------------------------------------------\u001b[0m",
      "\u001b[1;31mTypeError\u001b[0m                                 Traceback (most recent call last)",
      "\u001b[1;32m~\\AppData\\Local\\Temp/ipykernel_11248/701105067.py\u001b[0m in \u001b[0;36m<module>\u001b[1;34m\u001b[0m\n\u001b[1;32m----> 1\u001b[1;33m \u001b[0mprint\u001b[0m\u001b[1;33m(\u001b[0m\u001b[0mvector_subtraction\u001b[0m\u001b[1;33m(\u001b[0m\u001b[1;33m[\u001b[0m\u001b[1;36m1\u001b[0m\u001b[1;33m,\u001b[0m \u001b[1;36m5\u001b[0m\u001b[1;33m]\u001b[0m\u001b[1;33m,\u001b[0m \u001b[1;33m[\u001b[0m\u001b[1;36m10\u001b[0m\u001b[1;33m,\u001b[0m \u001b[1;36m4\u001b[0m\u001b[1;33m]\u001b[0m\u001b[1;33m,\u001b[0m \u001b[1;33m[\u001b[0m\u001b[1;36m4\u001b[0m\u001b[1;33m,\u001b[0m \u001b[1;36m7\u001b[0m\u001b[1;33m]\u001b[0m\u001b[1;33m)\u001b[0m\u001b[1;33m)\u001b[0m\u001b[1;33m\u001b[0m\u001b[1;33m\u001b[0m\u001b[0m\n\u001b[0m\u001b[0;32m      2\u001b[0m \u001b[1;31m# [-13, -6]\u001b[0m\u001b[1;33m\u001b[0m\u001b[1;33m\u001b[0m\u001b[0m\n",
      "\u001b[1;31mTypeError\u001b[0m: vector_subtraction() takes 2 positional arguments but 3 were given"
     ]
    }
   ],
   "source": [
    "print(vector_subtraction([1, 5], [10, 4], [4, 7]))\n",
    "# [-13, -6]"
   ]
  }
 ],
 "metadata": {
  "kernelspec": {
   "display_name": "Python 3 (ipykernel)",
   "language": "python",
   "name": "python3"
  },
  "language_info": {
   "codemirror_mode": {
    "name": "ipython",
    "version": 3
   },
   "file_extension": ".py",
   "mimetype": "text/x-python",
   "name": "python",
   "nbconvert_exporter": "python",
   "pygments_lexer": "ipython3",
   "version": "3.9.7"
  }
 },
 "nbformat": 4,
 "nbformat_minor": 5
}
