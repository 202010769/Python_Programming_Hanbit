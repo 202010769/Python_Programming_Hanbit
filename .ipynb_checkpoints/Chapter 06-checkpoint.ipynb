{
 "cells": [
  {
   "cell_type": "markdown",
   "id": "9a947a60",
   "metadata": {},
   "source": [
    "**1. 다음 코드의 실행 결과로 알맞은 것은?**"
   ]
  },
  {
   "cell_type": "markdown",
   "id": "5eda240b",
   "metadata": {},
   "source": [
    "3번 ab"
   ]
  },
  {
   "cell_type": "code",
   "execution_count": 1,
   "id": "708d49ef",
   "metadata": {},
   "outputs": [
    {
     "name": "stdout",
     "output_type": "stream",
     "text": [
      "ab\n"
     ]
    }
   ],
   "source": [
    "a = 11\n",
    "b = 9\n",
    "\n",
    "print('a' + 'b')"
   ]
  },
  {
   "cell_type": "markdown",
   "id": "84a29b9a",
   "metadata": {},
   "source": [
    "위에 11과 9의 값을 할당받은 a, b와 print() 함수 안에 있는 문자열 'a','b'는 관련이 없다.\\\n",
    "이는 그냥 문자열의 덧셈을 보여준 것"
   ]
  },
  {
   "cell_type": "markdown",
   "id": "aaf89e36",
   "metadata": {},
   "source": [
    "**2. 다음 코드의 실행 결과로 알맞은 것은?**"
   ]
  },
  {
   "cell_type": "markdown",
   "id": "677c7522",
   "metadata": {},
   "source": [
    "2번 21"
   ]
  },
  {
   "cell_type": "code",
   "execution_count": 3,
   "id": "0b0a9910",
   "metadata": {},
   "outputs": [
    {
     "name": "stdout",
     "output_type": "stream",
     "text": [
      "21\n"
     ]
    }
   ],
   "source": [
    "fact = \"Python is funny\"\n",
    "\n",
    "print(str(fact.count('n') + fact.find('n') + fact.rfind('n')))"
   ]
  },
  {
   "cell_type": "markdown",
   "id": "7f15e396",
   "metadata": {},
   "source": [
    "count() : 해당 문자가 문자열에 몇 개 포함되어있는지\\\n",
    "find() : 해당 문자가 몇 번째 위치에 있는지(제일 처음 발견된 위치)\\\n",
    "rfind() : 해당 문자가 몇 번째 위치에 있는지(오른쪽에서부터 제일 처음 발견된 위치)\\\n",
    "3 + 5 + 13 = 21"
   ]
  },
  {
   "cell_type": "markdown",
   "id": "15776d4a",
   "metadata": {},
   "source": [
    "**3. 다음 코드의 실행 결과로 알맞은 것은?**"
   ]
  },
  {
   "cell_type": "markdown",
   "id": "063173aa",
   "metadata": {},
   "source": [
    "1번 Gachon Human"
   ]
  },
  {
   "cell_type": "code",
   "execution_count": 4,
   "id": "826967f7",
   "metadata": {},
   "outputs": [
    {
     "name": "stdout",
     "output_type": "stream",
     "text": [
      "Gachon Human\n"
     ]
    }
   ],
   "source": [
    "text = 'Gachon CS50 - programming with python'\n",
    "text2 = \" Human cs50 knowledge belongs to the world \"\n",
    "\n",
    "text.lower()\n",
    "\n",
    "print(text[:5] + text[-1] + text[6] + text2.split()[0])"
   ]
  },
  {
   "cell_type": "markdown",
   "id": "3821d7df",
   "metadata": {},
   "source": [
    "text[:5] = Gacho\\\n",
    "text[-1] = n\\\n",
    "text[6] = \" \"\\\n",
    "text2.split()[0] = Human\\\n",
    "split() 함수는 ()안에 들어있는 것 기준으로 문자열을 나눔\\\n",
    "Gachon Human"
   ]
  },
  {
   "cell_type": "markdown",
   "id": "396cd5b3",
   "metadata": {},
   "source": [
    "**4. 다음 코드의 실행 결과로 알맞은 것은?**"
   ]
  },
  {
   "cell_type": "code",
   "execution_count": 5,
   "id": "dbdaf466",
   "metadata": {},
   "outputs": [
    {
     "name": "stdout",
     "output_type": "stream",
     "text": [
      "introduction programming with python\n"
     ]
    }
   ],
   "source": [
    "class_name = 'introduction programming with python'\n",
    "\n",
    "for i in class_name:\n",
    "    if i == 'python':\n",
    "        i = i.upper()\n",
    "\n",
    "print(class_name)"
   ]
  },
  {
   "cell_type": "markdown",
   "id": "6750af0a",
   "metadata": {},
   "source": [
    "**5. 다음 코드의 실행 결과를 쓰시오.**"
   ]
  },
  {
   "cell_type": "code",
   "execution_count": 6,
   "id": "80f70fa5",
   "metadata": {},
   "outputs": [
    {
     "name": "stdout",
     "output_type": "stream",
     "text": [
      "1010102\n"
     ]
    }
   ],
   "source": [
    "a = '10'\n",
    "b = '5-2'.split('-')[1]\n",
    "\n",
    "print(a * 3 + b)"
   ]
  },
  {
   "cell_type": "markdown",
   "id": "388543dd",
   "metadata": {},
   "source": [
    "**6. 다음 코드의 실행 결과를 쓰시오.**"
   ]
  },
  {
   "cell_type": "code",
   "execution_count": 7,
   "id": "8a114753",
   "metadata": {},
   "outputs": [
    {
     "name": "stdout",
     "output_type": "stream",
     "text": [
      "REMEMBER 0 4 16\n"
     ]
    }
   ],
   "source": [
    "name = \"Hanbit\"\n",
    "a = name.find(\"H\")\n",
    "b = name.count(\"H\") * 4\n",
    "c = len(name) * 2 + 4\n",
    "print(\"REMEMBER\", str(a), str(b), str(c))"
   ]
  },
  {
   "cell_type": "markdown",
   "id": "9bd5f47d",
   "metadata": {},
   "source": [
    "**7. 다음 코드의 실행 결과를 쓰시오.**"
   ]
  },
  {
   "cell_type": "code",
   "execution_count": 8,
   "id": "f8765c22",
   "metadata": {},
   "outputs": [
    {
     "name": "stdout",
     "output_type": "stream",
     "text": [
      "aa\n"
     ]
    }
   ],
   "source": [
    "a = \"abcd e f g\"\n",
    "b = a.split()\n",
    "c = (a[:3][0])\n",
    "d = (b[:3][0][0])\n",
    "\n",
    "print(c + d)"
   ]
  },
  {
   "cell_type": "markdown",
   "id": "286f96c4",
   "metadata": {},
   "source": [
    "**8. 다음 코드의 실행 결과가 다음과 같이 나올 수 있도록 빈칸에 코드를 작성하시오.**"
   ]
  },
  {
   "cell_type": "code",
   "execution_count": 11,
   "id": "8da2653f",
   "metadata": {},
   "outputs": [
    {
     "name": "stdout",
     "output_type": "stream",
     "text": [
      "I eat 10 oranges every day.\n",
      "I eat 10 oranges every three days.\n"
     ]
    }
   ],
   "source": [
    "number = 10\n",
    "day = 3\n",
    "print(\"I eat %d oranges every day.\" %number)\n",
    "\n",
    "number = 10\n",
    "day = \"three\"\n",
    "print(\"I eat %d oranges every %s days.\" %(number, day))"
   ]
  },
  {
   "cell_type": "markdown",
   "id": "30d27205",
   "metadata": {},
   "source": [
    "**9. 다음 코드의 실행 결과를 쓰시오.**"
   ]
  },
  {
   "cell_type": "code",
   "execution_count": 12,
   "id": "d37f2c9a",
   "metadata": {},
   "outputs": [
    {
     "name": "stdout",
     "output_type": "stream",
     "text": [
      "8,1\n"
     ]
    }
   ],
   "source": [
    "result = \"CODE2018\"\n",
    "print(\"{0},{1}\". format(result[-1], result[-2]))"
   ]
  },
  {
   "cell_type": "markdown",
   "id": "ef0d6870",
   "metadata": {},
   "source": [
    "**10. 다음 코드의 실행 결과가 다음과 같이 나올 수 있도록 빈칸에 코드를 작성하시오.**"
   ]
  },
  {
   "cell_type": "code",
   "execution_count": 15,
   "id": "1c01d884",
   "metadata": {},
   "outputs": [
    {
     "name": "stdout",
     "output_type": "stream",
     "text": [
      "This Is PYTHON\n"
     ]
    }
   ],
   "source": [
    "str_a = \"this is\"\n",
    "str_b = \"PythoN\"\n",
    "print(str_a.title() + \" \" + str_b.upper())"
   ]
  },
  {
   "cell_type": "markdown",
   "id": "e821a872",
   "metadata": {},
   "source": [
    "**11. 다음 중 문자열 함수의 설명으로 틀린 것은?**"
   ]
  },
  {
   "cell_type": "markdown",
   "id": "a8ec463d",
   "metadata": {},
   "source": [
    "3번 strip()"
   ]
  },
  {
   "cell_type": "markdown",
   "id": "76ea0566",
   "metadata": {},
   "source": [
    "1) capitalize(): 첫 문자를 대문자로 변환한다.\\\n",
    "2) title(): 각 단어의 앞 글자만 대문자로 변환한다.\\\n",
    "3) strip(): 공백을 기준으로 나눠 리스트를 반환한다. -> X strip()은 좌우 공백 삭제. 설명은 split()을 의미함\\\n",
    "4) isdigit(): 문자열이 숫자인지의 여부를 반환한다.\\\n",
    "5) upper(): 문자를 대문자로 변환한다."
   ]
  },
  {
   "cell_type": "code",
   "execution_count": null,
   "id": "62da6780",
   "metadata": {},
   "outputs": [],
   "source": [
    "for i in range(1,7):\n",
    "    for j in range(7-i):\n",
    "        print(\" \", end=\"\")\n",
    "    for j in range(2*i-1):\n",
    "        print(\"*\", end=\"\")\n",
    "    print()"
   ]
  }
 ],
 "metadata": {
  "kernelspec": {
   "display_name": "Python 3 (ipykernel)",
   "language": "python",
   "name": "python3"
  },
  "language_info": {
   "codemirror_mode": {
    "name": "ipython",
    "version": 3
   },
   "file_extension": ".py",
   "mimetype": "text/x-python",
   "name": "python",
   "nbconvert_exporter": "python",
   "pygments_lexer": "ipython3",
   "version": "3.9.6"
  }
 },
 "nbformat": 4,
 "nbformat_minor": 5
}
