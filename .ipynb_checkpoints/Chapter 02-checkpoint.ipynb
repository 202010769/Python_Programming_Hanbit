{
 "cells": [
  {
   "cell_type": "markdown",
   "id": "bd780f5d",
   "metadata": {},
   "source": [
    "# Chapter 02. 변수와 자료형 "
   ]
  },
  {
   "cell_type": "markdown",
   "id": "04a18ff7",
   "metadata": {},
   "source": [
    "## 01. 변수의 이해"
   ]
  },
  {
   "cell_type": "markdown",
   "id": "47e81a93",
   "metadata": {},
   "source": [
    "### <1> 변수와 값"
   ]
  },
  {
   "cell_type": "code",
   "execution_count": 1,
   "id": "388f5b87",
   "metadata": {},
   "outputs": [
    {
     "name": "stdout",
     "output_type": "stream",
     "text": [
      "Sungchul Choi\n"
     ]
    }
   ],
   "source": [
    "professor = 'Sungchul Choi'\n",
    "print(professor)"
   ]
  },
  {
   "cell_type": "markdown",
   "id": "19e14005",
   "metadata": {},
   "source": [
    "일반적으로 생각할 때 '=' 기호는 '~와 같다'로 여길 수 있다.\n",
    "\n",
    "하지만 프로그래밍에서는 **\"*professor*라는 공간에 *Sungchul Choi*라는 글자를 넣어라.\"**로 해석할 수 있다.\n",
    "\n",
    "-> 정확하게는 ***professor*라는 변수에 *Sungchul Choi*라는 값을 넣으라는 뜻**"
   ]
  },
  {
   "cell_type": "markdown",
   "id": "84c48821",
   "metadata": {},
   "source": [
    "### <2> 변수와 메모리"
   ]
  },
  {
   "cell_type": "markdown",
   "id": "32a632e6",
   "metadata": {},
   "source": [
    "### <3> 변수명 선언"
   ]
  },
  {
   "cell_type": "markdown",
   "id": "391debaa",
   "metadata": {},
   "source": [
    "## 02. 자료형과 기본 연산"
   ]
  },
  {
   "cell_type": "markdown",
   "id": "57b49279",
   "metadata": {},
   "source": [
    "### <1> 메모리 공간"
   ]
  },
  {
   "cell_type": "markdown",
   "id": "51b01960",
   "metadata": {},
   "source": [
    "### <2> 기본 자료형"
   ]
  },
  {
   "cell_type": "markdown",
   "id": "a7dc65ed",
   "metadata": {},
   "source": [
    "### <3> 간단한 연산"
   ]
  },
  {
   "cell_type": "markdown",
   "id": "42b5c47a",
   "metadata": {},
   "source": [
    "## 03. 자료형 변환"
   ]
  },
  {
   "cell_type": "markdown",
   "id": "f7c1f1a1",
   "metadata": {},
   "source": [
    "### <1> 정수형과 실수형 간 변환"
   ]
  },
  {
   "cell_type": "markdown",
   "id": "fcbe049f",
   "metadata": {},
   "source": [
    "### <2> 숫자형과 문자형 간 변환"
   ]
  },
  {
   "cell_type": "markdown",
   "id": "0d00e661",
   "metadata": {},
   "source": [
    "### <3> 자료형 확인하기"
   ]
  }
 ],
 "metadata": {
  "kernelspec": {
   "display_name": "Python 3 (ipykernel)",
   "language": "python",
   "name": "python3"
  },
  "language_info": {
   "codemirror_mode": {
    "name": "ipython",
    "version": 3
   },
   "file_extension": ".py",
   "mimetype": "text/x-python",
   "name": "python",
   "nbconvert_exporter": "python",
   "pygments_lexer": "ipython3",
   "version": "3.9.6"
  }
 },
 "nbformat": 4,
 "nbformat_minor": 5
}
