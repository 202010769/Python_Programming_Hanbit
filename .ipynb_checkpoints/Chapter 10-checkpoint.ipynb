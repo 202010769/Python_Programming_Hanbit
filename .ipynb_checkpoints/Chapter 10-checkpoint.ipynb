{
 "cells": [
  {
   "cell_type": "markdown",
   "id": "f85d13ee",
   "metadata": {},
   "source": [
    "1. 파이썬의 클래스와 객체 지향 프로그래밍에 대한 설명으로 틀린 것은?"
   ]
  },
  {
   "cell_type": "markdown",
   "id": "6593f5f3",
   "metadata": {},
   "source": [
    "1) 클래스에서 상속은 부모 클래스로부터 속성과 메서드를 물려받은 자식 클래스를 생성하는 것을 말한다.\n",
    "-> O\n",
    "\n",
    "2) 클래스에서 __init__() 함수는 객체 초기화 예약 함수이다.\n",
    "-> O\n",
    "\n",
    "3) 객체 지향 프로그래밍에서 속성은 값(variable)으로, 행동은 메서드(method)로 표현된다.\n",
    "-> O\n",
    "\n",
    "4) 클래스에서 함수(function) 추가는 기존 함수의 사용법과 동일하다\n",
    "-> X self를 매개변수에 반드시 넣어야 함\n",
    "\n",
    "5) 다형성은 같은 이름의 메서드의 내부 로직을 다르게 작성하는 것을 말하며, 같은 부모 클래스를 상속하는 과정에서 주로 발생한다.\n",
    "-> O"
   ]
  },
  {
   "cell_type": "markdown",
   "id": "f185837e",
   "metadata": {},
   "source": [
    "2. 다음 코드의 실행 결과를 쓰시오."
   ]
  },
  {
   "cell_type": "code",
   "execution_count": 1,
   "id": "9838309f",
   "metadata": {},
   "outputs": [
    {
     "name": "stdout",
     "output_type": "stream",
     "text": [
      "Korean\n",
      "English\n",
      "I'm Groot!\n"
     ]
    }
   ],
   "source": [
    "class Person(object):\n",
    "    def __init__(self, name):\n",
    "        self.name = name\n",
    "        \n",
    "    def language(self):\n",
    "        pass\n",
    "\n",
    "class Earthling(Person):\n",
    "    def language(self, language): # 다형성\n",
    "        return language\n",
    "\n",
    "class Groot(Person):\n",
    "    def language(self, language): # 다형성\n",
    "        return \"I'm Groot!\"\n",
    "    \n",
    "name = ['Gachon', 'Dr.Strange', 'Groot']\n",
    "country = ['Korea', 'USA', 'Galaxy']\n",
    "language = ['Korean', 'English', 'Groot']\n",
    "\n",
    "for idx, name in enumerate(name): # enumerate 사용해서 name값에 인덱스 붙여줌 \n",
    "    if country[idx].upper() != 'GALAXY': # country 리스트의 해당 인덱스 값을 전부 대문자로 한 값이 GALAXY가 아닐 때, Earthling 객체 생성, language 반환\n",
    "        person = Earthling(name)\n",
    "        print(person.language(language[idx])) \n",
    "    \n",
    "    else:\n",
    "        groot = Groot(name) # country 리스트의 해당 인덱스 값을 전부 대문자로 한 값이 GALAXY일 때, Groot 객체 생성, i'm Groot! 출력\n",
    "        print(groot.language(language[idx]))"
   ]
  },
  {
   "cell_type": "markdown",
   "id": "02c9917f",
   "metadata": {},
   "source": [
    "3. 다음과 같은 2개의 파일이 있다. 'main.py'를 실행하였을 때 나오는 결과로 알맞은 것은?"
   ]
  },
  {
   "cell_type": "code",
   "execution_count": 2,
   "id": "aff3a17b",
   "metadata": {},
   "outputs": [
    {
     "name": "stdout",
     "output_type": "stream",
     "text": [
      "Writing factorial_calculator.py\n"
     ]
    }
   ],
   "source": [
    "%%writefile factorial_calculator.py\n",
    "def factorial(n):\n",
    "    if n == 0:\n",
    "        return 1\n",
    "    else:\n",
    "        return (n * factorial(n-1))"
   ]
  },
  {
   "cell_type": "code",
   "execution_count": 3,
   "id": "6e9b9518",
   "metadata": {},
   "outputs": [
    {
     "name": "stdout",
     "output_type": "stream",
     "text": [
      "Writing main.py\n"
     ]
    }
   ],
   "source": [
    "%%writefile main.py\n",
    "from factorial_calculator import factorial\n",
    "print(factorial_calculator.factorial(6))"
   ]
  },
  {
   "cell_type": "code",
   "execution_count": 4,
   "id": "45905b70",
   "metadata": {},
   "outputs": [
    {
     "name": "stderr",
     "output_type": "stream",
     "text": [
      "Traceback (most recent call last):\n",
      "  File \"D:\\GitHub\\Python_Programming_Hanbit\\main.py\", line 2, in <module>\n",
      "    print(factorial_calculator.factorial(6))\n",
      "NameError: name 'factorial_calculator' is not defined\n"
     ]
    }
   ],
   "source": [
    "!main.py"
   ]
  },
  {
   "cell_type": "markdown",
   "id": "c1a61574",
   "metadata": {},
   "source": [
    "4. 다음 코드의 실행 결과를 쓰시오."
   ]
  },
  {
   "cell_type": "code",
   "execution_count": 5,
   "id": "637b9109",
   "metadata": {},
   "outputs": [
    {
     "name": "stdout",
     "output_type": "stream",
     "text": [
      "현재 선수의 등번호는: 10\n",
      "현재 선수의 등번호는: 5\n"
     ]
    }
   ],
   "source": [
    "class SoccerPlayer(object):\n",
    "    def __init__(self, name, position, back_number):\n",
    "        self.name = name\n",
    "        self.position = position\n",
    "        self.back_number = back_number\n",
    "    \n",
    "    def change_back_number(self, back_number):\n",
    "        self.back_number = back_number\n",
    "        \n",
    "jinhyun = SoccerPlayer(\"jinhyun\", \"MF\", 10)\n",
    "print(\"현재 선수의 등번호는:\", jinhyun.back_number)\n",
    "jinhyun.change_back_number(5)\n",
    "print(\"현재 선수의 등번호는:\", jinhyun.back_number)"
   ]
  },
  {
   "cell_type": "markdown",
   "id": "6d5f74e4",
   "metadata": {},
   "source": [
    "5. 다음과 같은 코드는 객체 지향 프로그램의 어떤 특징을 보여 주는지 모두 고르시오."
   ]
  },
  {
   "cell_type": "code",
   "execution_count": 6,
   "id": "616b46c2",
   "metadata": {},
   "outputs": [],
   "source": [
    "class Class(object):\n",
    "    def __init__(self, name, score):\n",
    "        self.name = name\n",
    "        self.score = score\n",
    "        \n",
    "class Math(Class):\n",
    "    def say():\n",
    "        print(\"힘내\")"
   ]
  },
  {
   "cell_type": "markdown",
   "id": "477148e5",
   "metadata": {},
   "source": [
    "6. 다음 (가)와 (나)에 들어갈 알맞은 단어를 쓰시오."
   ]
  },
  {
   "cell_type": "markdown",
   "id": "118d75dd",
   "metadata": {},
   "source": [
    "붕어빵틀(가) -> 클래스\\\n",
    "붕어빵(나) -> 인스턴스"
   ]
  },
  {
   "cell_type": "markdown",
   "id": "379945cb",
   "metadata": {},
   "source": [
    "7. 다음 코드의 실행 결과를 쓰시오."
   ]
  },
  {
   "cell_type": "code",
   "execution_count": 7,
   "id": "d9b93106",
   "metadata": {},
   "outputs": [
    {
     "name": "stdout",
     "output_type": "stream",
     "text": [
      "My name is Thanos and my weapon is infinity gauntlet.\n"
     ]
    }
   ],
   "source": [
    "class Marvel(object):\n",
    "    def __init__(self, name, characteristic):\n",
    "        self.name = name\n",
    "        self.characteristic = characteristic\n",
    "    def __str__(self):\n",
    "        return \"My name is {0} and my weapon is {1}.\".format(self.name, self.characteristic)\n",
    "\n",
    "class Villain(Marvel):\n",
    "    pass\n",
    "\n",
    "first_villain = Villain(\"Thanos\", \"infinity gauntlet\")\n",
    "print(first_villain)"
   ]
  },
  {
   "cell_type": "markdown",
   "id": "9df59f03",
   "metadata": {},
   "source": [
    "8. 제시된 코드를 참고하여 질문에 답하라."
   ]
  },
  {
   "cell_type": "code",
   "execution_count": 8,
   "id": "875477fd",
   "metadata": {},
   "outputs": [
    {
     "name": "stdout",
     "output_type": "stream",
     "text": [
      "LG에서 만든 2019년형 32인치 TV\n",
      "Samsung에서 만든 2018년형 15인치 노트북\n"
     ]
    }
   ],
   "source": [
    "class TV(object):\n",
    "    def __init__(self, size, year, company):\n",
    "        self.size = size\n",
    "        self.year = year\n",
    "        self.company = company\n",
    "    def describe(self):\n",
    "        print(self.company + \"에서 만든 \" + self.year + \"년형 \" + self.size + \"인치 \" + \"TV\")\n",
    "    \n",
    "class Laptop(TV):\n",
    "    def describe(self):\n",
    "        print(self.company + \"에서 만든 \" + self.year + \"년형 \" + self.size + \"인치 \" + \"노트북\")\n",
    "        \n",
    "LG_TV = TV(\"32\", \"2019\", \"LG\")\n",
    "LG_TV.describe()\n",
    "\n",
    "samsung_microwave = Laptop(\"15\", \"2018\", \"Samsung\")\n",
    "samsung_microwave.describe()"
   ]
  },
  {
   "cell_type": "markdown",
   "id": "1aa99bcd",
   "metadata": {},
   "source": [
    "8-1. 코드의 출력 결과를 차례대로 쓰시오."
   ]
  },
  {
   "cell_type": "markdown",
   "id": "7c82272b",
   "metadata": {},
   "source": [
    "8-2. TV 클래스와 Labtop 클래스의 관계에 대한 설명이다. 빈칸에 알맞은 단어를 넣으시오."
   ]
  },
  {
   "cell_type": "markdown",
   "id": "9623f7eb",
   "metadata": {},
   "source": [
    "위 코드에서 Laptop 클래스는 TV 클래스를((가) - 상속)하였다. 또한, 같은 이름의 내부 로직을 다르게 작성했으므로 ((나) - 다형성)의 사례로도 볼 수 있다."
   ]
  },
  {
   "cell_type": "markdown",
   "id": "ccd340f7",
   "metadata": {},
   "source": [
    "9. 제시된 코드를 참고하여 질문에 답하라."
   ]
  },
  {
   "cell_type": "code",
   "execution_count": 11,
   "id": "8d7cfcf0",
   "metadata": {},
   "outputs": [
    {
     "name": "stdout",
     "output_type": "stream",
     "text": [
      "이름 : John\n",
      "나이 : 22\n",
      "직위 : 연구원\n",
      "저는 가천대학교 연구소 연구원 John입니다. 나이는 22입니다.\n",
      "저는 학사 입니다.\n",
      "==================================================\n",
      "이름 : Tedd\n",
      "나이 : 40\n",
      "직위 : 소장\n",
      "저는 가천대학교 연구소 소장 Tedd입니다. 나이는 40입니다.\n",
      "저는 박사 입니다.\n"
     ]
    }
   ],
   "source": [
    "class Person:\n",
    "    def __init__(self, name, age, position):\n",
    "        self.Name = name\n",
    "        self.Age = age\n",
    "        self.Position = position\n",
    "    def show_info(self):\n",
    "        print('이름 : {}'.format(self.Name))\n",
    "        print('나이 : {}'.format(self.Age))\n",
    "        print('직위 : {}'.format(self.Position))\n",
    "        print(\"저는 가천대학교 연구소 {0} {1}입니다. 나이는 {2}입니다.\".format(self.Position, self.Name, self.Age))\n",
    "        \n",
    "class Researcher(Person):\n",
    "    def __init__(self, name, age, position, degree):\n",
    "        Person.__init__(self, name, age, position)\n",
    "        self.Degree = degree\n",
    "    def show_info(self):\n",
    "        Person.show_info(self)\n",
    "        print(\"저는 {} 입니다.\".format(self.Degree))\n",
    "        \n",
    "if __name__ == '__main__':\n",
    "    researcher_john = Researcher(\"John\", \"22\", \"연구원\", \"학사\")\n",
    "    researcher_tedd = Researcher(\"Tedd\", \"40\", \"소장\", \"박사\")\n",
    "    researcher_john.show_info()\n",
    "    print(\"=\"*50)\n",
    "    researcher_tedd.show_info()"
   ]
  },
  {
   "cell_type": "markdown",
   "id": "aab537f2",
   "metadata": {},
   "source": [
    "9-1. 코드의 출력 결과를 차례대로 쓰시오."
   ]
  },
  {
   "cell_type": "markdown",
   "id": "b14ea7c8",
   "metadata": {},
   "source": [
    "9-2. Person 클래스와 Researcher 클래스는 파이썬 클래스의 어떤 속성을 보여 주는가?\n",
    "\n",
    "-> 상속, 다형성"
   ]
  },
  {
   "cell_type": "markdown",
   "id": "828b2630",
   "metadata": {},
   "source": [
    "10. 다음 코드의 실행 결과를 쓰시오."
   ]
  },
  {
   "cell_type": "code",
   "execution_count": 12,
   "id": "e94fca82",
   "metadata": {},
   "outputs": [
    {
     "name": "stdout",
     "output_type": "stream",
     "text": [
      "None F 72.0 F\n"
     ]
    }
   ],
   "source": [
    "class Score:\n",
    "    def __init__(self, student):\n",
    "        tmp = student.split(\",\")\n",
    "        self.name = tmp[0]\n",
    "        self.midterm = int(tmp[1])\n",
    "        self.final = int(tmp[2])\n",
    "        self.assignment = int(tmp[3])\n",
    "        self.score = None\n",
    "        self.grade = None\n",
    "    \n",
    "    def total_score(self):\n",
    "        test_score = ((self.midterm + self.final)/2)*0.8\n",
    "        \n",
    "        if self.assignment >= 3:\n",
    "            assign_score = 20\n",
    "        elif self.assignment >= 2:\n",
    "            assign_score = 10\n",
    "        elif self.assignment >= 1:\n",
    "            assign_score = 5\n",
    "        else:\n",
    "            assign_score = 0\n",
    "        \n",
    "        self.score = test_score + assign_score\n",
    "    \n",
    "    def total_grade(self):\n",
    "        if self.assignment==0:\n",
    "            grade = \"F\"\n",
    "        elif self.score >= 90:\n",
    "            grade = \"A\"\n",
    "        elif self.score >=70:\n",
    "            grade = \"B\"\n",
    "        elif self.score >= 60:\n",
    "            grade = \"C\"\n",
    "        else:\n",
    "            grade = \"F\"\n",
    "        \n",
    "        self.grade = grade\n",
    "        return grade\n",
    "\n",
    "student_john = Score(\"john,90,90,0\")\n",
    "aa = student_john.total_score()\n",
    "bb = student_john.total_grade()\n",
    "print(aa,bb,student_john.score,student_john.grade)"
   ]
  },
  {
   "cell_type": "markdown",
   "id": "086f692c",
   "metadata": {},
   "source": [
    "11. 다음 코드의 실행 결과를 쓰시오."
   ]
  },
  {
   "cell_type": "code",
   "execution_count": 13,
   "id": "d23168ca",
   "metadata": {},
   "outputs": [
    {
     "name": "stdout",
     "output_type": "stream",
     "text": [
      "아이스크림을 레인보우 샤베트에서 바람과 함께 사라지다로 변경해주세요.\n",
      "아이스크림 맛을 바람과 함께 사라지다로 변경해드렸어요.\n"
     ]
    }
   ],
   "source": [
    "class IceCream(object):\n",
    "    def __init__(self, flavor):\n",
    "        self.flavor = flavor\n",
    "    def change_flavor(self, new_flavor):\n",
    "        print('아이스크림을 %s에서 %s로 변경해주세요.' %(self.flavor, new_flavor))\n",
    "        self.flavor = new_flavor\n",
    "        print('아이스크림 맛을 %s로 변경해드렸어요.' %self.flavor)\n",
    "\n",
    "ice_cream = IceCream('레인보우 샤베트')\n",
    "ice_cream.change_flavor('바람과 함께 사라지다')"
   ]
  },
  {
   "cell_type": "markdown",
   "id": "56a451fa",
   "metadata": {},
   "source": [
    "12. 다음 코드의 실행 결과를 쓰시오."
   ]
  },
  {
   "cell_type": "code",
   "execution_count": 14,
   "id": "cd546e23",
   "metadata": {},
   "outputs": [
    {
     "name": "stdout",
     "output_type": "stream",
     "text": [
      "Mineral: 72\n"
     ]
    }
   ],
   "source": [
    "class Terran(object):\n",
    "    def __init__(self, mineral):\n",
    "        self.scv = 4\n",
    "        self.marine = 0\n",
    "        self.medic = 0\n",
    "        self.mineral = mineral\n",
    "    def command(self, SCV=False):\n",
    "        self.mineral += 8*self.scv\n",
    "        if SCV:\n",
    "            self.scv += 1\n",
    "            self.mineral -= 10\n",
    "    def barrack(self, Marine=False, Medic=False):\n",
    "        self.mineral += 8*self.scv\n",
    "        if Marine:\n",
    "            self.marine += 1\n",
    "            self.mineral -= 15\n",
    "        if Medic:\n",
    "            self.medic += 1\n",
    "            self.mineral -= 25\n",
    "    def check_source(self):\n",
    "        print('Mineral: '+str(self.mineral))\n",
    "        \n",
    "User = Terran(50)\n",
    "User.command(True)\n",
    "User.barrack(True, True)\n",
    "User.check_source()"
   ]
  }
 ],
 "metadata": {
  "kernelspec": {
   "display_name": "Python 3 (ipykernel)",
   "language": "python",
   "name": "python3"
  },
  "language_info": {
   "codemirror_mode": {
    "name": "ipython",
    "version": 3
   },
   "file_extension": ".py",
   "mimetype": "text/x-python",
   "name": "python",
   "nbconvert_exporter": "python",
   "pygments_lexer": "ipython3",
   "version": "3.9.6"
  }
 },
 "nbformat": 4,
 "nbformat_minor": 5
}
